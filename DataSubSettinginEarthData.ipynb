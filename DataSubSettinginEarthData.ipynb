{
  "nbformat": 4,
  "nbformat_minor": 0,
  "metadata": {
    "colab": {
      "name": "DataSubSettinginEarthData.ipynb",
      "provenance": [],
      "collapsed_sections": [],
      "machine_shape": "hm",
      "authorship_tag": "ABX9TyNajNuACTlKqdyS5g5/K6gL",
      "include_colab_link": true
    },
    "kernelspec": {
      "name": "python3",
      "display_name": "Python 3"
    },
    "language_info": {
      "name": "python"
    },
    "gpuClass": "standard"
  },
  "cells": [
    {
      "cell_type": "markdown",
      "metadata": {
        "id": "view-in-github",
        "colab_type": "text"
      },
      "source": [
        "<a href=\"https://colab.research.google.com/github/Stp155906/Data-Science-For-Beginners/blob/main/DataSubSettinginEarthData.ipynb\" target=\"_parent\"><img src=\"https://colab.research.google.com/assets/colab-badge.svg\" alt=\"Open In Colab\"/></a>"
      ]
    },
    {
      "cell_type": "markdown",
      "source": [
        "# Data Subsetting and Transformation Services in the Cloud\n",
        "\n",
        "\n",
        "---\n",
        "\n",
        "> Using the Harmony-Py library to access customized data from NASA Earthdata\n",
        "\n",
        "\n",
        "---\n",
        "\n",
        "Objectives: \n",
        "1. Conceptualize the data transformation service types and offerings provided by NASA Earthdata, including Harmony.\n",
        "2. Practice skills learned from the introductory CMR tutorial to discover what access and service options exist for a given data set, as well as variable metadata.\n",
        "3. Utilize the Harmony-py library to request subsetted MODIS L2 Sea Surface Temperature data over the Gulf of Mexico.\n",
        "4. Read Harmony subsetted outputs directly into xarray. ___\n",
        "\n",
        "\n",
        "\n",
        "---\n",
        "\n"
      ],
      "metadata": {
        "id": "fFSsAKlLI_al"
      }
    },
    {
      "cell_type": "code",
      "source": [
        "!pip install harmony\n",
        "!pip install requests\n",
        "!pip install -U harmony-py\n",
        "!pip install xarray\n",
        "!pip install datetime\n",
        "!pip install pprint\n",
        "!pip install s3fs"
      ],
      "metadata": {
        "id": "3rlPFY5oBlGL"
      },
      "execution_count": null,
      "outputs": []
    },
    {
      "cell_type": "markdown",
      "source": [
        "\n",
        "\n",
        "---\n",
        "\n"
      ],
      "metadata": {
        "id": "ddZ809VnI8FU"
      }
    },
    {
      "cell_type": "code",
      "execution_count": null,
      "metadata": {
        "id": "tvlL2pXxBgMs"
      },
      "outputs": [],
      "source": [
        "from harmony import BBox\n",
        "from harmony import Client\n",
        "from harmony import Collection\n",
        "from harmony import Request \n",
        "from harmony import LinkType\n",
        "from harmony.config import Environment\n",
        "import requests\n",
        "from pprint import pprint\n",
        "import datetime as dt\n",
        "import s3fs\n",
        "import xarray as xr"
      ]
    },
    {
      "cell_type": "code",
      "source": [
        "# Lets utilize the CMR API skills we learned on Day 1 to inspect service metadata:\n",
        "url = 'https://cmr.earthdata.nasa.gov/search'\n",
        "# We want to search by collection to. inspect the access and service options that exist:\n",
        "collection_url = f'{url}/{\"collections\"}'"
      ],
      "metadata": {
        "id": "oorbI_SgCmLw"
      },
      "execution_count": null,
      "outputs": []
    },
    {
      "cell_type": "markdown",
      "source": [
        "We are going to focus on MODIS_A-JPL-L2P-v2019.0: GHRSST Level 2P Global Sea Surface Skin Temperature from the Moderate Resolution Imaging Spectroradiometer (MODIS) on the NASA Aqua satellite (GDS2). Let’s first save this as a variable that we can use later on once we request data from Harmony."
      ],
      "metadata": {
        "id": "UBvireFBJ8S4"
      }
    },
    {
      "cell_type": "code",
      "source": [
        "short_name= 'MODIS_A-JPL-L2P-v2019.0'\n",
        "concept_id = 'C1940473819-POCLOUD'"
      ],
      "metadata": {
        "id": "JsVMo7-3Ctep"
      },
      "execution_count": null,
      "outputs": []
    },
    {
      "cell_type": "markdown",
      "source": [
        "We will view the top-level metadata for this collection to see what additional service and variable metadata exist.\n",
        "\n",
        "\n",
        "\n",
        "---\n",
        "\n"
      ],
      "metadata": {
        "id": "jro8RvM7KA2Z"
      }
    },
    {
      "cell_type": "code",
      "source": [
        "response = requests.get(collection_url, \n",
        "                        params={\n",
        "                            'concept_id': concept_id,\n",
        "                            },\n",
        "                        headers={\n",
        "                            'Accept': 'application/json'\n",
        "                            }\n",
        "                       )\n",
        "response = response.json()"
      ],
      "metadata": {
        "id": "OxKgAWCoCwI0"
      },
      "execution_count": null,
      "outputs": []
    },
    {
      "cell_type": "code",
      "source": [
        "pprint(response)"
      ],
      "metadata": {
        "colab": {
          "base_uri": "https://localhost:8080/"
        },
        "id": "qccyLC4uCx7c",
        "outputId": "4b934f58-0698-4e7a-c771-be6c64499e43"
      },
      "execution_count": null,
      "outputs": [
        {
          "output_type": "stream",
          "name": "stdout",
          "text": [
            "{'feed': {'entry': [{'archive_center': 'NASA/JPL/PODAAC',\n",
            "                     'associations': {'services': ['S1962070864-POCLOUD',\n",
            "                                                   'S2004184019-POCLOUD',\n",
            "                                                   'S2153799015-POCLOUD',\n",
            "                                                   'S2227193226-POCLOUD'],\n",
            "                                      'tools': ['TL2108419875-POCLOUD',\n",
            "                                                'TL2092786348-POCLOUD'],\n",
            "                                      'variables': ['V1997812737-POCLOUD',\n",
            "                                                    'V1997812697-POCLOUD',\n",
            "                                                    'V2112014688-POCLOUD',\n",
            "                                                    'V1997812756-POCLOUD',\n",
            "                                                    'V1997812688-POCLOUD',\n",
            "                                                    'V1997812670-POCLOUD',\n",
            "                                                    'V1997812724-POCLOUD',\n",
            "                                                    'V2112014684-POCLOUD',\n",
            "                                                    'V1997812701-POCLOUD',\n",
            "                                                    'V1997812681-POCLOUD',\n",
            "                                                    'V2112014686-POCLOUD',\n",
            "                                                    'V1997812663-POCLOUD',\n",
            "                                                    'V1997812676-POCLOUD',\n",
            "                                                    'V1997812744-POCLOUD',\n",
            "                                                    'V1997812714-POCLOUD']},\n",
            "                     'boxes': ['-90 -180 90 180'],\n",
            "                     'browse_flag': True,\n",
            "                     'cloud_hosted': True,\n",
            "                     'collection_data_type': 'SCIENCE_QUALITY',\n",
            "                     'consortiums': ['GEOSS', 'EOSDIS'],\n",
            "                     'coordinate_system': 'CARTESIAN',\n",
            "                     'data_center': 'POCLOUD',\n",
            "                     'dataset_id': 'GHRSST Level 2P Global Sea Surface Skin '\n",
            "                                   'Temperature from the Moderate Resolution '\n",
            "                                   'Imaging Spectroradiometer (MODIS) on the '\n",
            "                                   'NASA Aqua satellite (GDS2)',\n",
            "                     'has_formats': True,\n",
            "                     'has_spatial_subsetting': True,\n",
            "                     'has_temporal_subsetting': True,\n",
            "                     'has_transforms': False,\n",
            "                     'has_variables': True,\n",
            "                     'id': 'C1940473819-POCLOUD',\n",
            "                     'links': [{'href': 'https://podaac.jpl.nasa.gov/Podaac/thumbnails/MODIS_A-JPL-L2P-v2019.0.jpg',\n",
            "                                'hreflang': 'en-US',\n",
            "                                'rel': 'http://esipfed.org/ns/fedsearch/1.1/browse#'},\n",
            "                               {'href': 'https://github.com/podaac/data-readers',\n",
            "                                'hreflang': 'en-US',\n",
            "                                'rel': 'http://esipfed.org/ns/fedsearch/1.1/documentation#'},\n",
            "                               {'href': 'https://podaac-tools.jpl.nasa.gov/drive/files/OceanTemperature/ghrsst/docs/GDS20r5.pdf',\n",
            "                                'hreflang': 'en-US',\n",
            "                                'rel': 'http://esipfed.org/ns/fedsearch/1.1/documentation#'},\n",
            "                               {'href': 'https://ghrsst.jpl.nasa.gov',\n",
            "                                'hreflang': 'en-US',\n",
            "                                'rel': 'http://esipfed.org/ns/fedsearch/1.1/documentation#'},\n",
            "                               {'href': 'https://oceancolor.gsfc.nasa.gov/atbd/sst/flag/',\n",
            "                                'hreflang': 'en-US',\n",
            "                                'rel': 'http://esipfed.org/ns/fedsearch/1.1/documentation#'},\n",
            "                               {'href': 'https://oceancolor.gsfc.nasa.gov/reprocessing/r2019/sst/',\n",
            "                                'hreflang': 'en-US',\n",
            "                                'rel': 'http://esipfed.org/ns/fedsearch/1.1/documentation#'},\n",
            "                               {'href': 'https://oceancolor.gsfc.nasa.gov/atbd/sst4/',\n",
            "                                'hreflang': 'en-US',\n",
            "                                'rel': 'http://esipfed.org/ns/fedsearch/1.1/documentation#'},\n",
            "                               {'href': 'https://modis.gsfc.nasa.gov/data/atbd/atbd_mod25.pdf',\n",
            "                                'hreflang': 'en-US',\n",
            "                                'rel': 'http://esipfed.org/ns/fedsearch/1.1/documentation#'},\n",
            "                               {'href': 'https://oceancolor.gsfc.nasa.gov/atbd/sst/',\n",
            "                                'hreflang': 'en-US',\n",
            "                                'rel': 'http://esipfed.org/ns/fedsearch/1.1/documentation#'},\n",
            "                               {'href': 'http://www.ghrsst.org',\n",
            "                                'hreflang': 'en-US',\n",
            "                                'rel': 'http://esipfed.org/ns/fedsearch/1.1/documentation#'},\n",
            "                               {'href': 'https://podaac.jpl.nasa.gov/forum/viewforum.php?f=18&sid=e2d67e5a01815fc6e39fcd2087ed8bc8',\n",
            "                                'hreflang': 'en-US',\n",
            "                                'rel': 'http://esipfed.org/ns/fedsearch/1.1/documentation#'},\n",
            "                               {'href': 'https://podaac.jpl.nasa.gov/CitingPODAAC',\n",
            "                                'hreflang': 'en-US',\n",
            "                                'rel': 'http://esipfed.org/ns/fedsearch/1.1/documentation#'},\n",
            "                               {'href': 'https://cmr.earthdata.nasa.gov/virtual-directory/collections/C1940473819-POCLOUD',\n",
            "                                'hreflang': 'en-US',\n",
            "                                'length': '75.0MB',\n",
            "                                'rel': 'http://esipfed.org/ns/fedsearch/1.1/data#'},\n",
            "                               {'href': 'https://github.com/podaac/tutorials/blob/master/notebooks/MODIS_L2P_SST_DataCube.ipynb',\n",
            "                                'hreflang': 'en-US',\n",
            "                                'rel': 'http://esipfed.org/ns/fedsearch/1.1/documentation#'},\n",
            "                               {'href': 'https://search.earthdata.nasa.gov/search/granules?p=C1940473819-POCLOUD',\n",
            "                                'hreflang': 'en-US',\n",
            "                                'rel': 'http://esipfed.org/ns/fedsearch/1.1/data#'}],\n",
            "                     'online_access_flag': True,\n",
            "                     'orbit_parameters': {'inclination_angle': '98.1',\n",
            "                                          'number_of_orbits': '1.0',\n",
            "                                          'period': '98.4',\n",
            "                                          'swath_width': '2330.0'},\n",
            "                     'organizations': ['NASA/JPL/PODAAC'],\n",
            "                     'original_format': 'UMM_JSON',\n",
            "                     'platforms': ['Aqua'],\n",
            "                     'processing_level_id': '2',\n",
            "                     'service_features': {'esi': {'has_formats': False,\n",
            "                                                  'has_spatial_subsetting': False,\n",
            "                                                  'has_temporal_subsetting': False,\n",
            "                                                  'has_transforms': False,\n",
            "                                                  'has_variables': False},\n",
            "                                          'harmony': {'has_formats': True,\n",
            "                                                      'has_spatial_subsetting': True,\n",
            "                                                      'has_temporal_subsetting': True,\n",
            "                                                      'has_transforms': False,\n",
            "                                                      'has_variables': True},\n",
            "                                          'opendap': {'has_formats': True,\n",
            "                                                      'has_spatial_subsetting': True,\n",
            "                                                      'has_temporal_subsetting': True,\n",
            "                                                      'has_transforms': False,\n",
            "                                                      'has_variables': True}},\n",
            "                     'short_name': 'MODIS_A-JPL-L2P-v2019.0',\n",
            "                     'summary': 'NASA produces skin sea surface temperature '\n",
            "                                '(SST) products from the Infrared (IR) '\n",
            "                                'channels of the Moderate-resolution Imaging '\n",
            "                                'Spectroradiometer (MODIS) onboard the Aqua '\n",
            "                                'satellite. Aqua was launched by NASA on May '\n",
            "                                '4, 2002, into a sun synchronous, polar orbit '\n",
            "                                'with a daylight ascending node at 1:30 pm, '\n",
            "                                'formation flying in the A-train with other '\n",
            "                                'Earth Observation Satellites (EOS), to study '\n",
            "                                'the global dynamics of the Earth atmosphere, '\n",
            "                                'land and oceans. MODIS captures data in 36 '\n",
            "                                'spectral bands at a variety of spatial '\n",
            "                                'resolutions.  Two SST products can be present '\n",
            "                                'in these files. The first is a skin SST '\n",
            "                                'produced for both day and night (NSST) '\n",
            "                                'observations, derived from the long wave IR '\n",
            "                                '11 and 12 micron wavelength channels, using a '\n",
            "                                'modified nonlinear SST algorithm intended to '\n",
            "                                'provide continuity of SST derived from '\n",
            "                                'heritage and current NASA sensors. At night, '\n",
            "                                'a second SST product is generated using the '\n",
            "                                'mid-infrared 3.95 and 4.05 micron  wavelength '\n",
            "                                'channels which are unique to MODIS; the SST '\n",
            "                                'derived from these measurements is identified '\n",
            "                                'as SST4. The SST4 product has lower '\n",
            "                                'uncertainty, but due to sun glint can only be '\n",
            "                                'used at night. MODIS L2P SST data have a 1 km '\n",
            "                                'spatial resolution at nadir and are stored in '\n",
            "                                '288 five minute granules per day. Full global '\n",
            "                                'coverage is obtained every two days, with '\n",
            "                                'coverage poleward of 32.3 degree being '\n",
            "                                'complete each day.  The production of MODIS '\n",
            "                                'L2P SST files is part of the Group for High '\n",
            "                                'Resolution Sea Surface Temperature (GHRSST) '\n",
            "                                'project and is a joint collaboration between '\n",
            "                                'the NASA Jet Propulsion Laboratory (JPL), the '\n",
            "                                'NASA Ocean Biology Processing Group (OBPG), '\n",
            "                                'and the Rosenstiel School of Marine and '\n",
            "                                'Atmospheric Science (RSMAS). Researchers at '\n",
            "                                'RSMAS are responsible for SST algorithm '\n",
            "                                'development, error statistics and quality '\n",
            "                                'flagging, while the OBPG, as the NASA ground '\n",
            "                                'data system, is responsible for the '\n",
            "                                'production of daily MODIS ocean products. JPL '\n",
            "                                'acquires MODIS ocean granules from the OBPG '\n",
            "                                'and reformats them to the GHRSST L2P netCDF '\n",
            "                                'specification with complete metadata and '\n",
            "                                'ancillary variables, and distributes the data '\n",
            "                                'as the official Physical Oceanography Data '\n",
            "                                'Archive (PO.DAAC) for SST.  The R2019.0 '\n",
            "                                'supersedes the previous R2014.0 datasets '\n",
            "                                'which can be found at '\n",
            "                                'https://doi.org/10.5067/GHMDA-2PJ02',\n",
            "                     'time_start': '2002-07-04T00:00:00.000Z',\n",
            "                     'title': 'GHRSST Level 2P Global Sea Surface Skin '\n",
            "                              'Temperature from the Moderate Resolution '\n",
            "                              'Imaging Spectroradiometer (MODIS) on the NASA '\n",
            "                              'Aqua satellite (GDS2)',\n",
            "                     'updated': '2019-12-02T22:59:24.849Z',\n",
            "                     'version_id': '2019.0'}],\n",
            "          'id': 'https://cmr.earthdata.nasa.gov:443/search/collections.json?concept_id=C1940473819-POCLOUD',\n",
            "          'title': 'ECHO dataset metadata',\n",
            "          'updated': '2022-07-14T01:59:35.164Z'}}\n"
          ]
        }
      ]
    },
    {
      "cell_type": "markdown",
      "source": [
        "# What do each of these service values mean?\n",
        "\n",
        "\n",
        "---\n",
        "\n",
        "\n",
        "Associations \n",
        "\n",
        "CMR is a large web of interconnected metadata “schemas”, including Collections, Granules, Services, Tools, and Variables. In this case, this collection is associated with two unique services, two tools, and several unique variables.\n",
        "\n",
        "Tags\n",
        "\n",
        "There are also tags that describe what service options exist at a high-level. In this case, we see that this dataset supports the ability to reformat, subset by space and time, as well as by variable. This is used in web applications like Earthdata Search to surface those customization options more readily.\n",
        "\n",
        "Service Features\n",
        "\n",
        "In this case, we see three separate “features” listed here: esi, Harmony, and OPeNDAP.\n",
        "\n",
        "\n",
        "---\n",
        "\n",
        "\n",
        "> We will dig into more details on what Harmony offers for this dataset.\n",
        "\n",
        "> First, we need to isolate the services returned for this dataset:"
      ],
      "metadata": {
        "id": "Iy-4QhGBLGxO"
      }
    },
    {
      "cell_type": "code",
      "source": [
        "services = response['feed']['entry'][0]['associations']['services']\n",
        "print(services)"
      ],
      "metadata": {
        "id": "R6IgQcwXC15J"
      },
      "execution_count": null,
      "outputs": []
    },
    {
      "cell_type": "code",
      "source": [
        "service_url = \"https://cmr.earthdata.nasa.gov/search/services\""
      ],
      "metadata": {
        "id": "vysIXHK5C4qP"
      },
      "execution_count": null,
      "outputs": []
    },
    {
      "cell_type": "markdown",
      "source": [
        "Inspect the first service returned. \n",
        "\n",
        "Now we’re going to search the services endpoint to view that individual service’s metadata, like we did with our dataset above. \n",
        "\n",
        "This time, we’re explicitly setting the format of the response to umm-json in the Accept Header in order to see detailed metadata about the service."
      ],
      "metadata": {
        "id": "yYQDpgoCLeoS"
      }
    },
    {
      "cell_type": "code",
      "source": [
        "service_response = requests.get(service_url, \n",
        "                        params={\n",
        "                            'concept_id': services[0],\n",
        "                            },\n",
        "                        headers={\n",
        "                            'Accept': 'application/vnd.nasa.cmr.umm_results+json'\n",
        "                            }\n",
        "                       )\n",
        "service_response = service_response.json()"
      ],
      "metadata": {
        "id": "-yOO0eqEC7az"
      },
      "execution_count": null,
      "outputs": []
    },
    {
      "cell_type": "markdown",
      "source": [
        "Details about the service metadata record include the service options provided by the “backend” processor connected to Harmony, in this case the PODAAC Level 2 Cloud Subsetter:"
      ],
      "metadata": {
        "id": "AxF3nhFgLixj"
      }
    },
    {
      "cell_type": "code",
      "source": [
        "pprint(service_response)"
      ],
      "metadata": {
        "colab": {
          "base_uri": "https://localhost:8080/"
        },
        "id": "smDSkNmQC9JM",
        "outputId": "4008983a-8b7f-4bd9-aab0-35411bd69f43"
      },
      "execution_count": null,
      "outputs": [
        {
          "output_type": "stream",
          "name": "stdout",
          "text": [
            "{'hits': 1,\n",
            " 'items': [{'meta': {'concept-id': 'S1962070864-POCLOUD',\n",
            "                     'concept-type': 'service',\n",
            "                     'deleted': False,\n",
            "                     'format': 'application/vnd.nasa.cmr.umm+json',\n",
            "                     'native-id': 'POCLOUD_podaac_l2_cloud_subsetter',\n",
            "                     'provider-id': 'POCLOUD',\n",
            "                     'revision-date': '2022-05-31T23:46:37.054Z',\n",
            "                     'revision-id': 25,\n",
            "                     'user-id': 'chen5510'},\n",
            "            'umm': {'AccessConstraints': 'None',\n",
            "                    'Description': 'Endpoint for subsetting L2 Subsetter via '\n",
            "                                   'Harmony',\n",
            "                    'LongName': 'PODAAC Level 2 Cloud Subsetter',\n",
            "                    'MetadataSpecification': {'Name': 'UMM-S',\n",
            "                                              'URL': 'https://cdn.earthdata.nasa.gov/umm/service/v1.5.0',\n",
            "                                              'Version': '1.5.0'},\n",
            "                    'Name': 'PODAAC L2 Cloud Subsetter',\n",
            "                    'OperationMetadata': [{'OperationName': 'SPATIAL_SUBSETTING'},\n",
            "                                          {'OperationName': 'VARIABLE_SUBSETTING'},\n",
            "                                          {'OperationName': 'TEMPORAL_SUBSETTING'}],\n",
            "                    'ServiceKeywords': [{'ServiceCategory': 'EARTH SCIENCE '\n",
            "                                                            'SERVICES',\n",
            "                                         'ServiceTerm': 'SUBSETTING/SUPERSETTING',\n",
            "                                         'ServiceTopic': 'DATA MANAGEMENT/DATA '\n",
            "                                                         'HANDLING'}],\n",
            "                    'ServiceOptions': {'Subset': {'SpatialSubset': {'BoundingBox': {'AllowMultipleValues': False},\n",
            "                                                                    'Shapefile': [{'Format': 'ESRI'},\n",
            "                                                                                  {'Format': 'KML'},\n",
            "                                                                                  {'Format': 'GeoJSON'}]},\n",
            "                                                  'TemporalSubset': {'AllowMultipleValues': False},\n",
            "                                                  'VariableSubset': {'AllowMultipleValues': True}},\n",
            "                                       'SupportedReformattings': [{'SupportedInputFormat': 'HDF5',\n",
            "                                                                   'SupportedOutputFormats': ['NETCDF-4']},\n",
            "                                                                  {'SupportedInputFormat': 'NETCDF-4',\n",
            "                                                                   'SupportedOutputFormats': ['NETCDF-4']}]},\n",
            "                    'ServiceOrganizations': [{'LongName': 'Physical '\n",
            "                                                          'Oceanography '\n",
            "                                                          'Distributed Active '\n",
            "                                                          'Archive Center, Jet '\n",
            "                                                          'Propulsion '\n",
            "                                                          'Laboratory, NASA',\n",
            "                                              'Roles': ['ORIGINATOR'],\n",
            "                                              'ShortName': 'NASA/JPL/PODAAC'}],\n",
            "                    'Type': 'Harmony',\n",
            "                    'URL': {'Description': 'PROJECT HOME PAGE',\n",
            "                            'URLValue': 'https://harmony.earthdata.nasa.gov'},\n",
            "                    'Version': '1.5.0'}}],\n",
            " 'took': 9}\n"
          ]
        }
      ]
    },
    {
      "cell_type": "markdown",
      "source": [
        "# Discover all datasets that support Harmony services\n",
        "\n",
        "\n",
        "---\n",
        "\n",
        "> Instead of searching for services on a known dataset of interest, we may want to discovery all available datasets that are supported for a given service. \n",
        "\n",
        "> We can utilize GraphQL, which is a way for us to efficiently gain information across service and collection metadata so that we can print out all supported Harmony datasets. \n",
        "\n",
        "\n",
        "> First, we need to specify a query string. Here we are asking to query all collections with service type “Harmony”, and to provide details on the service options attached to those services:"
      ],
      "metadata": {
        "id": "QBSc1PVQLruR"
      }
    },
    {
      "cell_type": "code",
      "source": [
        "query = \"\"\"query {\n",
        "  collections(limit: 2000, serviceType: \"Harmony\") {\n",
        "    count\n",
        "    items {\n",
        "      shortName\n",
        "      conceptId\n",
        "      services {\n",
        "        count\n",
        "        items {\n",
        "          name\n",
        "          supportedReformattings\n",
        "          supportedInputProjections\n",
        "          supportedOutputProjections\n",
        "          serviceOptions\n",
        "        }\n",
        "      }\n",
        "      variables {\n",
        "        count\n",
        "      }\n",
        "    }\n",
        "  }\n",
        "}\"\"\""
      ],
      "metadata": {
        "id": "i-Jh6K3KC9tH"
      },
      "execution_count": null,
      "outputs": []
    },
    {
      "cell_type": "code",
      "source": [
        ""
      ],
      "metadata": {
        "id": "klCAH1A3DC8_"
      },
      "execution_count": null,
      "outputs": []
    },
    {
      "cell_type": "markdown",
      "source": [
        "This utilizes a different API endpoint to query CMR metdata using GraphQL. Here we set up another request, passing our query string above:"
      ],
      "metadata": {
        "id": "SlryDZ70DI1f"
      }
    },
    {
      "cell_type": "code",
      "source": [
        "graphql_url = 'https://graphql.earthdata.nasa.gov/api'\n",
        "\n",
        "graphql_response = requests.get(graphql_url,\n",
        "                        params={\"query\": query},\n",
        "                        headers={\n",
        "                            'Accept': 'application/json',\n",
        "                        }\n",
        "                       )"
      ],
      "metadata": {
        "id": "9-fuV70nMC_n"
      },
      "execution_count": null,
      "outputs": []
    },
    {
      "cell_type": "markdown",
      "source": [
        "A json response is returned that provides all collections with Harmony-supported services. We can then extract just the collectionshortName, conceptID, and the service names supported for each collection:"
      ],
      "metadata": {
        "id": "R6ZZYjVgMG8M"
      }
    },
    {
      "cell_type": "code",
      "source": [
        "services = graphql_response.json()['data']['collections']['items']\n",
        "\n",
        "for service in services:\n",
        "    print(service['shortName'], \",\", service['conceptId'])\n",
        "    for i in range(len(service['services']['items'])):\n",
        "        print(\"Services:\", service['services']['items'][i]['name'])"
      ],
      "metadata": {
        "colab": {
          "base_uri": "https://localhost:8080/"
        },
        "id": "khZAD7OSMHze",
        "outputId": "80793575-b62e-4629-bdfe-460bbe2d41e1"
      },
      "execution_count": null,
      "outputs": [
        {
          "output_type": "stream",
          "name": "stdout",
          "text": [
            "CYGNSS_L2_CDR_V1.1 , C2205121485-POCLOUD\n",
            "Services: PO.DAAC Cloud OPeNDAP\n",
            "Services: PODAAC L2 Cloud Subsetter\n",
            "CYGNSS_L2_SURFACE_FLUX_CDR_V1.0 , C2205618975-POCLOUD\n",
            "Services: PO.DAAC Cloud OPeNDAP\n",
            "Services: PODAAC L2 Cloud Subsetter\n",
            "CYGNSS_L2_SURFACE_FLUX_CDR_V1.1 , C2205121520-POCLOUD\n",
            "Services: PO.DAAC Cloud OPeNDAP\n",
            "Services: PODAAC L2 Cloud Subsetter\n",
            "CYGNSS_L2_V3.0 , C2205620319-POCLOUD\n",
            "Services: PO.DAAC Cloud OPeNDAP\n",
            "Services: PODAAC L2 Cloud Subsetter\n",
            "CYGNSS_L2_V3.1 , C2183155461-POCLOUD\n",
            "Services: PO.DAAC Cloud OPeNDAP\n",
            "Services: PODAAC L2 Cloud Subsetter\n",
            "ECCO_L4_ATM_STATE_05DEG_DAILY_V4R4 , C1990404801-POCLOUD\n",
            "Services: PO.DAAC Cloud OPeNDAP\n",
            "Services: PO.DAAC harmony-netcdf-to-zarr\n",
            "ECCO_L4_ATM_STATE_LLC0090GRID_DAILY_V4R4 , C1991543823-POCLOUD\n",
            "Services: PO.DAAC Cloud OPeNDAP\n",
            "Services: PO.DAAC harmony-netcdf-to-zarr\n",
            "ECCO_L4_ATM_STATE_05DEG_MONTHLY_V4R4 , C1990404814-POCLOUD\n",
            "Services: PO.DAAC Cloud OPeNDAP\n",
            "Services: PO.DAAC harmony-netcdf-to-zarr\n",
            "ECCO_L4_ATM_STATE_LLC0090GRID_MONTHLY_V4R4 , C1991543805-POCLOUD\n",
            "Services: PO.DAAC Cloud OPeNDAP\n",
            "Services: PO.DAAC harmony-netcdf-to-zarr\n",
            "ECCO_L4_OCEAN_BOLUS_STREAMFUNCTION_LLC0090GRID_DAILY_V4R4 , C1991543818-POCLOUD\n",
            "Services: PO.DAAC Cloud OPeNDAP\n",
            "Services: PO.DAAC harmony-netcdf-to-zarr\n",
            "ECCO_L4_OCEAN_BOLUS_STREAMFUNCTION_LLC0090GRID_MONTHLY_V4R4 , C1991543733-POCLOUD\n",
            "Services: PO.DAAC Cloud OPeNDAP\n",
            "Services: PO.DAAC harmony-netcdf-to-zarr\n",
            "ECCO_L4_BOLUS_05DEG_DAILY_V4R4 , C1990404807-POCLOUD\n",
            "Services: PO.DAAC Cloud OPeNDAP\n",
            "Services: PO.DAAC harmony-netcdf-to-zarr\n",
            "ECCO_L4_BOLUS_LLC0090GRID_DAILY_V4R4 , C1991543824-POCLOUD\n",
            "Services: PO.DAAC Cloud OPeNDAP\n",
            "Services: PO.DAAC harmony-netcdf-to-zarr\n",
            "ECCO_L4_BOLUS_05DEG_MONTHLY_V4R4 , C1990404805-POCLOUD\n",
            "Services: PO.DAAC Cloud OPeNDAP\n",
            "Services: PO.DAAC harmony-netcdf-to-zarr\n",
            "ECCO_L4_BOLUS_LLC0090GRID_MONTHLY_V4R4 , C1991543745-POCLOUD\n",
            "Services: PO.DAAC Cloud OPeNDAP\n",
            "Services: PO.DAAC harmony-netcdf-to-zarr\n",
            "ECCO_L4_GEOMETRY_05DEG_V4R4 , C2013583732-POCLOUD\n",
            "Services: PO.DAAC Cloud OPeNDAP\n",
            "Services: PO.DAAC harmony-netcdf-to-zarr\n",
            "ECCO_L4_GEOMETRY_LLC0090GRID_V4R4 , C2013557893-POCLOUD\n",
            "Services: PO.DAAC Cloud OPeNDAP\n",
            "Services: PO.DAAC harmony-netcdf-to-zarr\n",
            "ECCO_L4_GMAP_TIME_SERIES_SNAPSHOT_V4R4 , C1991543729-POCLOUD\n",
            "Services: PO.DAAC Cloud OPeNDAP\n",
            "Services: PO.DAAC harmony-netcdf-to-zarr\n",
            "ECCO_L4_GMAP_TIME_SERIES_SNAPSHOT_V4R4B , C2133160276-POCLOUD\n",
            "Services: PO.DAAC Cloud OPeNDAP\n",
            "Services: PO.DAAC harmony-netcdf-to-zarr\n",
            "ECCO_L4_GMSL_TIME_SERIES_DAILY_V4R4 , C1991543819-POCLOUD\n",
            "Services: PO.DAAC Cloud OPeNDAP\n",
            "Services: PO.DAAC harmony-netcdf-to-zarr\n",
            "ECCO_L4_GMSL_TIME_SERIES_MONTHLY_V4R4 , C1991543742-POCLOUD\n",
            "Services: PO.DAAC Cloud OPeNDAP\n",
            "Services: PO.DAAC harmony-netcdf-to-zarr\n",
            "ECCO_L4_OCEAN_3D_MIX_COEFFS_05DEG_V4R4 , C2013584708-POCLOUD\n",
            "Services: PO.DAAC Cloud OPeNDAP\n",
            "Services: PO.DAAC harmony-netcdf-to-zarr\n",
            "ECCO_L4_OCEAN_3D_MIX_COEFFS_LLC0090GRID_V4R4 , C2013583906-POCLOUD\n",
            "Services: PO.DAAC Cloud OPeNDAP\n",
            "Services: PO.DAAC harmony-netcdf-to-zarr\n",
            "ECCO_L4_FRESH_FLUX_05DEG_DAILY_V4R4 , C1990404818-POCLOUD\n",
            "Services: PO.DAAC Cloud OPeNDAP\n",
            "Services: PO.DAAC harmony-netcdf-to-zarr\n",
            "ECCO_L4_FRESH_FLUX_LLC0090GRID_DAILY_V4R4 , C1991543820-POCLOUD\n",
            "Services: PO.DAAC Cloud OPeNDAP\n",
            "Services: PO.DAAC harmony-netcdf-to-zarr\n",
            "ECCO_L4_FRESH_FLUX_05DEG_MONTHLY_V4R4 , C1990404792-POCLOUD\n",
            "Services: PO.DAAC Cloud OPeNDAP\n",
            "Services: PO.DAAC harmony-netcdf-to-zarr\n",
            "ECCO_L4_FRESH_FLUX_LLC0090GRID_MONTHLY_V4R4 , C1991543803-POCLOUD\n",
            "Services: PO.DAAC Cloud OPeNDAP\n",
            "Services: PO.DAAC harmony-netcdf-to-zarr\n",
            "ECCO_L4_HEAT_FLUX_05DEG_DAILY_V4R4 , C1990404788-POCLOUD\n",
            "Services: PO.DAAC Cloud OPeNDAP\n",
            "Services: PO.DAAC harmony-netcdf-to-zarr\n",
            "ECCO_L4_HEAT_FLUX_LLC0090GRID_DAILY_V4R4 , C1991543712-POCLOUD\n",
            "Services: PO.DAAC Cloud OPeNDAP\n",
            "Services: PO.DAAC harmony-netcdf-to-zarr\n",
            "ECCO_L4_HEAT_FLUX_05DEG_MONTHLY_V4R4 , C1990404812-POCLOUD\n",
            "Services: PO.DAAC Cloud OPeNDAP\n",
            "Services: PO.DAAC harmony-netcdf-to-zarr\n",
            "ECCO_L4_HEAT_FLUX_LLC0090GRID_MONTHLY_V4R4 , C1991543811-POCLOUD\n",
            "Services: PO.DAAC Cloud OPeNDAP\n",
            "Services: PO.DAAC harmony-netcdf-to-zarr\n",
            "ECCO_L4_STRESS_05DEG_DAILY_V4R4 , C1990404808-POCLOUD\n",
            "Services: PO.DAAC Cloud OPeNDAP\n",
            "Services: PO.DAAC harmony-netcdf-to-zarr\n",
            "ECCO_L4_STRESS_LLC0090GRID_DAILY_V4R4 , C1991543704-POCLOUD\n",
            "Services: PO.DAAC Cloud OPeNDAP\n",
            "Services: PO.DAAC harmony-netcdf-to-zarr\n",
            "ECCO_L4_STRESS_05DEG_MONTHLY_V4R4 , C1990404796-POCLOUD\n",
            "Services: PO.DAAC Cloud OPeNDAP\n",
            "Services: PO.DAAC harmony-netcdf-to-zarr\n",
            "ECCO_L4_STRESS_LLC0090GRID_MONTHLY_V4R4 , C1991543760-POCLOUD\n",
            "Services: PO.DAAC Cloud OPeNDAP\n",
            "Services: PO.DAAC harmony-netcdf-to-zarr\n",
            "ECCO_L4_OBP_05DEG_DAILY_V4R4 , C1990404797-POCLOUD\n",
            "Services: PO.DAAC Cloud OPeNDAP\n",
            "Services: PO.DAAC harmony-netcdf-to-zarr\n",
            "ECCO_L4_OBP_05DEG_DAILY_V4R4B , C2129192243-POCLOUD\n",
            "Services: PO.DAAC Cloud OPeNDAP\n",
            "Services: PO.DAAC harmony-netcdf-to-zarr\n",
            "ECCO_L4_OBP_LLC0090GRID_DAILY_V4R4 , C1991543737-POCLOUD\n",
            "Services: PO.DAAC Cloud OPeNDAP\n",
            "Services: PO.DAAC harmony-netcdf-to-zarr\n",
            "ECCO_L4_OBP_LLC0090GRID_DAILY_V4R4B , C2129195053-POCLOUD\n",
            "Services: PO.DAAC Cloud OPeNDAP\n",
            "Services: PO.DAAC harmony-netcdf-to-zarr\n",
            "ECCO_L4_OBP_05DEG_MONTHLY_V4R4 , C1990404791-POCLOUD\n",
            "Services: PO.DAAC Cloud OPeNDAP\n",
            "Services: PO.DAAC harmony-netcdf-to-zarr\n",
            "ECCO_L4_OBP_05DEG_MONTHLY_V4R4B , C2129193421-POCLOUD\n",
            "Services: PO.DAAC Cloud OPeNDAP\n",
            "Services: PO.DAAC harmony-netcdf-to-zarr\n",
            "ECCO_L4_OBP_LLC0090GRID_MONTHLY_V4R4 , C1991543806-POCLOUD\n",
            "Services: PO.DAAC Cloud OPeNDAP\n",
            "Services: PO.DAAC harmony-netcdf-to-zarr\n",
            "ECCO_L4_OBP_LLC0090GRID_MONTHLY_V4R4B , C2129197196-POCLOUD\n",
            "Services: PO.DAAC Cloud OPeNDAP\n",
            "Services: PO.DAAC harmony-netcdf-to-zarr\n",
            "ECCO_L4_OBP_LLC0090GRID_SNAPSHOT_V4R4 , C1991543804-POCLOUD\n",
            "Services: PO.DAAC Cloud OPeNDAP\n",
            "Services: PO.DAAC harmony-netcdf-to-zarr\n",
            "ECCO_L4_DENS_STRAT_PRESS_05DEG_DAILY_V4R4 , C1990404793-POCLOUD\n",
            "Services: PO.DAAC Cloud OPeNDAP\n",
            "Services: PO.DAAC harmony-netcdf-to-zarr\n",
            "ECCO_L4_DENS_STRAT_PRESS_LLC0090GRID_DAILY_V4R4 , C1991543727-POCLOUD\n",
            "Services: PO.DAAC Cloud OPeNDAP\n",
            "Services: PO.DAAC harmony-netcdf-to-zarr\n",
            "ECCO_L4_DENS_STRAT_PRESS_05DEG_MONTHLY_V4R4 , C1990404798-POCLOUD\n",
            "Services: PO.DAAC Cloud OPeNDAP\n",
            "Services: PO.DAAC harmony-netcdf-to-zarr\n",
            "ECCO_L4_DENS_STRAT_PRESS_LLC0090GRID_MONTHLY_V4R4 , C1991543735-POCLOUD\n",
            "Services: PO.DAAC Cloud OPeNDAP\n",
            "Services: PO.DAAC harmony-netcdf-to-zarr\n",
            "ECCO_L4_MIXED_LAYER_DEPTH_05DEG_DAILY_V4R4 , C1990404810-POCLOUD\n",
            "Services: PO.DAAC Cloud OPeNDAP\n",
            "Services: PO.DAAC harmony-netcdf-to-zarr\n",
            "ECCO_L4_MIXED_LAYER_DEPTH_LLC0090GRID_DAILY_V4R4 , C1991543734-POCLOUD\n",
            "Services: PO.DAAC Cloud OPeNDAP\n",
            "Services: PO.DAAC harmony-netcdf-to-zarr\n",
            "ECCO_L4_MIXED_LAYER_DEPTH_05DEG_MONTHLY_V4R4 , C1990404819-POCLOUD\n",
            "Services: PO.DAAC Cloud OPeNDAP\n",
            "Services: PO.DAAC harmony-netcdf-to-zarr\n",
            "ECCO_L4_MIXED_LAYER_DEPTH_LLC0090GRID_MONTHLY_V4R4 , C1991543741-POCLOUD\n",
            "Services: PO.DAAC Cloud OPeNDAP\n",
            "Services: PO.DAAC harmony-netcdf-to-zarr\n",
            "ECCO_L4_TEMP_SALINITY_05DEG_DAILY_V4R4 , C1990404821-POCLOUD\n",
            "Services: PO.DAAC Cloud OPeNDAP\n",
            "Services: PO.DAAC harmony-netcdf-to-zarr\n",
            "ECCO_L4_TEMP_SALINITY_LLC0090GRID_DAILY_V4R4 , C1991543736-POCLOUD\n",
            "Services: PO.DAAC Cloud OPeNDAP\n",
            "Services: PO.DAAC harmony-netcdf-to-zarr\n",
            "ECCO_L4_TEMP_SALINITY_05DEG_MONTHLY_V4R4 , C1990404795-POCLOUD\n",
            "Services: PO.DAAC Cloud OPeNDAP\n",
            "Services: PO.DAAC harmony-netcdf-to-zarr\n",
            "ECCO_L4_TEMP_SALINITY_LLC0090GRID_MONTHLY_V4R4 , C1991543728-POCLOUD\n",
            "Services: PO.DAAC Cloud OPeNDAP\n",
            "Services: PO.DAAC harmony-netcdf-to-zarr\n",
            "ECCO_L4_TEMP_SALINITY_LLC0090GRID_SNAPSHOT_V4R4 , C1991543757-POCLOUD\n",
            "Services: PO.DAAC Cloud OPeNDAP\n",
            "Services: PO.DAAC harmony-netcdf-to-zarr\n",
            "ECCO_L4_OCEAN_3D_MOMENTUM_TEND_LLC0090GRID_DAILY_V4R4 , C1991543726-POCLOUD\n",
            "Services: PO.DAAC Cloud OPeNDAP\n",
            "Services: PO.DAAC harmony-netcdf-to-zarr\n",
            "ECCO_L4_OCEAN_3D_MOMENTUM_TEND_LLC0090GRID_MONTHLY_V4R4 , C1991543702-POCLOUD\n",
            "Services: PO.DAAC Cloud OPeNDAP\n",
            "Services: PO.DAAC harmony-netcdf-to-zarr\n",
            "ECCO_L4_OCEAN_3D_TEMPERATURE_FLUX_LLC0090GRID_DAILY_V4R4 , C1991543812-POCLOUD\n",
            "Services: PO.DAAC Cloud OPeNDAP\n",
            "Services: PO.DAAC harmony-netcdf-to-zarr\n",
            "ECCO_L4_OCEAN_3D_TEMPERATURE_FLUX_LLC0090GRID_MONTHLY_V4R4 , C1991543740-POCLOUD\n",
            "Services: PO.DAAC Cloud OPeNDAP\n",
            "Services: PO.DAAC harmony-netcdf-to-zarr\n",
            "ECCO_L4_OCEAN_3D_SALINITY_FLUX_LLC0090GRID_DAILY_V4R4 , C1991543814-POCLOUD\n",
            "Services: PO.DAAC Cloud OPeNDAP\n",
            "Services: PO.DAAC harmony-netcdf-to-zarr\n",
            "ECCO_L4_OCEAN_3D_SALINITY_FLUX_LLC0090GRID_MONTHLY_V4R4 , C1991543752-POCLOUD\n",
            "Services: PO.DAAC Cloud OPeNDAP\n",
            "Services: PO.DAAC harmony-netcdf-to-zarr\n",
            "ECCO_L4_OCEAN_3D_VOLUME_FLUX_LLC0090GRID_DAILY_V4R4 , C1991543699-POCLOUD\n",
            "Services: PO.DAAC Cloud OPeNDAP\n",
            "Services: PO.DAAC harmony-netcdf-to-zarr\n",
            "ECCO_L4_OCEAN_3D_VOLUME_FLUX_LLC0090GRID_MONTHLY_V4R4 , C1991543739-POCLOUD\n",
            "Services: PO.DAAC Cloud OPeNDAP\n",
            "Services: PO.DAAC harmony-netcdf-to-zarr\n",
            "ECCO_L4_OCEAN_VEL_05DEG_DAILY_V4R4 , C1990404811-POCLOUD\n",
            "Services: PO.DAAC Cloud OPeNDAP\n",
            "Services: PO.DAAC harmony-netcdf-to-zarr\n",
            "ECCO_L4_OCEAN_VEL_LLC0090GRID_DAILY_V4R4 , C1991543808-POCLOUD\n",
            "Services: PO.DAAC Cloud OPeNDAP\n",
            "Services: PO.DAAC harmony-netcdf-to-zarr\n",
            "ECCO_L4_OCEAN_VEL_05DEG_MONTHLY_V4R4 , C1990404823-POCLOUD\n",
            "Services: PO.DAAC Cloud OPeNDAP\n",
            "Services: PO.DAAC harmony-netcdf-to-zarr\n",
            "ECCO_L4_OCEAN_VEL_LLC0090GRID_MONTHLY_V4R4 , C1991543732-POCLOUD\n",
            "Services: PO.DAAC Cloud OPeNDAP\n",
            "Services: PO.DAAC harmony-netcdf-to-zarr\n",
            "ECCO_L4_SBO_CORE_TIME_SERIES_SNAPSHOT_V4R4 , C1991543766-POCLOUD\n",
            "Services: PO.DAAC Cloud OPeNDAP\n",
            "Services: PO.DAAC harmony-netcdf-to-zarr\n",
            "ECCO_L4_SBO_CORE_TIME_SERIES_SNAPSHOT_V4R4B , C2133162585-POCLOUD\n",
            "Services: PO.DAAC Cloud OPeNDAP\n",
            "Services: PO.DAAC harmony-netcdf-to-zarr\n",
            "ECCO_L4_SSH_05DEG_DAILY_V4R4 , C1990404813-POCLOUD\n",
            "Services: PO.DAAC Cloud OPeNDAP\n",
            "Services: PO.DAAC harmony-netcdf-to-zarr\n",
            "ECCO_L4_SSH_05DEG_DAILY_V4R4B , C2129181904-POCLOUD\n",
            "Services: PO.DAAC Cloud OPeNDAP\n",
            "Services: PO.DAAC harmony-netcdf-to-zarr\n",
            "ECCO_L4_SSH_LLC0090GRID_DAILY_V4R4 , C1991543744-POCLOUD\n",
            "Services: PO.DAAC Cloud OPeNDAP\n",
            "Services: PO.DAAC harmony-netcdf-to-zarr\n",
            "ECCO_L4_SSH_LLC0090GRID_DAILY_V4R4B , C2129186341-POCLOUD\n",
            "Services: PO.DAAC Cloud OPeNDAP\n",
            "Services: PO.DAAC harmony-netcdf-to-zarr\n",
            "ECCO_L4_SSH_05DEG_MONTHLY_V4R4 , C1990404799-POCLOUD\n",
            "Services: PO.DAAC Cloud OPeNDAP\n",
            "Services: PO.DAAC harmony-netcdf-to-zarr\n",
            "ECCO_L4_SSH_05DEG_MONTHLY_V4R4B , C2129189405-POCLOUD\n",
            "Services: PO.DAAC Cloud OPeNDAP\n",
            "Services: PO.DAAC harmony-netcdf-to-zarr\n",
            "ECCO_L4_SSH_LLC0090GRID_MONTHLY_V4R4 , C1991543813-POCLOUD\n",
            "Services: PO.DAAC Cloud OPeNDAP\n",
            "Services: PO.DAAC harmony-netcdf-to-zarr\n",
            "ECCO_L4_SSH_LLC0090GRID_MONTHLY_V4R4B , C2129189870-POCLOUD\n",
            "Services: PO.DAAC Cloud OPeNDAP\n",
            "Services: PO.DAAC harmony-netcdf-to-zarr\n",
            "ECCO_L4_SSH_LLC0090GRID_SNAPSHOT_V4R4 , C1991543817-POCLOUD\n",
            "Services: PO.DAAC Cloud OPeNDAP\n",
            "Services: PO.DAAC harmony-netcdf-to-zarr\n",
            "ECCO_L4_SEA_ICE_CONC_THICKNESS_05DEG_DAILY_V4R4 , C1990404815-POCLOUD\n",
            "Services: PO.DAAC Cloud OPeNDAP\n",
            "Services: PO.DAAC harmony-netcdf-to-zarr\n",
            "ECCO_L4_SEA_ICE_CONC_THICKNESS_LLC0090GRID_DAILY_V4R4 , C1991543763-POCLOUD\n",
            "Services: PO.DAAC Cloud OPeNDAP\n",
            "Services: PO.DAAC harmony-netcdf-to-zarr\n",
            "ECCO_L4_SEA_ICE_CONC_THICKNESS_05DEG_MONTHLY_V4R4 , C1990404820-POCLOUD\n",
            "Services: PO.DAAC Cloud OPeNDAP\n",
            "Services: PO.DAAC harmony-netcdf-to-zarr\n",
            "ECCO_L4_SEA_ICE_CONC_THICKNESS_LLC0090GRID_MONTHLY_V4R4 , C1991543764-POCLOUD\n",
            "Services: PO.DAAC Cloud OPeNDAP\n",
            "Services: PO.DAAC harmony-netcdf-to-zarr\n",
            "ECCO_L4_SEA_ICE_CONC_THICKNESS_LLC0090GRID_SNAPSHOT_V4R4 , C1991543821-POCLOUD\n",
            "Services: PO.DAAC Cloud OPeNDAP\n",
            "Services: PO.DAAC harmony-netcdf-to-zarr\n",
            "ECCO_L4_SEA_ICE_HORIZ_VOLUME_FLUX_LLC0090GRID_DAILY_V4R4 , C1991543731-POCLOUD\n",
            "Services: PO.DAAC Cloud OPeNDAP\n",
            "Services: PO.DAAC harmony-netcdf-to-zarr\n",
            "ECCO_L4_SEA_ICE_HORIZ_VOLUME_FLUX_LLC0090GRID_MONTHLY_V4R4 , C1991543724-POCLOUD\n",
            "Services: PO.DAAC Cloud OPeNDAP\n",
            "Services: PO.DAAC harmony-netcdf-to-zarr\n",
            "ECCO_L4_SEA_ICE_SALT_PLUME_FLUX_LLC0090GRID_DAILY_V4R4 , C1991543807-POCLOUD\n",
            "Services: PO.DAAC Cloud OPeNDAP\n",
            "Services: PO.DAAC harmony-netcdf-to-zarr\n",
            "ECCO_L4_SEA_ICE_SALT_PLUME_FLUX_LLC0090GRID_MONTHLY_V4R4 , C1991543730-POCLOUD\n",
            "Services: PO.DAAC Cloud OPeNDAP\n",
            "Services: PO.DAAC harmony-netcdf-to-zarr\n",
            "ECCO_L4_SEA_ICE_VELOCITY_05DEG_DAILY_V4R4 , C1990404817-POCLOUD\n",
            "Services: PO.DAAC Cloud OPeNDAP\n",
            "Services: PO.DAAC harmony-netcdf-to-zarr\n",
            "ECCO_L4_SEA_ICE_VELOCITY_LLC0090GRID_DAILY_V4R4 , C1991543765-POCLOUD\n",
            "Services: PO.DAAC Cloud OPeNDAP\n",
            "Services: PO.DAAC harmony-netcdf-to-zarr\n",
            "ECCO_L4_SEA_ICE_VELOCITY_05DEG_MONTHLY_V4R4 , C1990404790-POCLOUD\n",
            "Services: PO.DAAC Cloud OPeNDAP\n",
            "Services: PO.DAAC harmony-netcdf-to-zarr\n",
            "ECCO_L4_SEA_ICE_VELOCITY_LLC0090GRID_MONTHLY_V4R4 , C1991543700-POCLOUD\n",
            "Services: PO.DAAC Cloud OPeNDAP\n",
            "Services: PO.DAAC harmony-netcdf-to-zarr\n",
            "ECCO_L4_SEA_ICE_VELOCITY_LLC0090GRID_SNAPSHOT_V4R4 , C1991543768-POCLOUD\n",
            "Services: PO.DAAC Cloud OPeNDAP\n",
            "Services: PO.DAAC harmony-netcdf-to-zarr\n",
            "GEDI_L4A_AGB_Density_V2_1_2056 , C2237824918-ORNL_CLOUD\n",
            "Services: sds-trajectory-subsetter\n",
            "VIIRS_NPP-NAVO-L2P-v1.0 , C1996881807-POCLOUD\n",
            "Services: PO.DAAC Cloud OPeNDAP\n",
            "Services: PODAAC L2 Cloud Subsetter\n",
            "VIIRS_NPP-NAVO-L2P-v3.0 , C1996881636-POCLOUD\n",
            "Services: PO.DAAC Cloud OPeNDAP\n",
            "Services: PODAAC L2 Cloud Subsetter\n",
            "MSG03-OSPO-L2P-v1.0 , C2036878029-POCLOUD\n",
            "Services: PO.DAAC Cloud OPeNDAP\n",
            "Services: PODAAC L2 Cloud Subsetter\n",
            "AVHRRMTA_G-NAVO-L2P-v1.0 , C2205618215-POCLOUD\n",
            "Services: PO.DAAC Cloud OPeNDAP\n",
            "Services: PODAAC Concise\n",
            "Services: PODAAC L2 Cloud Subsetter\n",
            "Services: PODAAC L2SS-py Concise Chain\n",
            "AVHRRMTB_G-NAVO-L2P-v1.0 , C2205618339-POCLOUD\n",
            "Services: PO.DAAC Cloud OPeNDAP\n",
            "Services: PODAAC Concise\n",
            "Services: PODAAC L2 Cloud Subsetter\n",
            "Services: PODAAC L2SS-py Concise Chain\n",
            "VIIRS_NPP-JPL-L2P-v2016.2 , C1996881456-POCLOUD\n",
            "Services: PO.DAAC Cloud OPeNDAP\n",
            "Services: PODAAC L2 Cloud Subsetter\n",
            "MODIS_A-JPL-L2P-v2019.0 , C1940473819-POCLOUD\n",
            "Services: PO.DAAC Cloud OPeNDAP\n",
            "Services: PODAAC Concise\n",
            "Services: PODAAC L2 Cloud Subsetter\n",
            "Services: PODAAC L2SS-py Concise Chain\n",
            "MODIS_T-JPL-L2P-v2019.0 , C1940475563-POCLOUD\n",
            "Services: PO.DAAC Cloud OPeNDAP\n",
            "Services: PODAAC Concise\n",
            "Services: PODAAC L2 Cloud Subsetter\n",
            "Services: PODAAC L2SS-py Concise Chain\n",
            "TMI-REMSS-L2P-v4 , C2036879048-POCLOUD\n",
            "Services: PO.DAAC Cloud OPeNDAP\n",
            "Services: PODAAC L2 Cloud Subsetter\n",
            "AVHRR_SST_METOP_B-OSISAF-L2P-v1.0 , C2036880717-POCLOUD\n",
            "Services: PO.DAAC Cloud OPeNDAP\n",
            "Services: PODAAC L2 Cloud Subsetter\n",
            "MUR-JPL-L4-GLOB-v4.1 , C1996881146-POCLOUD\n",
            "Services: PO.DAAC Cloud OPeNDAP\n",
            "Services: SDS HOSS\n",
            "AVHRRF_MA-STAR-L2P-v2.80 , C2205121384-POCLOUD\n",
            "Services: PO.DAAC Cloud OPeNDAP\n",
            "Services: PODAAC Concise\n",
            "Services: PODAAC L2 Cloud Subsetter\n",
            "Services: PODAAC L2SS-py Concise Chain\n",
            "AVHRRF_MB-STAR-L2P-v2.80 , C2205121394-POCLOUD\n",
            "Services: PO.DAAC Cloud OPeNDAP\n",
            "Services: PODAAC Concise\n",
            "Services: PODAAC L2 Cloud Subsetter\n",
            "Services: PODAAC L2SS-py Concise Chain\n",
            "AVHRRF_MC-STAR-L2P-v2.80 , C2205121400-POCLOUD\n",
            "Services: PO.DAAC Cloud OPeNDAP\n",
            "Services: PODAAC L2 Cloud Subsetter\n",
            "GPM_3IMERGHH , C1598621093-GES_DISC\n",
            "Services: GESDISC_HOSS\n",
            "JASON-1_L2_OST_GPR_E , C1684065156-PODAAC\n",
            "Services: PODAAC L2 Cloud Subsetter\n",
            "JASON-1_L2_OST_GPN_E , C1684065153-PODAAC\n",
            "Services: PODAAC L2 Cloud Subsetter\n",
            "JASON-1_L2_OST_GPS_E , C1684065158-PODAAC\n",
            "Services: PODAAC L2 Cloud Subsetter\n",
            "JASON_3_L2_OST_OGDR_GPS , C2205122298-POCLOUD\n",
            "Services: PODAAC L2 Cloud Subsetter\n",
            "SMAP_JPL_L2B_SSS_CAP_V5 , C2208420167-POCLOUD\n",
            "Services: PO.DAAC Cloud OPeNDAP\n",
            "Services: PODAAC L2 Cloud Subsetter\n",
            "SMAP_JPL_L2B_NRT_SSS_CAP_V5 , C2208418228-POCLOUD\n",
            "Services: PO.DAAC Cloud OPeNDAP\n",
            "Services: PODAAC L2 Cloud Subsetter\n",
            "SMAP_JPL_L3_SSS_CAP_8DAY-RUNNINGMEAN_V5 , C2208422957-POCLOUD\n",
            "Services: PO.DAAC Cloud OPeNDAP\n",
            "Services: SDS HOSS\n",
            "M2I3NVAER , C1276812882-GES_DISC\n",
            "Services: GESDISC_HOSS\n",
            "M2I3NPASM , C1276812879-GES_DISC\n",
            "Services: GESDISC_HOSS\n",
            "ASCATB-L2-25km , C2075141559-POCLOUD\n",
            "Services: PO.DAAC Cloud OPeNDAP\n",
            "Services: PODAAC L2 Cloud Subsetter\n",
            "ASCATB-L2-Coastal , C2075141605-POCLOUD\n",
            "Services: PO.DAAC Cloud OPeNDAP\n",
            "Services: PODAAC L2 Cloud Subsetter\n",
            "CYGNSS_NOAA_L2_SWSP_25KM_V1.1 , C2036882072-POCLOUD\n",
            "Services: PO.DAAC Cloud OPeNDAP\n",
            "Services: PODAAC L2 Cloud Subsetter\n",
            "CYGNSS_NOAA_L2_SWSP_25KM_V1.2 , C2254232941-POCLOUD\n",
            "Services: PO.DAAC Cloud OPeNDAP\n",
            "Services: PODAAC L2 Cloud Subsetter\n",
            "OMSO2 , C1239966837-GES_DISC\n",
            "Services: GESDISC_HL2SS\n",
            "ALTIKA_SARAL_L2_OST_XOGDR , C2251465126-POCLOUD\n",
            "Services: PODAAC L2 Cloud Subsetter\n",
            "JASON_CS_S6A_L2_AMR_RAD_NRT , C1968979997-POCLOUD\n",
            "Services: PO.DAAC Cloud OPeNDAP\n",
            "Services: PODAAC L2 Cloud Subsetter\n",
            "JASON_CS_S6A_L2_AMR_RAD_STC , C1968979762-POCLOUD\n",
            "Services: PO.DAAC Cloud OPeNDAP\n",
            "Services: PODAAC L2 Cloud Subsetter\n",
            "JASON_CS_S6A_L2_ALT_HR_STD_OST_NRT_F , C1968979566-POCLOUD\n",
            "Services: PO.DAAC Cloud OPeNDAP\n",
            "Services: PODAAC L2 Cloud Subsetter\n",
            "JASON_CS_S6A_L2_ALT_HR_RED_OST_NRT_F , C1968980549-POCLOUD\n",
            "Services: PO.DAAC Cloud OPeNDAP\n",
            "Services: PODAAC L2 Cloud Subsetter\n",
            "JASON_CS_S6A_L2_ALT_HR_STD_OST_STC_F , C1968980583-POCLOUD\n",
            "Services: PO.DAAC Cloud OPeNDAP\n",
            "Services: PODAAC L2 Cloud Subsetter\n",
            "JASON_CS_S6A_L2_ALT_HR_RED_OST_STC_F , C1968979550-POCLOUD\n",
            "Services: PO.DAAC Cloud OPeNDAP\n",
            "Services: PODAAC L2 Cloud Subsetter\n",
            "JASON_CS_S6A_L2_ALT_LR_STD_OST_NRT_F , C1968979597-POCLOUD\n",
            "Services: PO.DAAC Cloud OPeNDAP\n",
            "Services: PODAAC L2 Cloud Subsetter\n",
            "JASON_CS_S6A_L2_ALT_LR_RED_OST_NRT_F , C1968980576-POCLOUD\n",
            "Services: PO.DAAC Cloud OPeNDAP\n",
            "Services: PODAAC L2 Cloud Subsetter\n",
            "JASON_CS_S6A_L2_ALT_LR_STD_OST_STC_F , C1968980609-POCLOUD\n",
            "Services: PO.DAAC Cloud OPeNDAP\n",
            "Services: PODAAC L2 Cloud Subsetter\n",
            "JASON_CS_S6A_L2_ALT_LR_RED_OST_STC_F , C1968979561-POCLOUD\n",
            "Services: PO.DAAC Cloud OPeNDAP\n",
            "Services: PODAAC L2 Cloud Subsetter\n",
            "SNDRJ1IML2CCPRET , C1692982090-GES_DISC\n",
            "Services: GESDISC_HL2SS\n",
            "SNDRSNIML2CCPRET , C1692982075-GES_DISC\n",
            "Services: GESDISC_HL2SS\n",
            "SWOT_SIMULATED_L2_KARIN_SSH_GLORYS_CALVAL_V1 , C2152046451-POCLOUD\n",
            "Services: PO.DAAC Cloud OPeNDAP\n",
            "Services: PODAAC L2 Cloud Subsetter\n",
            "SWOT_SIMULATED_L2_KARIN_SSH_ECCO_LLC4320_CALVAL_V1 , C2147947806-POCLOUD\n",
            "Services: PO.DAAC Cloud OPeNDAP\n",
            "Services: PODAAC L2 Cloud Subsetter\n",
            "SWOT_SIMULATED_L2_KARIN_SSH_ECCO_LLC4320_SCIENCE_V1 , C2152044763-POCLOUD\n",
            "Services: PO.DAAC Cloud OPeNDAP\n",
            "Services: PODAAC L2 Cloud Subsetter\n",
            "SWOT_SIMULATED_L2_NADIR_SSH_GLORYS_CALVAL_V1 , C2158348264-POCLOUD\n",
            "Services: PO.DAAC Cloud OPeNDAP\n",
            "Services: PODAAC L2 Cloud Subsetter\n",
            "SWOT_SIMULATED_L2_NADIR_SSH_GLORYS_SCIENCE_V1 , C2158350299-POCLOUD\n",
            "Services: PO.DAAC Cloud OPeNDAP\n",
            "Services: PODAAC L2 Cloud Subsetter\n",
            "SWOT_SIMULATED_L2_NADIR_SSH_ECCO_LLC4320_CALVAL_V1 , C2158344213-POCLOUD\n",
            "Services: PO.DAAC Cloud OPeNDAP\n",
            "Services: PODAAC L2 Cloud Subsetter\n",
            "SWOT_SIMULATED_L2_NADIR_SSH_ECCO_LLC4320_SCIENCE_V1 , C2158348170-POCLOUD\n",
            "Services: PO.DAAC Cloud OPeNDAP\n",
            "Services: PODAAC L2 Cloud Subsetter\n"
          ]
        }
      ]
    },
    {
      "cell_type": "markdown",
      "source": [
        "Discover variable names"
      ],
      "metadata": {
        "id": "cooD7WKFMTLA"
      }
    },
    {
      "cell_type": "code",
      "source": [
        "variables = response['feed']['entry'][0]['associations']['variables']\n",
        "print(variables)"
      ],
      "metadata": {
        "colab": {
          "base_uri": "https://localhost:8080/"
        },
        "id": "ABagLJ-bMT3B",
        "outputId": "79cb7c70-5bcc-4030-d73b-4fe6a52e0a9e"
      },
      "execution_count": null,
      "outputs": [
        {
          "output_type": "stream",
          "name": "stdout",
          "text": [
            "['V1997812737-POCLOUD', 'V1997812697-POCLOUD', 'V2112014688-POCLOUD', 'V1997812756-POCLOUD', 'V1997812688-POCLOUD', 'V1997812670-POCLOUD', 'V1997812724-POCLOUD', 'V2112014684-POCLOUD', 'V1997812701-POCLOUD', 'V1997812681-POCLOUD', 'V2112014686-POCLOUD', 'V1997812663-POCLOUD', 'V1997812676-POCLOUD', 'V1997812744-POCLOUD', 'V1997812714-POCLOUD']\n"
          ]
        }
      ]
    },
    {
      "cell_type": "markdown",
      "source": [
        "Several variable records are returned. Again, like we did for services, we’ll search the variables endpoint to view an individual variable’s metadata, and we’ll print out the list of variables for our dataset."
      ],
      "metadata": {
        "id": "L0KAr1XWMcyn"
      }
    },
    {
      "cell_type": "code",
      "source": [
        "var_url = \"https://cmr.earthdata.nasa.gov/search/variables\""
      ],
      "metadata": {
        "id": "qRNp3DkZMXkP"
      },
      "execution_count": null,
      "outputs": []
    },
    {
      "cell_type": "code",
      "source": [
        "var_response = requests.get(var_url, \n",
        "                        params={\n",
        "                            'concept_id': variables[0],\n",
        "                            },\n",
        "                        headers={\n",
        "                            'Accept': 'application/vnd.nasa.cmr.umm_results+json'\n",
        "                            }\n",
        "                       )\n",
        "var_response = var_response.json()"
      ],
      "metadata": {
        "id": "86Mc0_GaMZGb"
      },
      "execution_count": null,
      "outputs": []
    },
    {
      "cell_type": "markdown",
      "source": [
        "This utilizes a different API endpoint to query CMR metdata using GraphQL. Here we set up another request, passing our query string above:\n",
        "\n",
        "\n",
        "\n",
        "---\n",
        "\n"
      ],
      "metadata": {
        "id": "NXch-lkODI3m"
      }
    },
    {
      "cell_type": "code",
      "source": [
        "pprint(var_response)"
      ],
      "metadata": {
        "colab": {
          "base_uri": "https://localhost:8080/"
        },
        "id": "lQymaWrNDZ39",
        "outputId": "6713bfa2-d613-42d7-ecb3-4396a5edccb1"
      },
      "execution_count": null,
      "outputs": [
        {
          "output_type": "stream",
          "name": "stdout",
          "text": [
            "{'hits': 1,\n",
            " 'items': [{'associations': {'collections': [{'concept-id': 'C1940473819-POCLOUD'}]},\n",
            "            'meta': {'concept-id': 'V1997812737-POCLOUD',\n",
            "                     'concept-type': 'variable',\n",
            "                     'deleted': False,\n",
            "                     'format': 'application/vnd.nasa.cmr.umm+json',\n",
            "                     'native-id': 'MODIS_A-JPL-L2P-v2019.0-sses_standard_deviation_4um',\n",
            "                     'provider-id': 'POCLOUD',\n",
            "                     'revision-date': '2022-06-22T19:21:18.580Z',\n",
            "                     'revision-id': 7,\n",
            "                     'user-id': 'chen5510'},\n",
            "            'umm': {'DataType': 'byte',\n",
            "                    'Definition': 'mid-IR SST standard deviation error; non '\n",
            "                                  'L2P core field; signed byte array:  WARNING '\n",
            "                                  'Some applications are unable to properly '\n",
            "                                  'handle signed byte values. If values are '\n",
            "                                  'encountered > 127, please subtract 256 from '\n",
            "                                  'this reported value',\n",
            "                    'Dimensions': [{'Name': 'time',\n",
            "                                    'Size': 1,\n",
            "                                    'Type': 'TIME_DIMENSION'},\n",
            "                                   {'Name': 'nj',\n",
            "                                    'Size': 2030,\n",
            "                                    'Type': 'ALONG_TRACK_DIMENSION'},\n",
            "                                   {'Name': 'ni',\n",
            "                                    'Size': 1354,\n",
            "                                    'Type': 'CROSS_TRACK_DIMENSION'}],\n",
            "                    'FillValues': [{'Type': 'SCIENCE_FILLVALUE',\n",
            "                                    'Value': -128}],\n",
            "                    'LongName': 'SSES standard deviation error based on '\n",
            "                                'proximity confidence flags',\n",
            "                    'MetadataSpecification': {'Name': 'UMM-Var',\n",
            "                                              'URL': 'https://cdn.earthdata.nasa.gov/umm/variable/v1.8.1',\n",
            "                                              'Version': '1.8.1'},\n",
            "                    'Name': 'sses_standard_deviation_4um',\n",
            "                    'Offset': 10.0,\n",
            "                    'Scale': 0.07874016,\n",
            "                    'Sets': [{'Index': 1,\n",
            "                              'Name': 'sses_standard_deviation_4um',\n",
            "                              'Size': 1,\n",
            "                              'Type': 'General'}],\n",
            "                    'Units': 'kelvin',\n",
            "                    'ValidRanges': [{'Max': 127, 'Min': -127}],\n",
            "                    'VariableType': 'ANCILLARY_VARIABLE'}}],\n",
            " 'took': 17}\n"
          ]
        }
      ]
    },
    {
      "cell_type": "markdown",
      "source": [
        "Next, print out a simple list of all associated variable names by looping the same variable response we submitted above, this time for each variable:"
      ],
      "metadata": {
        "id": "FrHrd8KwM6Pw"
      }
    },
    {
      "cell_type": "code",
      "source": [
        "var_list = []\n",
        "for i in range(len(variables)):\n",
        "    var_response = requests.get(var_url, \n",
        "                            params={\n",
        "                                'concept_id': variables[i],\n",
        "                                },\n",
        "                            headers={\n",
        "                                'Accept': 'application/vnd.nasa.cmr.umm_results+json'\n",
        "                                }\n",
        "                           )\n",
        "    var_response = var_response.json()\n",
        "    var_list.append(var_response['items'][0]['umm']['Name'])"
      ],
      "metadata": {
        "id": "SyPCbRizM5u8"
      },
      "execution_count": null,
      "outputs": []
    },
    {
      "cell_type": "code",
      "source": [
        ""
      ],
      "metadata": {
        "id": "yE30SCCONYPx"
      },
      "execution_count": null,
      "outputs": []
    },
    {
      "cell_type": "markdown",
      "source": [
        "# Create Harmony Client object\n",
        "\n",
        "\n",
        "---\n",
        "\n"
      ],
      "metadata": {
        "id": "1Uon6fWgNZCk"
      }
    },
    {
      "cell_type": "code",
      "source": [
        "harmony_client = Client(auth=('*****', '****))"
      ],
      "metadata": {
        "id": "SwbpAFhVOLSH"
      },
      "execution_count": null,
      "outputs": []
    },
    {
      "cell_type": "code",
      "source": [
        "request = Request(\n",
        "    collection=Collection(id=short_name),\n",
        "    spatial=BBox(-97.77667,21.20806,-83.05197,30.16605),\n",
        "    temporal={\n",
        "        'start': dt.datetime(2021, 8, 20),\n",
        "        'stop': dt.datetime(2021, 8, 21),\n",
        "    },\n",
        ")"
      ],
      "metadata": {
        "id": "DFHEOJcTOcLn"
      },
      "execution_count": null,
      "outputs": []
    },
    {
      "cell_type": "code",
      "source": [
        "request.is_valid()"
      ],
      "metadata": {
        "colab": {
          "base_uri": "https://localhost:8080/"
        },
        "id": "_Ms9gRgQOf1M",
        "outputId": "be8589a7-d02a-4631-ec37-8a75b9175c7f"
      },
      "execution_count": null,
      "outputs": [
        {
          "output_type": "execute_result",
          "data": {
            "text/plain": [
              "True"
            ]
          },
          "metadata": {},
          "execution_count": 108
        }
      ]
    },
    {
      "cell_type": "code",
      "source": [
        ""
      ],
      "metadata": {
        "id": "AJ3h3ajvOi4V"
      },
      "execution_count": null,
      "outputs": []
    },
    {
      "cell_type": "markdown",
      "source": [
        "Submit request\n",
        "\n",
        "> Now that the request is created, we can now submit it to Harmony using the Harmony Client object. A job id is returned, which is a unique identifier that represents the submitted request."
      ],
      "metadata": {
        "id": "c-BYtWydOrBV"
      }
    },
    {
      "cell_type": "code",
      "source": [
        "job_id = harmony_client.submit(request)\n",
        "job_id"
      ],
      "metadata": {
        "colab": {
          "base_uri": "https://localhost:8080/",
          "height": 35
        },
        "id": "5sOzHgwnOi6R",
        "outputId": "d3da5a17-e36c-40bc-969d-55b785398d59"
      },
      "execution_count": null,
      "outputs": [
        {
          "output_type": "execute_result",
          "data": {
            "text/plain": [
              "'a417f181-677b-4a75-98e0-794c1e3dd188'"
            ],
            "application/vnd.google.colaboratory.intrinsic+json": {
              "type": "string"
            }
          },
          "metadata": {},
          "execution_count": 109
        }
      ]
    },
    {
      "cell_type": "markdown",
      "source": [
        "Check request status\n"
      ],
      "metadata": {
        "id": "O1Z5JpajOmd8"
      }
    },
    {
      "cell_type": "markdown",
      "source": [
        "We can check on the progress of a processing job with status(). This method blocks while communicating with the server but returns quickly.\n",
        "\n",
        "\n"
      ],
      "metadata": {
        "id": "T_kx98SRO3FN"
      }
    },
    {
      "cell_type": "code",
      "source": [
        "harmony_client.status(job_id)"
      ],
      "metadata": {
        "colab": {
          "base_uri": "https://localhost:8080/"
        },
        "id": "A2-xqGBWOmMf",
        "outputId": "d8ad3128-3f94-4d08-f299-63110b1ed40d"
      },
      "execution_count": null,
      "outputs": [
        {
          "output_type": "execute_result",
          "data": {
            "text/plain": [
              "{'created_at': datetime.datetime(2022, 7, 14, 2, 0, 43, 935000, tzinfo=tzlocal()),\n",
              " 'created_at_local': '2022-07-14T02:00:43+00:00',\n",
              " 'data_expiration': datetime.datetime(2022, 8, 13, 2, 0, 43, 935000, tzinfo=tzlocal()),\n",
              " 'data_expiration_local': '2022-08-13T02:00:43+00:00',\n",
              " 'message': 'The job is being processed',\n",
              " 'num_input_granules': 6,\n",
              " 'progress': 0,\n",
              " 'request': 'https://harmony.earthdata.nasa.gov/MODIS_A-JPL-L2P-v2019.0/ogc-api-coverages/1.0.0/collections/all/coverage/rangeset?forceAsync=true&subset=lat(21.20806%3A30.16605)&subset=lon(-97.77667%3A-83.05197)&subset=time(%222021-08-20T00%3A00%3A00%22%3A%222021-08-21T00%3A00%3A00%22)',\n",
              " 'status': 'running',\n",
              " 'updated_at': datetime.datetime(2022, 7, 14, 2, 0, 45, 272000, tzinfo=tzlocal()),\n",
              " 'updated_at_local': '2022-07-14T02:00:45+00:00'}"
            ]
          },
          "metadata": {},
          "execution_count": 110
        }
      ]
    },
    {
      "cell_type": "markdown",
      "source": [
        "Depending on the size of the request, it may be helpful to wait until the request has completed processing before the remainder of the code is executed. The wait_for_processing() method will block subsequent lines of code while optionally showing a progress bar."
      ],
      "metadata": {
        "id": "XyC_vifrO-gd"
      }
    },
    {
      "cell_type": "code",
      "source": [
        "harmony_client.wait_for_processing(job_id, show_progress=True)"
      ],
      "metadata": {
        "colab": {
          "base_uri": "https://localhost:8080/"
        },
        "id": "suBq5_HhO_xE",
        "outputId": "de526aad-9704-45c0-8c9a-e0947ef8587c"
      },
      "execution_count": null,
      "outputs": [
        {
          "output_type": "stream",
          "name": "stderr",
          "text": [
            " [ Processing: 100% ] |###################################################| [|]\n"
          ]
        }
      ]
    },
    {
      "cell_type": "markdown",
      "source": [
        "View Harmony job response and output URLs\n",
        "> Once the data request has finished processing, we can view details on the job that was submitted to Harmony, including the API call to Harmony, and informational messages on the request if available.\n",
        "\n",
        "> result_json() calls wait_for_processing() and returns the complete job in JSON format once processing is complete."
      ],
      "metadata": {
        "id": "G4lCoKGLPEZQ"
      }
    },
    {
      "cell_type": "code",
      "source": [
        "data = harmony_client.result_json(job_id)\n",
        "pprint(data)"
      ],
      "metadata": {
        "colab": {
          "base_uri": "https://localhost:8080/"
        },
        "id": "73pqI6pcO_zT",
        "outputId": "79beae45-f29d-41a7-9a74-b83032259fa3"
      },
      "execution_count": null,
      "outputs": [
        {
          "output_type": "stream",
          "name": "stdout",
          "text": [
            "{'createdAt': '2022-07-14T02:00:43.935Z',\n",
            " 'dataExpiration': '2022-08-13T02:00:43.935Z',\n",
            " 'jobID': 'a417f181-677b-4a75-98e0-794c1e3dd188',\n",
            " 'links': [{'href': 'https://harmony.earthdata.nasa.gov/stac/a417f181-677b-4a75-98e0-794c1e3dd188/',\n",
            "            'rel': 'stac-catalog-json',\n",
            "            'title': 'STAC catalog',\n",
            "            'type': 'application/json'},\n",
            "           {'bbox': [-97.8, 21.2, -97.3, 24.6],\n",
            "            'href': 'https://harmony.earthdata.nasa.gov/service-results/harmony-prod-staging/public/podaac/l2-subsetter/a5c3e2e7-94e9-4cec-ba40-66c5c54ab87a/20210820203501-JPL-L2P_GHRSST-SSTskin-MODIS_A-D-v02.0-fv01.0_subsetted.nc4',\n",
            "            'rel': 'data',\n",
            "            'temporal': {'end': '2021-08-20T20:39:58.000Z',\n",
            "                         'start': '2021-08-20T20:35:01.000Z'},\n",
            "            'title': '20210820203501-JPL-L2P_GHRSST-SSTskin-MODIS_A-D-v02.0-fv01.0_subsetted.nc4',\n",
            "            'type': 'application/x-netcdf4'},\n",
            "           {'bbox': [-97.8, 25.3, -83.1, 30.2],\n",
            "            'href': 'https://harmony.earthdata.nasa.gov/service-results/harmony-prod-staging/public/podaac/l2-subsetter/a5c3e2e7-94e9-4cec-ba40-66c5c54ab87a/20210820190001-JPL-L2P_GHRSST-SSTskin-MODIS_A-D-v02.0-fv01.0_subsetted.nc4',\n",
            "            'rel': 'data',\n",
            "            'temporal': {'end': '2021-08-20T19:04:58.000Z',\n",
            "                         'start': '2021-08-20T19:00:01.000Z'},\n",
            "            'title': '20210820190001-JPL-L2P_GHRSST-SSTskin-MODIS_A-D-v02.0-fv01.0_subsetted.nc4',\n",
            "            'type': 'application/x-netcdf4'},\n",
            "           {'bbox': [-96.8, 21.2, -83.1, 27.7],\n",
            "            'href': 'https://harmony.earthdata.nasa.gov/service-results/harmony-prod-staging/public/podaac/l2-subsetter/a5c3e2e7-94e9-4cec-ba40-66c5c54ab87a/20210820185501-JPL-L2P_GHRSST-SSTskin-MODIS_A-D-v02.0-fv01.0_subsetted.nc4',\n",
            "            'rel': 'data',\n",
            "            'temporal': {'end': '2021-08-20T18:59:58.000Z',\n",
            "                         'start': '2021-08-20T18:55:01.000Z'},\n",
            "            'title': '20210820185501-JPL-L2P_GHRSST-SSTskin-MODIS_A-D-v02.0-fv01.0_subsetted.nc4',\n",
            "            'type': 'application/x-netcdf4'},\n",
            "           {'bbox': [-128.335, 29.006, -95.854, 49.87],\n",
            "            'href': 'https://harmony.earthdata.nasa.gov/service-results/harmony-prod-staging/public/podaac/l2-subsetter/a5c3e2e7-94e9-4cec-ba40-66c5c54ab87a/20210820093501-JPL-L2P_GHRSST-SSTskin-MODIS_A-N-v02.0-fv01.0.nc4',\n",
            "            'rel': 'data',\n",
            "            'temporal': {'end': '2021-08-20T09:39:49.000Z',\n",
            "                         'start': '2021-08-20T09:35:01.000Z'},\n",
            "            'title': '20210820093501-JPL-L2P_GHRSST-SSTskin-MODIS_A-N-v02.0-fv01.0.nc4',\n",
            "            'type': 'application/x-netcdf4'},\n",
            "           {'bbox': [-97.8, 21.2, -83.1, 30.2],\n",
            "            'href': 'https://harmony.earthdata.nasa.gov/service-results/harmony-prod-staging/public/podaac/l2-subsetter/a5c3e2e7-94e9-4cec-ba40-66c5c54ab87a/20210820080001-JPL-L2P_GHRSST-SSTskin-MODIS_A-N-v02.0-fv01.0_subsetted.nc4',\n",
            "            'rel': 'data',\n",
            "            'temporal': {'end': '2021-08-20T08:04:58.000Z',\n",
            "                         'start': '2021-08-20T08:00:01.000Z'},\n",
            "            'title': '20210820080001-JPL-L2P_GHRSST-SSTskin-MODIS_A-N-v02.0-fv01.0_subsetted.nc4',\n",
            "            'type': 'application/x-netcdf4'},\n",
            "           {'bbox': [-83.612, 1.103, -58.391, 22.005],\n",
            "            'href': 'https://harmony.earthdata.nasa.gov/service-results/harmony-prod-staging/public/podaac/l2-subsetter/a5c3e2e7-94e9-4cec-ba40-66c5c54ab87a/20210820062501-JPL-L2P_GHRSST-SSTskin-MODIS_A-N-v02.0-fv01.0.nc4',\n",
            "            'rel': 'data',\n",
            "            'temporal': {'end': '2021-08-20T06:29:58.000Z',\n",
            "                         'start': '2021-08-20T06:25:01.000Z'},\n",
            "            'title': '20210820062501-JPL-L2P_GHRSST-SSTskin-MODIS_A-N-v02.0-fv01.0.nc4',\n",
            "            'type': 'application/x-netcdf4'},\n",
            "           {'href': 'https://harmony.earthdata.nasa.gov/jobs/a417f181-677b-4a75-98e0-794c1e3dd188?linktype=https&page=1&limit=2000',\n",
            "            'rel': 'self',\n",
            "            'title': 'The current page',\n",
            "            'type': 'application/json'}],\n",
            " 'message': 'The job has completed successfully',\n",
            " 'numInputGranules': 6,\n",
            " 'progress': 100,\n",
            " 'request': 'https://harmony.earthdata.nasa.gov/MODIS_A-JPL-L2P-v2019.0/ogc-api-coverages/1.0.0/collections/all/coverage/rangeset?forceAsync=true&subset=lat(21.20806%3A30.16605)&subset=lon(-97.77667%3A-83.05197)&subset=time(%222021-08-20T00%3A00%3A00%22%3A%222021-08-21T00%3A00%3A00%22)',\n",
            " 'status': 'successful',\n",
            " 'updatedAt': '2022-07-14T02:01:10.697Z',\n",
            " 'username': 'stperez42'}\n"
          ]
        }
      ]
    },
    {
      "cell_type": "code",
      "source": [
        "from google.colab import file"
      ],
      "metadata": {
        "colab": {
          "base_uri": "https://localhost:8080/",
          "height": 166
        },
        "id": "PlU-FB59PPD0",
        "outputId": "a964ebdf-a715-4100-8146-8cfe23ee8382"
      },
      "execution_count": null,
      "outputs": [
        {
          "output_type": "error",
          "ename": "AttributeError",
          "evalue": "ignored",
          "traceback": [
            "\u001b[0;31m---------------------------------------------------------------------------\u001b[0m",
            "\u001b[0;31mAttributeError\u001b[0m                            Traceback (most recent call last)",
            "\u001b[0;32m<ipython-input-135-08fc6827316f>\u001b[0m in \u001b[0;36m<module>\u001b[0;34m()\u001b[0m\n\u001b[0;32m----> 1\u001b[0;31m \u001b[0murls\u001b[0m\u001b[0;34m.\u001b[0m\u001b[0maws_session_token\u001b[0m\u001b[0;34m(\u001b[0m\u001b[0;34m)\u001b[0m\u001b[0;34m\u001b[0m\u001b[0;34m\u001b[0m\u001b[0m\n\u001b[0m",
            "\u001b[0;31mAttributeError\u001b[0m: 'list' object has no attribute 'aws_session_token'"
          ]
        }
      ]
    },
    {
      "cell_type": "code",
      "source": [
        "import dmrpp"
      ],
      "metadata": {
        "id": "G3ZrkwrVGSQA"
      },
      "execution_count": 203,
      "outputs": []
    },
    {
      "cell_type": "markdown",
      "source": [
        "# Direct cloud access\n",
        "\n",
        "\n",
        "---\n",
        "\n",
        "Note that the remainder of this tutorial will only succeed when running this notebook within the AWS us-west-2 region.\n",
        "\n",
        "Harmony data outputs can be accessed within the cloud using the s3 URLs and AWS credentials provided in the Harmony job response.\n",
        "\n",
        "\n",
        "\n",
        "---\n",
        "\n",
        "## Retrieve list of output URLs. \n",
        "\n",
        "\n",
        "---\n",
        "\n",
        "\n",
        "\n",
        "The result_urls() method calls wait_for_processing() and returns a list of the processed data URLs once processing is complete. You may optionally show the progress bar as shown below.\n",
        "\n"
      ],
      "metadata": {
        "id": "0d28tEHIPPla"
      }
    },
    {
      "cell_type": "code",
      "source": [
        "results = harmony_client.result_urls(job_id, link_type=LinkType.s3)\n",
        "urls = list(results)\n",
        "pprint(urls)"
      ],
      "metadata": {
        "colab": {
          "base_uri": "https://localhost:8080/"
        },
        "id": "CLdV8kjzPaKI",
        "outputId": "b491d772-d90f-4a5c-b083-aaf800cedf6a"
      },
      "execution_count": null,
      "outputs": [
        {
          "output_type": "stream",
          "name": "stdout",
          "text": [
            "['s3://harmony-prod-staging/public/podaac/l2-subsetter/a5c3e2e7-94e9-4cec-ba40-66c5c54ab87a/20210820203501-JPL-L2P_GHRSST-SSTskin-MODIS_A-D-v02.0-fv01.0_subsetted.nc4',\n",
            " 's3://harmony-prod-staging/public/podaac/l2-subsetter/a5c3e2e7-94e9-4cec-ba40-66c5c54ab87a/20210820190001-JPL-L2P_GHRSST-SSTskin-MODIS_A-D-v02.0-fv01.0_subsetted.nc4',\n",
            " 's3://harmony-prod-staging/public/podaac/l2-subsetter/a5c3e2e7-94e9-4cec-ba40-66c5c54ab87a/20210820185501-JPL-L2P_GHRSST-SSTskin-MODIS_A-D-v02.0-fv01.0_subsetted.nc4',\n",
            " 's3://harmony-prod-staging/public/podaac/l2-subsetter/a5c3e2e7-94e9-4cec-ba40-66c5c54ab87a/20210820093501-JPL-L2P_GHRSST-SSTskin-MODIS_A-N-v02.0-fv01.0.nc4',\n",
            " 's3://harmony-prod-staging/public/podaac/l2-subsetter/a5c3e2e7-94e9-4cec-ba40-66c5c54ab87a/20210820080001-JPL-L2P_GHRSST-SSTskin-MODIS_A-N-v02.0-fv01.0_subsetted.nc4',\n",
            " 's3://harmony-prod-staging/public/podaac/l2-subsetter/a5c3e2e7-94e9-4cec-ba40-66c5c54ab87a/20210820062501-JPL-L2P_GHRSST-SSTskin-MODIS_A-N-v02.0-fv01.0.nc4']\n"
          ]
        }
      ]
    },
    {
      "cell_type": "code",
      "source": [
        "urls2 = 's3://harmony-prod-staging/public/podaac/l2-subsetter/a5c3e2e7-94e9-4cec-ba40-66c5c54ab87a/20210820203501-JPL-L2P_GHRSST-SSTskin-MODIS_A-D-v02.0-fv01.0_subsetted.nc4'"
      ],
      "metadata": {
        "id": "xl5_SBbMgvcY"
      },
      "execution_count": null,
      "outputs": []
    },
    {
      "cell_type": "markdown",
      "source": [
        "We can see that the first file returned does not include the _subsetted suffix, which indicates that a blank file was returned, as no data values were located within our subsetted region. We’ll select the second URL in the list to bring into xarray below."
      ],
      "metadata": {
        "id": "7uUhZW3WPfYV"
      }
    },
    {
      "cell_type": "code",
      "source": [
        "url = urls[1]\n",
        "url"
      ],
      "metadata": {
        "colab": {
          "base_uri": "https://localhost:8080/",
          "height": 52
        },
        "id": "9bYpv485Phlw",
        "outputId": "dc77c50f-5148-4235-9cff-e0a4c5ae52c9"
      },
      "execution_count": null,
      "outputs": [
        {
          "output_type": "execute_result",
          "data": {
            "text/plain": [
              "'s3://harmony-prod-staging/public/podaac/l2-subsetter/a5c3e2e7-94e9-4cec-ba40-66c5c54ab87a/20210820190001-JPL-L2P_GHRSST-SSTskin-MODIS_A-D-v02.0-fv01.0_subsetted.nc4'"
            ],
            "application/vnd.google.colaboratory.intrinsic+json": {
              "type": "string"
            }
          },
          "metadata": {},
          "execution_count": 114
        }
      ]
    },
    {
      "cell_type": "markdown",
      "source": [
        "AWS credential retrieval\n",
        "\n",
        "\n",
        "---\n",
        "> Using aws_credentials you can retrieve the credentials needed to access the Harmony s3 staging bucket and its contents.\n"
      ],
      "metadata": {
        "id": "7Z1gl3JgPsTr"
      }
    },
    {
      "cell_type": "code",
      "source": [
        "creds = harmony_client.aws_credentials()"
      ],
      "metadata": {
        "id": "EMAHsUvZPq6W"
      },
      "execution_count": null,
      "outputs": []
    },
    {
      "cell_type": "code",
      "source": [
        ""
      ],
      "metadata": {
        "id": "MvbdSidpP015"
      },
      "execution_count": null,
      "outputs": []
    },
    {
      "cell_type": "markdown",
      "source": [
        "Open staged files with s3fs and xarray"
      ],
      "metadata": {
        "id": "jXAAnyM8P4hb"
      }
    },
    {
      "cell_type": "code",
      "source": [
        "from google.colab import drive\n",
        "drive.mount('/content/drive')"
      ],
      "metadata": {
        "colab": {
          "base_uri": "https://localhost:8080/"
        },
        "id": "LLxTTN6NT9-G",
        "outputId": "c8b763d1-0649-4ac4-e348-6a230aace172"
      },
      "execution_count": null,
      "outputs": [
        {
          "output_type": "stream",
          "name": "stdout",
          "text": [
            "Drive already mounted at /content/drive; to attempt to forcibly remount, call drive.mount(\"/content/drive\", force_remount=True).\n"
          ]
        }
      ]
    },
    {
      "cell_type": "code",
      "source": [
        "s3_fs = s3fs.S3FileSystem(\n",
        "    key= creds['aws_access_key_id'],\n",
        "    secret= creds['aws_secret_access_key'],\n",
        "    token= creds['aws_session_token'],\n",
        "    client_kwargs={'region_name':'us-west-2'},\n",
        ")"
      ],
      "metadata": {
        "id": "Udy8l10qP035"
      },
      "execution_count": null,
      "outputs": []
    },
    {
      "cell_type": "markdown",
      "source": [
        "\n",
        "\n",
        "---\n",
        "\n",
        "\n",
        "\n",
        "---\n",
        "\n"
      ],
      "metadata": {
        "id": "x6z15TY50RFj"
      }
    },
    {
      "cell_type": "code",
      "source": [
        "!pip install earthdata\n",
        "!pip install pydap\n",
        "!pip install tinynetrc\n",
        "!pip install podaac"
      ],
      "metadata": {
        "id": "MgSYlmfL6wEa"
      },
      "execution_count": null,
      "outputs": []
    },
    {
      "cell_type": "code",
      "source": [
        "import pydap\n",
        "import pydap.client"
      ],
      "metadata": {
        "id": "Vsy2QSvs7sMp"
      },
      "execution_count": 195,
      "outputs": []
    },
    {
      "cell_type": "code",
      "source": [
        ""
      ],
      "metadata": {
        "id": "DcjOn6Ek2932"
      },
      "execution_count": 201,
      "outputs": []
    },
    {
      "cell_type": "code",
      "execution_count": 199,
      "metadata": {
        "id": "GONUI0exAJpF",
        "colab": {
          "base_uri": "https://localhost:8080/",
          "height": 468
        },
        "outputId": "6ecbfea3-58a9-49d8-ba3a-0dacfae3ae04"
      },
      "outputs": [
        {
          "output_type": "error",
          "ename": "ContextualVersionConflict",
          "evalue": "ignored",
          "traceback": [
            "\u001b[0;31m---------------------------------------------------------------------------\u001b[0m",
            "\u001b[0;31mContextualVersionConflict\u001b[0m                 Traceback (most recent call last)",
            "\u001b[0;32m<ipython-input-199-51b99298a097>\u001b[0m in \u001b[0;36m<module>\u001b[0;34m()\u001b[0m\n\u001b[0;32m----> 1\u001b[0;31m \u001b[0;32mfrom\u001b[0m \u001b[0mearthdata\u001b[0m \u001b[0;32mimport\u001b[0m \u001b[0mAuth\u001b[0m \u001b[0;31m# DataColletions, DataGranules, Accessor\u001b[0m\u001b[0;34m\u001b[0m\u001b[0;34m\u001b[0m\u001b[0m\n\u001b[0m\u001b[1;32m      2\u001b[0m \u001b[0mauth\u001b[0m \u001b[0;34m=\u001b[0m \u001b[0mAuth\u001b[0m\u001b[0;34m(\u001b[0m\u001b[0;34m)\u001b[0m\u001b[0;34m.\u001b[0m\u001b[0mlogin\u001b[0m\u001b[0;34m(\u001b[0m\u001b[0;34m)\u001b[0m\u001b[0;34m\u001b[0m\u001b[0;34m\u001b[0m\u001b[0m\n",
            "\u001b[0;32m/usr/local/lib/python3.7/dist-packages/earthdata/__init__.py\u001b[0m in \u001b[0;36m<module>\u001b[0;34m()\u001b[0m\n\u001b[1;32m      6\u001b[0m \u001b[0;34m\u001b[0m\u001b[0m\n\u001b[1;32m      7\u001b[0m \u001b[0m__all__\u001b[0m \u001b[0;34m=\u001b[0m \u001b[0;34m[\u001b[0m\u001b[0;34m\"DataGranules\"\u001b[0m\u001b[0;34m,\u001b[0m \u001b[0;34m\"DataCollections\"\u001b[0m\u001b[0;34m,\u001b[0m \u001b[0;34m\"Auth\"\u001b[0m\u001b[0;34m,\u001b[0m \u001b[0;34m\"Store\"\u001b[0m\u001b[0;34m]\u001b[0m\u001b[0;34m\u001b[0m\u001b[0;34m\u001b[0m\u001b[0m\n\u001b[0;32m----> 8\u001b[0;31m \u001b[0m__version__\u001b[0m \u001b[0;34m=\u001b[0m \u001b[0mpkg_resources\u001b[0m\u001b[0;34m.\u001b[0m\u001b[0mget_distribution\u001b[0m\u001b[0;34m(\u001b[0m\u001b[0;34m\"earthdata\"\u001b[0m\u001b[0;34m)\u001b[0m\u001b[0;34m.\u001b[0m\u001b[0mversion\u001b[0m\u001b[0;34m\u001b[0m\u001b[0;34m\u001b[0m\u001b[0m\n\u001b[0m",
            "\u001b[0;32m/usr/local/lib/python3.7/dist-packages/pkg_resources/__init__.py\u001b[0m in \u001b[0;36mget_distribution\u001b[0;34m(dist)\u001b[0m\n\u001b[1;32m    464\u001b[0m         \u001b[0mdist\u001b[0m \u001b[0;34m=\u001b[0m \u001b[0mRequirement\u001b[0m\u001b[0;34m.\u001b[0m\u001b[0mparse\u001b[0m\u001b[0;34m(\u001b[0m\u001b[0mdist\u001b[0m\u001b[0;34m)\u001b[0m\u001b[0;34m\u001b[0m\u001b[0;34m\u001b[0m\u001b[0m\n\u001b[1;32m    465\u001b[0m     \u001b[0;32mif\u001b[0m \u001b[0misinstance\u001b[0m\u001b[0;34m(\u001b[0m\u001b[0mdist\u001b[0m\u001b[0;34m,\u001b[0m \u001b[0mRequirement\u001b[0m\u001b[0;34m)\u001b[0m\u001b[0;34m:\u001b[0m\u001b[0;34m\u001b[0m\u001b[0;34m\u001b[0m\u001b[0m\n\u001b[0;32m--> 466\u001b[0;31m         \u001b[0mdist\u001b[0m \u001b[0;34m=\u001b[0m \u001b[0mget_provider\u001b[0m\u001b[0;34m(\u001b[0m\u001b[0mdist\u001b[0m\u001b[0;34m)\u001b[0m\u001b[0;34m\u001b[0m\u001b[0;34m\u001b[0m\u001b[0m\n\u001b[0m\u001b[1;32m    467\u001b[0m     \u001b[0;32mif\u001b[0m \u001b[0;32mnot\u001b[0m \u001b[0misinstance\u001b[0m\u001b[0;34m(\u001b[0m\u001b[0mdist\u001b[0m\u001b[0;34m,\u001b[0m \u001b[0mDistribution\u001b[0m\u001b[0;34m)\u001b[0m\u001b[0;34m:\u001b[0m\u001b[0;34m\u001b[0m\u001b[0;34m\u001b[0m\u001b[0m\n\u001b[1;32m    468\u001b[0m         \u001b[0;32mraise\u001b[0m \u001b[0mTypeError\u001b[0m\u001b[0;34m(\u001b[0m\u001b[0;34m\"Expected string, Requirement, or Distribution\"\u001b[0m\u001b[0;34m,\u001b[0m \u001b[0mdist\u001b[0m\u001b[0;34m)\u001b[0m\u001b[0;34m\u001b[0m\u001b[0;34m\u001b[0m\u001b[0m\n",
            "\u001b[0;32m/usr/local/lib/python3.7/dist-packages/pkg_resources/__init__.py\u001b[0m in \u001b[0;36mget_provider\u001b[0;34m(moduleOrReq)\u001b[0m\n\u001b[1;32m    340\u001b[0m     \u001b[0;34m\"\"\"Return an IResourceProvider for the named module or requirement\"\"\"\u001b[0m\u001b[0;34m\u001b[0m\u001b[0;34m\u001b[0m\u001b[0m\n\u001b[1;32m    341\u001b[0m     \u001b[0;32mif\u001b[0m \u001b[0misinstance\u001b[0m\u001b[0;34m(\u001b[0m\u001b[0mmoduleOrReq\u001b[0m\u001b[0;34m,\u001b[0m \u001b[0mRequirement\u001b[0m\u001b[0;34m)\u001b[0m\u001b[0;34m:\u001b[0m\u001b[0;34m\u001b[0m\u001b[0;34m\u001b[0m\u001b[0m\n\u001b[0;32m--> 342\u001b[0;31m         \u001b[0;32mreturn\u001b[0m \u001b[0mworking_set\u001b[0m\u001b[0;34m.\u001b[0m\u001b[0mfind\u001b[0m\u001b[0;34m(\u001b[0m\u001b[0mmoduleOrReq\u001b[0m\u001b[0;34m)\u001b[0m \u001b[0;32mor\u001b[0m \u001b[0mrequire\u001b[0m\u001b[0;34m(\u001b[0m\u001b[0mstr\u001b[0m\u001b[0;34m(\u001b[0m\u001b[0mmoduleOrReq\u001b[0m\u001b[0;34m)\u001b[0m\u001b[0;34m)\u001b[0m\u001b[0;34m[\u001b[0m\u001b[0;36m0\u001b[0m\u001b[0;34m]\u001b[0m\u001b[0;34m\u001b[0m\u001b[0;34m\u001b[0m\u001b[0m\n\u001b[0m\u001b[1;32m    343\u001b[0m     \u001b[0;32mtry\u001b[0m\u001b[0;34m:\u001b[0m\u001b[0;34m\u001b[0m\u001b[0;34m\u001b[0m\u001b[0m\n\u001b[1;32m    344\u001b[0m         \u001b[0mmodule\u001b[0m \u001b[0;34m=\u001b[0m \u001b[0msys\u001b[0m\u001b[0;34m.\u001b[0m\u001b[0mmodules\u001b[0m\u001b[0;34m[\u001b[0m\u001b[0mmoduleOrReq\u001b[0m\u001b[0;34m]\u001b[0m\u001b[0;34m\u001b[0m\u001b[0;34m\u001b[0m\u001b[0m\n",
            "\u001b[0;32m/usr/local/lib/python3.7/dist-packages/pkg_resources/__init__.py\u001b[0m in \u001b[0;36mrequire\u001b[0;34m(self, *requirements)\u001b[0m\n\u001b[1;32m    884\u001b[0m         \u001b[0mincluded\u001b[0m\u001b[0;34m,\u001b[0m \u001b[0meven\u001b[0m \u001b[0;32mif\u001b[0m \u001b[0mthey\u001b[0m \u001b[0mwere\u001b[0m \u001b[0malready\u001b[0m \u001b[0mactivated\u001b[0m \u001b[0;32min\u001b[0m \u001b[0mthis\u001b[0m \u001b[0mworking\u001b[0m \u001b[0mset\u001b[0m\u001b[0;34m.\u001b[0m\u001b[0;34m\u001b[0m\u001b[0;34m\u001b[0m\u001b[0m\n\u001b[1;32m    885\u001b[0m         \"\"\"\n\u001b[0;32m--> 886\u001b[0;31m         \u001b[0mneeded\u001b[0m \u001b[0;34m=\u001b[0m \u001b[0mself\u001b[0m\u001b[0;34m.\u001b[0m\u001b[0mresolve\u001b[0m\u001b[0;34m(\u001b[0m\u001b[0mparse_requirements\u001b[0m\u001b[0;34m(\u001b[0m\u001b[0mrequirements\u001b[0m\u001b[0;34m)\u001b[0m\u001b[0;34m)\u001b[0m\u001b[0;34m\u001b[0m\u001b[0;34m\u001b[0m\u001b[0m\n\u001b[0m\u001b[1;32m    887\u001b[0m \u001b[0;34m\u001b[0m\u001b[0m\n\u001b[1;32m    888\u001b[0m         \u001b[0;32mfor\u001b[0m \u001b[0mdist\u001b[0m \u001b[0;32min\u001b[0m \u001b[0mneeded\u001b[0m\u001b[0;34m:\u001b[0m\u001b[0;34m\u001b[0m\u001b[0;34m\u001b[0m\u001b[0m\n",
            "\u001b[0;32m/usr/local/lib/python3.7/dist-packages/pkg_resources/__init__.py\u001b[0m in \u001b[0;36mresolve\u001b[0;34m(self, requirements, env, installer, replace_conflicting, extras)\u001b[0m\n\u001b[1;32m    775\u001b[0m                 \u001b[0;31m# Oops, the \"best\" so far conflicts with a dependency\u001b[0m\u001b[0;34m\u001b[0m\u001b[0;34m\u001b[0m\u001b[0;34m\u001b[0m\u001b[0m\n\u001b[1;32m    776\u001b[0m                 \u001b[0mdependent_req\u001b[0m \u001b[0;34m=\u001b[0m \u001b[0mrequired_by\u001b[0m\u001b[0;34m[\u001b[0m\u001b[0mreq\u001b[0m\u001b[0;34m]\u001b[0m\u001b[0;34m\u001b[0m\u001b[0;34m\u001b[0m\u001b[0m\n\u001b[0;32m--> 777\u001b[0;31m                 \u001b[0;32mraise\u001b[0m \u001b[0mVersionConflict\u001b[0m\u001b[0;34m(\u001b[0m\u001b[0mdist\u001b[0m\u001b[0;34m,\u001b[0m \u001b[0mreq\u001b[0m\u001b[0;34m)\u001b[0m\u001b[0;34m.\u001b[0m\u001b[0mwith_context\u001b[0m\u001b[0;34m(\u001b[0m\u001b[0mdependent_req\u001b[0m\u001b[0;34m)\u001b[0m\u001b[0;34m\u001b[0m\u001b[0;34m\u001b[0m\u001b[0m\n\u001b[0m\u001b[1;32m    778\u001b[0m \u001b[0;34m\u001b[0m\u001b[0m\n\u001b[1;32m    779\u001b[0m             \u001b[0;31m# push the new requirements onto the stack\u001b[0m\u001b[0;34m\u001b[0m\u001b[0;34m\u001b[0m\u001b[0;34m\u001b[0m\u001b[0m\n",
            "\u001b[0;31mContextualVersionConflict\u001b[0m: (requests 2.23.0 (/usr/local/lib/python3.7/dist-packages), Requirement.parse('requests<3.0,>=2.26'), {'earthdata'})"
          ]
        }
      ],
      "source": [
        "from earthdata import Auth # DataColletions, DataGranules, Accessor\n",
        "auth = Auth().login()"
      ]
    },
    {
      "cell_type": "markdown",
      "source": [
        "!pip install earthdata\n",
        "!pip install pydap\n",
        "!pip install tinynetrc\n",
        "!pip install podaac!pip install earthdata\n",
        "!pip install pydap\n",
        "!pip install tinynetrc\n",
        "!pip install podaacp"
      ],
      "metadata": {
        "id": "lA1ToVFC2oxM"
      }
    },
    {
      "cell_type": "code",
      "source": [
        "def begin_s3_direct_access():\n",
        "    url = \"https://archive.podaac.earthdata.nasa.gov/s3credentials\"\n",
        "    response = requests.get(url).json()\n",
        "    return s3fs.S3FileSystem(\n",
        "        key=response[\"accessKeyId\"],\n",
        "        secret=response[\"secretAccessKey\"],\n",
        "        token=response[\"sessionToken\"],\n",
        "        client_kwargs={\"region_name\": \"us-west-2\"},"
      ],
      "metadata": {
        "id": "wE0WHCxhBVrc",
        "colab": {
          "base_uri": "https://localhost:8080/",
          "height": 131
        },
        "outputId": "e9c1fbd6-b0fe-400c-caa7-345d713be974"
      },
      "execution_count": null,
      "outputs": [
        {
          "output_type": "error",
          "ename": "SyntaxError",
          "evalue": "ignored",
          "traceback": [
            "\u001b[0;36m  File \u001b[0;32m\"<ipython-input-191-58657eb6c053>\"\u001b[0;36m, line \u001b[0;32m8\u001b[0m\n\u001b[0;31m    client_kwargs={\"region_name\": \"us-west-2\"},\u001b[0m\n\u001b[0m                                               ^\u001b[0m\n\u001b[0;31mSyntaxError\u001b[0m\u001b[0;31m:\u001b[0m unexpected EOF while parsing\n"
          ]
        }
      ]
    },
    {
      "cell_type": "code",
      "source": [
        "!pip install requests"
      ],
      "metadata": {
        "colab": {
          "base_uri": "https://localhost:8080/"
        },
        "id": "sTuEH1Aa1FUC",
        "outputId": "5b37398b-c2d7-4e08-8f2e-cc1d1af3931b"
      },
      "execution_count": null,
      "outputs": [
        {
          "output_type": "stream",
          "name": "stdout",
          "text": [
            "Looking in indexes: https://pypi.org/simple, https://us-python.pkg.dev/colab-wheels/public/simple/\n",
            "Requirement already satisfied: requests in /usr/local/lib/python3.7/dist-packages (2.28.1)\n",
            "Requirement already satisfied: idna<4,>=2.5 in /usr/local/lib/python3.7/dist-packages (from requests) (2.10)\n",
            "Requirement already satisfied: charset-normalizer<3,>=2 in /usr/local/lib/python3.7/dist-packages (from requests) (2.1.0)\n",
            "Requirement already satisfied: urllib3<1.27,>=1.21.1 in /usr/local/lib/python3.7/dist-packages (from requests) (1.25.11)\n",
            "Requirement already satisfied: certifi>=2017.4.17 in /usr/local/lib/python3.7/dist-packages (from requests) (2022.6.15)\n"
          ]
        }
      ]
    },
    {
      "cell_type": "code",
      "source": [
        "from pydap.client import open_url\n",
        "from pydap.cas.urs import setup_session\n",
        "session = setup_session(\"your_username\", \"your_pw\")\n",
        "#dataset = open_url('http://server.example.com/path/to/dataset', session=session)"
      ],
      "metadata": {
        "id": "UhKTszth8MWX"
      },
      "execution_count": null,
      "outputs": []
    },
    {
      "cell_type": "code",
      "source": [
        "!pip install requests"
      ],
      "metadata": {
        "colab": {
          "base_uri": "https://localhost:8080/"
        },
        "id": "8m5XnxtJA7GQ",
        "outputId": "b65f7548-2c7a-420e-9a9c-93a06fc54bd7"
      },
      "execution_count": null,
      "outputs": [
        {
          "output_type": "stream",
          "name": "stdout",
          "text": [
            "Looking in indexes: https://pypi.org/simple, https://us-python.pkg.dev/colab-wheels/public/simple/\n",
            "\u001b[31mERROR: Could not find a version that satisfies the requirement cookielib (from versions: none)\u001b[0m\n",
            "\u001b[31mERROR: No matching distribution found for cookielib\u001b[0m\n"
          ]
        }
      ]
    },
    {
      "cell_type": "code",
      "source": [
        "\n",
        "%%writefile auth.py\n",
        "import getpass\n",
        "import os\n",
        "from netrc import NetrcParseError\n",
        "from pathlib import Path\n",
        "from typing import Any, Dict, List, Optional, Union\n",
        "from urllib.parse import urlparse\n",
        "\n",
        "import requests  # type: ignore\n",
        "from tinynetrc import Netrc\n",
        "\n",
        "#rom .daac import DAACS\n",
        "\n",
        "\n",
        "class SessionWithHeaderRedirection(requests.Session):\n",
        "    \"\"\"\n",
        "    Requests removes auth headers if the redirect happens outside the\n",
        "    original req domain. This is taken from https://wiki.earthdata.nasa.gov/display/EL/How+To+Access+Data+With+Python\n",
        "    \"\"\"\n",
        "\n",
        "    AUTH_HOST = \"urs.earthdata.nasa.gov\"\n",
        "\n",
        "    def __init__(self, username: str = None, password: str = None) -> None:\n",
        "        super().__init__()\n",
        "        if username and password:\n",
        "            self.auth = (username, password)\n",
        "\n",
        "    # Overrides from the library to keep headers when redirected to or from\n",
        "    # the NASA auth host.\n",
        "    def rebuild_auth(self, prepared_request: Any, response: Any) -> None:\n",
        "        headers = prepared_request.headers\n",
        "        url = prepared_request.url\n",
        "\n",
        "        if \"Authorization\" in headers:\n",
        "\n",
        "            original_parsed = urlparse(response.request.url)\n",
        "            redirect_parsed = urlparse(url)\n",
        "            if (\n",
        "                (original_parsed.hostname != redirect_parsed.hostname)\n",
        "                and redirect_parsed.hostname != self.AUTH_HOST\n",
        "                and original_parsed.hostname != self.AUTH_HOST\n",
        "            ):\n",
        "\n",
        "                del headers[\"Authorization\"]\n",
        "        return\n",
        "\n",
        "\n",
        "class Auth(object):\n",
        "    \"\"\"\n",
        "    Authentication class for operations that require Earthdata login (EDL)\n",
        "    \"\"\"\n",
        "\n",
        "    def __init__(self) -> None:\n",
        "        # Maybe all these predefined URLs should be in a constants.py file\n",
        "        self.authenticated = False\n",
        "        self.tokens: List = []\n",
        "        self.EDL_GET_TOKENS_URL = \"https://urs.earthdata.nasa.gov/api/users/tokens\"\n",
        "        self.EDL_GENERATE_TOKENS_URL = \"https://urs.earthdata.nasa.gov/api/users/token\"\n",
        "        self.EDL_REVOKE_TOKEN = \"https://urs.earthdata.nasa.gov/api/users/revoke_token\"\n",
        "\n",
        "    def login(self, strategy: str = \"interactive\", persist: bool = False) -> Any:\n",
        "        \"\"\"Authenticate with Earthdata login\n",
        "\n",
        "        :strategy: authentication method to used\n",
        "            \"interactive\" - (default) enter username and password\n",
        "            \"netrc\" - retrieve username and password from ~/.netrc\n",
        "            \"environment\" - retrieve username and password from $EDL_USERNAME and $EDL_PASSWORD\n",
        "        :persist: will persist credentials in a .netrc file\n",
        "        \"\"\"\n",
        "        if self.authenticated:\n",
        "            print(\"We are already authenticated with NASA EDL\")\n",
        "            return self\n",
        "        if strategy == \"interactive\":\n",
        "            self._interactive(persist)\n",
        "        if strategy == \"netrc\":\n",
        "            self._netrc()\n",
        "        if strategy == \"environment\":\n",
        "            self._environment()\n",
        "        return self\n",
        "\n",
        "    def refresh_tokens(self) -> bool:\n",
        "        if len(self.tokens) == 0:\n",
        "            resp_tokens = self._generate_user_token(\n",
        "                username=self._credentials[0], password=self._credentials[1]\n",
        "            )\n",
        "            if resp_tokens.ok:\n",
        "                self.token = resp_tokens.json()\n",
        "                self.tokens = [self.token]\n",
        "                print(\n",
        "                    f\"earthdata generated a token for CMR with expiration on: {self.token['expiration_date']}\"\n",
        "                )\n",
        "                return True\n",
        "            else:\n",
        "                print(resp_tokens)\n",
        "                return False\n",
        "        if len(self.tokens) == 1:\n",
        "            resp_tokens = self._generate_user_token(\n",
        "                username=self._credentials[0], password=self._credentials[1]\n",
        "            )\n",
        "            if resp_tokens.ok:\n",
        "                self.token = resp_tokens.json()\n",
        "                self.tokens.extend(self.token)\n",
        "                print(\n",
        "                    f\"earthdata generated a token for CMR with expiration on: {self.token['expiration_date']}\"\n",
        "                )\n",
        "                return True\n",
        "            else:\n",
        "                print(resp_tokens)\n",
        "                return False\n",
        "\n",
        "        if len(self.tokens) == 2:\n",
        "            resp_revoked = self._revoke_user_token(self.token[\"access_token\"])\n",
        "            if resp_revoked:\n",
        "                resp_tokens = self._generate_user_token(\n",
        "                    username=self._credentials[0], password=self._credentials[1]\n",
        "                )\n",
        "                if resp_tokens.ok:\n",
        "                    self.token = resp_tokens.json()\n",
        "                    self.tokens[0] = self.token\n",
        "                    print(\n",
        "                        f\"earthdata generated a token for CMR with expiration on: {self.token['expiration_date']}\"\n",
        "                    )\n",
        "                    return True\n",
        "                else:\n",
        "                    print(resp_tokens)\n",
        "                    return False\n",
        "\n",
        "        return False\n",
        "\n",
        "    def get_s3_credentials(\n",
        "        self, cloud_provider: str = \"\"\n",
        "    ) -> Union[Dict[str, str], None]:\n",
        "        \"\"\"\n",
        "        gets AWS S3 credentials for a given NASA cloud provider\n",
        "        :param cloud_provider: a NASA DAAC cloud provider i.e. POCLOUD\n",
        "        :returns: a python dictionary with the S3 keys or None\n",
        "        \"\"\"\n",
        "        auth_url = self._get_cloud_auth_url(cloud_provider)\n",
        "        if auth_url.startswith(\"https://\"):\n",
        "            cumulus_resp = self._session.get(auth_url, timeout=10, allow_redirects=True)\n",
        "            auth_resp = self._session.get(\n",
        "                cumulus_resp.url, allow_redirects=True, timeout=10\n",
        "            )\n",
        "            if not (auth_resp.ok):  # type: ignore\n",
        "                print(\n",
        "                    f\"Authentication with Earthdata Login failed with:\\n{auth_resp.text}\"\n",
        "                )\n",
        "                return None\n",
        "            return auth_resp.json()\n",
        "        else:\n",
        "            # This happens if the cloud provider doesn't list the S3 credentials or the DAAC\n",
        "            # does not have cloud collections yet\n",
        "            print(\n",
        "                f\"Credentials for the cloud provider {cloud_provider} are not available\"\n",
        "            )\n",
        "            return None\n",
        "\n",
        "    def get_session(self, bearer_token: bool = False) -> SessionWithHeaderRedirection:\n",
        "        \"\"\"\n",
        "        Returns a new request session instance, since looks like using a session in a context is not threadsafe\n",
        "        https://github.com/psf/requests/issues/1871\n",
        "        Session with bearer tokens are used by CMR, simple auth sessions can be used do download data\n",
        "        from on-prem DAAC data centers.\n",
        "        :returns: subclass SessionWithHeaderRedirection instance\n",
        "        \"\"\"\n",
        "        if bearer_token and self.authenticated:\n",
        "            session = SessionWithHeaderRedirection()\n",
        "            session.headers.update(\n",
        "                {\"Authorization\": f'Bearer {self.token[\"access_token\"]}'}\n",
        "            )\n",
        "            return session\n",
        "        else:\n",
        "            return SessionWithHeaderRedirection(\n",
        "                self._credentials[0], self._credentials[1]\n",
        "            )\n",
        "\n",
        "    def _interactive(self, presist_credentials: bool = True) -> bool:\n",
        "        username = input(\"Enter your Earthdata Login username: \")\n",
        "        password = getpass.getpass(prompt=\"Enter your Earthdata password: \")\n",
        "        authenticated = self._get_credentials(username, password)\n",
        "        if authenticated is True and presist_credentials is True:\n",
        "            self._persist_user_credentials(username, password)\n",
        "        return authenticated\n",
        "\n",
        "    def _netrc(self) -> bool:\n",
        "        try:\n",
        "            my_netrc = Netrc()\n",
        "        except FileNotFoundError as err:\n",
        "            print(f\"Expects .netrc in {os.path.expanduser('~')}\")\n",
        "            print(err)\n",
        "            return False\n",
        "        except NetrcParseError as err:\n",
        "            print(\"Unable to parse .netrc\")\n",
        "            print(err)\n",
        "            return False\n",
        "        if my_netrc[\"urs.earthdata.nasa.gov\"] is not None:\n",
        "            username = my_netrc[\"urs.earthdata.nasa.gov\"][\"login\"]\n",
        "            password = my_netrc[\"urs.earthdata.nasa.gov\"][\"password\"]\n",
        "        else:\n",
        "            return False\n",
        "        authenticated = self._get_credentials(username, password)\n",
        "        return authenticated\n",
        "\n",
        "    def _environment(self) -> bool:\n",
        "        username = os.getenv(\"EDL_USERNAME\")\n",
        "        password = os.getenv(\"EDL_PASSWORD\")\n",
        "        authenticated = self._get_credentials(username, password)\n",
        "        return authenticated\n",
        "\n",
        "    def _get_credentials(\n",
        "        self, username: Optional[str], password: Optional[str]\n",
        "    ) -> bool:\n",
        "        if username is not None and password is not None:\n",
        "            self._session = SessionWithHeaderRedirection(username, password)\n",
        "            token_resp = self._get_user_tokens(username, password)\n",
        "\n",
        "            if not (token_resp.ok):  # type: ignore\n",
        "                print(\n",
        "                    f\"Authentication with Earthdata Login failed with:\\n{token_resp.text}\"\n",
        "                )\n",
        "                return False\n",
        "            print(\"You're now authenticated with NASA Earthdata Login\")\n",
        "            self._credentials = (username, password)\n",
        "            self.tokens = token_resp.json()\n",
        "            self.authenticated = True\n",
        "\n",
        "            if len(self.tokens) == 0:\n",
        "                self.refresh_tokens()\n",
        "                print(\n",
        "                    f\"earthdata generated a token for CMR with expiration on: {self.token['expiration_date']}\"\n",
        "                )\n",
        "                self.token = self.tokens[0]\n",
        "            elif len(self.tokens) > 0:\n",
        "                self.token = self.tokens[0]\n",
        "                print(\n",
        "                    f\"Using token with expiration date: {self.token['expiration_date']}\"\n",
        "                )\n",
        "\n",
        "        return self.authenticated\n",
        "\n",
        "    def _get_user_tokens(self, username: str, password: str) -> Any:\n",
        "        session = SessionWithHeaderRedirection(username, password)\n",
        "        auth_resp = session.get(\n",
        "            self.EDL_GET_TOKENS_URL,\n",
        "            headers={\n",
        "                \"Accept\": \"application/json\",\n",
        "            },\n",
        "            timeout=10,\n",
        "        )\n",
        "        return auth_resp\n",
        "\n",
        "    def _generate_user_token(self, username: str, password: str) -> Any:\n",
        "        session = SessionWithHeaderRedirection(username, password)\n",
        "        auth_resp = session.post(\n",
        "            self.EDL_GENERATE_TOKENS_URL,\n",
        "            headers={\n",
        "                \"Accept\": \"application/json\",\n",
        "            },\n",
        "            timeout=10,\n",
        "        )\n",
        "        return auth_resp\n",
        "\n",
        "    def _revoke_user_token(self, token: str) -> bool:\n",
        "        session = SessionWithHeaderRedirection(\n",
        "            self._credentials[0], self._credentials[1]\n",
        "        )\n",
        "        auth_resp = session.post(\n",
        "            self.EDL_REVOKE_TOKEN,\n",
        "            params={\"token\": token},\n",
        "            headers={\n",
        "                \"Accept\": \"application/json\",\n",
        "            },\n",
        "            timeout=10,\n",
        "        )\n",
        "        return auth_resp.ok\n",
        "\n",
        "    def _persist_user_credentials(self, username: str, password: str) -> bool:\n",
        "        # See: https://github.com/sloria/tinynetrc/issues/34\n",
        "        netrc_path = Path().home().joinpath(\".netrc\")\n",
        "        netrc_path.touch(mode=600, exist_ok=True)\n",
        "        my_netrc = Netrc(str(netrc_path))\n",
        "        my_netrc[\"urs.earthdata.nasa.gov\"] = {\"login\": username, \"password\": password}\n",
        "        my_netrc.save()\n",
        "        return True\n",
        "\n",
        "    def _get_cloud_auth_url(self, cloud_provider: str = \"\") -> str:\n",
        "        for provider in DAACS:\n",
        "            if (\n",
        "                cloud_provider in provider[\"cloud-providers\"]\n",
        "                and len(provider[\"s3-credentials\"]) > 0\n",
        "            ):\n",
        "                return str(provider[\"s3-credentials\"])\n",
        "        return \"\"\n"
      ],
      "metadata": {
        "colab": {
          "base_uri": "https://localhost:8080/"
        },
        "id": "sblHu69PCRsA",
        "outputId": "510eb86f-de75-4504-dad1-a4ab1f6566b2"
      },
      "execution_count": null,
      "outputs": [
        {
          "output_type": "stream",
          "name": "stdout",
          "text": [
            "Writing auth.py\n"
          ]
        }
      ]
    },
    {
      "cell_type": "markdown",
      "source": [
        ""
      ],
      "metadata": {
        "id": "FTf-37XRYPhR"
      }
    },
    {
      "cell_type": "markdown",
      "source": [
        "\n",
        "\n",
        "---\n",
        "\n",
        "\n",
        "\n",
        "---\n",
        "\n"
      ],
      "metadata": {
        "id": "kXRGQMtiT9Sl"
      }
    },
    {
      "cell_type": "code",
      "source": [
        "f = s3_fs.open(url, mode='rb')\n",
        "ds = xr.open_dataset(f)\n",
        "ds"
      ],
      "metadata": {
        "colab": {
          "base_uri": "https://localhost:8080/",
          "height": 450
        },
        "id": "npbflIjkP9eG",
        "outputId": "096d7d12-8fe2-4f04-d579-e9b64ac0fc24"
      },
      "execution_count": null,
      "outputs": [
        {
          "output_type": "error",
          "ename": "ParamValidationError",
          "evalue": "ignored",
          "traceback": [
            "\u001b[0;31m---------------------------------------------------------------------------\u001b[0m",
            "\u001b[0;31mParamValidationError\u001b[0m                      Traceback (most recent call last)",
            "\u001b[0;32m<ipython-input-159-0c10806530cc>\u001b[0m in \u001b[0;36m<module>\u001b[0;34m()\u001b[0m\n\u001b[0;32m----> 1\u001b[0;31m \u001b[0mf\u001b[0m \u001b[0;34m=\u001b[0m \u001b[0ms3_fs\u001b[0m\u001b[0;34m.\u001b[0m\u001b[0mopen\u001b[0m\u001b[0;34m(\u001b[0m\u001b[0;34m'https://podaac-opendap.jpl.nasa.gov/opendap/allData/ghrsst/data/GDS2/L4/GLOB/JPL/MUR/v4.1/2002/152/20020601090000-JPL-L4_GHRSST-SSTfnd-MUR-GLOB-v02.0-fv04.1.nc'\u001b[0m\u001b[0;34m,\u001b[0m \u001b[0mmode\u001b[0m\u001b[0;34m=\u001b[0m\u001b[0;34m'rb'\u001b[0m\u001b[0;34m)\u001b[0m\u001b[0;34m\u001b[0m\u001b[0;34m\u001b[0m\u001b[0m\n\u001b[0m\u001b[1;32m      2\u001b[0m \u001b[0mds\u001b[0m \u001b[0;34m=\u001b[0m \u001b[0mxr\u001b[0m\u001b[0;34m.\u001b[0m\u001b[0mopen_dataset\u001b[0m\u001b[0;34m(\u001b[0m\u001b[0mf\u001b[0m\u001b[0;34m)\u001b[0m\u001b[0;34m\u001b[0m\u001b[0;34m\u001b[0m\u001b[0m\n\u001b[1;32m      3\u001b[0m \u001b[0mds\u001b[0m\u001b[0;34m\u001b[0m\u001b[0;34m\u001b[0m\u001b[0m\n",
            "\u001b[0;32m/usr/local/lib/python3.7/dist-packages/fsspec/spec.py\u001b[0m in \u001b[0;36mopen\u001b[0;34m(self, path, mode, block_size, cache_options, compression, **kwargs)\u001b[0m\n\u001b[1;32m   1041\u001b[0m                 \u001b[0mautocommit\u001b[0m\u001b[0;34m=\u001b[0m\u001b[0mac\u001b[0m\u001b[0;34m,\u001b[0m\u001b[0;34m\u001b[0m\u001b[0;34m\u001b[0m\u001b[0m\n\u001b[1;32m   1042\u001b[0m                 \u001b[0mcache_options\u001b[0m\u001b[0;34m=\u001b[0m\u001b[0mcache_options\u001b[0m\u001b[0;34m,\u001b[0m\u001b[0;34m\u001b[0m\u001b[0;34m\u001b[0m\u001b[0m\n\u001b[0;32m-> 1043\u001b[0;31m                 \u001b[0;34m**\u001b[0m\u001b[0mkwargs\u001b[0m\u001b[0;34m,\u001b[0m\u001b[0;34m\u001b[0m\u001b[0;34m\u001b[0m\u001b[0m\n\u001b[0m\u001b[1;32m   1044\u001b[0m             )\n\u001b[1;32m   1045\u001b[0m             \u001b[0;32mif\u001b[0m \u001b[0mcompression\u001b[0m \u001b[0;32mis\u001b[0m \u001b[0;32mnot\u001b[0m \u001b[0;32mNone\u001b[0m\u001b[0;34m:\u001b[0m\u001b[0;34m\u001b[0m\u001b[0;34m\u001b[0m\u001b[0m\n",
            "\u001b[0;32m/usr/local/lib/python3.7/dist-packages/s3fs/core.py\u001b[0m in \u001b[0;36m_open\u001b[0;34m(self, path, mode, block_size, acl, version_id, fill_cache, cache_type, autocommit, requester_pays, cache_options, **kwargs)\u001b[0m\n\u001b[1;32m    615\u001b[0m             \u001b[0mautocommit\u001b[0m\u001b[0;34m=\u001b[0m\u001b[0mautocommit\u001b[0m\u001b[0;34m,\u001b[0m\u001b[0;34m\u001b[0m\u001b[0;34m\u001b[0m\u001b[0m\n\u001b[1;32m    616\u001b[0m             \u001b[0mrequester_pays\u001b[0m\u001b[0;34m=\u001b[0m\u001b[0mrequester_pays\u001b[0m\u001b[0;34m,\u001b[0m\u001b[0;34m\u001b[0m\u001b[0;34m\u001b[0m\u001b[0m\n\u001b[0;32m--> 617\u001b[0;31m             \u001b[0mcache_options\u001b[0m\u001b[0;34m=\u001b[0m\u001b[0mcache_options\u001b[0m\u001b[0;34m,\u001b[0m\u001b[0;34m\u001b[0m\u001b[0;34m\u001b[0m\u001b[0m\n\u001b[0m\u001b[1;32m    618\u001b[0m         )\n\u001b[1;32m    619\u001b[0m \u001b[0;34m\u001b[0m\u001b[0m\n",
            "\u001b[0;32m/usr/local/lib/python3.7/dist-packages/s3fs/core.py\u001b[0m in \u001b[0;36m__init__\u001b[0;34m(self, s3, path, mode, block_size, acl, version_id, fill_cache, s3_additional_kwargs, autocommit, cache_type, requester_pays, cache_options)\u001b[0m\n\u001b[1;32m   1916\u001b[0m             \u001b[0mautocommit\u001b[0m\u001b[0;34m=\u001b[0m\u001b[0mautocommit\u001b[0m\u001b[0;34m,\u001b[0m\u001b[0;34m\u001b[0m\u001b[0;34m\u001b[0m\u001b[0m\n\u001b[1;32m   1917\u001b[0m             \u001b[0mcache_type\u001b[0m\u001b[0;34m=\u001b[0m\u001b[0mcache_type\u001b[0m\u001b[0;34m,\u001b[0m\u001b[0;34m\u001b[0m\u001b[0;34m\u001b[0m\u001b[0m\n\u001b[0;32m-> 1918\u001b[0;31m             \u001b[0mcache_options\u001b[0m\u001b[0;34m=\u001b[0m\u001b[0mcache_options\u001b[0m\u001b[0;34m,\u001b[0m\u001b[0;34m\u001b[0m\u001b[0;34m\u001b[0m\u001b[0m\n\u001b[0m\u001b[1;32m   1919\u001b[0m         )\n\u001b[1;32m   1920\u001b[0m         \u001b[0mself\u001b[0m\u001b[0;34m.\u001b[0m\u001b[0ms3\u001b[0m \u001b[0;34m=\u001b[0m \u001b[0mself\u001b[0m\u001b[0;34m.\u001b[0m\u001b[0mfs\u001b[0m  \u001b[0;31m# compatibility\u001b[0m\u001b[0;34m\u001b[0m\u001b[0;34m\u001b[0m\u001b[0m\n",
            "\u001b[0;32m/usr/local/lib/python3.7/dist-packages/fsspec/spec.py\u001b[0m in \u001b[0;36m__init__\u001b[0;34m(self, fs, path, mode, block_size, autocommit, cache_type, cache_options, size, **kwargs)\u001b[0m\n\u001b[1;32m   1383\u001b[0m                 \u001b[0mself\u001b[0m\u001b[0;34m.\u001b[0m\u001b[0msize\u001b[0m \u001b[0;34m=\u001b[0m \u001b[0msize\u001b[0m\u001b[0;34m\u001b[0m\u001b[0;34m\u001b[0m\u001b[0m\n\u001b[1;32m   1384\u001b[0m             \u001b[0;32melse\u001b[0m\u001b[0;34m:\u001b[0m\u001b[0;34m\u001b[0m\u001b[0;34m\u001b[0m\u001b[0m\n\u001b[0;32m-> 1385\u001b[0;31m                 \u001b[0mself\u001b[0m\u001b[0;34m.\u001b[0m\u001b[0msize\u001b[0m \u001b[0;34m=\u001b[0m \u001b[0mself\u001b[0m\u001b[0;34m.\u001b[0m\u001b[0mdetails\u001b[0m\u001b[0;34m[\u001b[0m\u001b[0;34m\"size\"\u001b[0m\u001b[0;34m]\u001b[0m\u001b[0;34m\u001b[0m\u001b[0;34m\u001b[0m\u001b[0m\n\u001b[0m\u001b[1;32m   1386\u001b[0m             self.cache = caches[cache_type](\n\u001b[1;32m   1387\u001b[0m                 \u001b[0mself\u001b[0m\u001b[0;34m.\u001b[0m\u001b[0mblocksize\u001b[0m\u001b[0;34m,\u001b[0m \u001b[0mself\u001b[0m\u001b[0;34m.\u001b[0m\u001b[0m_fetch_range\u001b[0m\u001b[0;34m,\u001b[0m \u001b[0mself\u001b[0m\u001b[0;34m.\u001b[0m\u001b[0msize\u001b[0m\u001b[0;34m,\u001b[0m \u001b[0;34m**\u001b[0m\u001b[0mcache_options\u001b[0m\u001b[0;34m\u001b[0m\u001b[0;34m\u001b[0m\u001b[0m\n",
            "\u001b[0;32m/usr/local/lib/python3.7/dist-packages/fsspec/spec.py\u001b[0m in \u001b[0;36mdetails\u001b[0;34m(self)\u001b[0m\n\u001b[1;32m   1396\u001b[0m     \u001b[0;32mdef\u001b[0m \u001b[0mdetails\u001b[0m\u001b[0;34m(\u001b[0m\u001b[0mself\u001b[0m\u001b[0;34m)\u001b[0m\u001b[0;34m:\u001b[0m\u001b[0;34m\u001b[0m\u001b[0;34m\u001b[0m\u001b[0m\n\u001b[1;32m   1397\u001b[0m         \u001b[0;32mif\u001b[0m \u001b[0mself\u001b[0m\u001b[0;34m.\u001b[0m\u001b[0m_details\u001b[0m \u001b[0;32mis\u001b[0m \u001b[0;32mNone\u001b[0m\u001b[0;34m:\u001b[0m\u001b[0;34m\u001b[0m\u001b[0;34m\u001b[0m\u001b[0m\n\u001b[0;32m-> 1398\u001b[0;31m             \u001b[0mself\u001b[0m\u001b[0;34m.\u001b[0m\u001b[0m_details\u001b[0m \u001b[0;34m=\u001b[0m \u001b[0mself\u001b[0m\u001b[0;34m.\u001b[0m\u001b[0mfs\u001b[0m\u001b[0;34m.\u001b[0m\u001b[0minfo\u001b[0m\u001b[0;34m(\u001b[0m\u001b[0mself\u001b[0m\u001b[0;34m.\u001b[0m\u001b[0mpath\u001b[0m\u001b[0;34m)\u001b[0m\u001b[0;34m\u001b[0m\u001b[0;34m\u001b[0m\u001b[0m\n\u001b[0m\u001b[1;32m   1399\u001b[0m         \u001b[0;32mreturn\u001b[0m \u001b[0mself\u001b[0m\u001b[0;34m.\u001b[0m\u001b[0m_details\u001b[0m\u001b[0;34m\u001b[0m\u001b[0;34m\u001b[0m\u001b[0m\n\u001b[1;32m   1400\u001b[0m \u001b[0;34m\u001b[0m\u001b[0m\n",
            "\u001b[0;32m/usr/local/lib/python3.7/dist-packages/fsspec/asyn.py\u001b[0m in \u001b[0;36mwrapper\u001b[0;34m(*args, **kwargs)\u001b[0m\n\u001b[1;32m     84\u001b[0m     \u001b[0;32mdef\u001b[0m \u001b[0mwrapper\u001b[0m\u001b[0;34m(\u001b[0m\u001b[0;34m*\u001b[0m\u001b[0margs\u001b[0m\u001b[0;34m,\u001b[0m \u001b[0;34m**\u001b[0m\u001b[0mkwargs\u001b[0m\u001b[0;34m)\u001b[0m\u001b[0;34m:\u001b[0m\u001b[0;34m\u001b[0m\u001b[0;34m\u001b[0m\u001b[0m\n\u001b[1;32m     85\u001b[0m         \u001b[0mself\u001b[0m \u001b[0;34m=\u001b[0m \u001b[0mobj\u001b[0m \u001b[0;32mor\u001b[0m \u001b[0margs\u001b[0m\u001b[0;34m[\u001b[0m\u001b[0;36m0\u001b[0m\u001b[0;34m]\u001b[0m\u001b[0;34m\u001b[0m\u001b[0;34m\u001b[0m\u001b[0m\n\u001b[0;32m---> 86\u001b[0;31m         \u001b[0;32mreturn\u001b[0m \u001b[0msync\u001b[0m\u001b[0;34m(\u001b[0m\u001b[0mself\u001b[0m\u001b[0;34m.\u001b[0m\u001b[0mloop\u001b[0m\u001b[0;34m,\u001b[0m \u001b[0mfunc\u001b[0m\u001b[0;34m,\u001b[0m \u001b[0;34m*\u001b[0m\u001b[0margs\u001b[0m\u001b[0;34m,\u001b[0m \u001b[0;34m**\u001b[0m\u001b[0mkwargs\u001b[0m\u001b[0;34m)\u001b[0m\u001b[0;34m\u001b[0m\u001b[0;34m\u001b[0m\u001b[0m\n\u001b[0m\u001b[1;32m     87\u001b[0m \u001b[0;34m\u001b[0m\u001b[0m\n\u001b[1;32m     88\u001b[0m     \u001b[0;32mreturn\u001b[0m \u001b[0mwrapper\u001b[0m\u001b[0;34m\u001b[0m\u001b[0;34m\u001b[0m\u001b[0m\n",
            "\u001b[0;32m/usr/local/lib/python3.7/dist-packages/fsspec/asyn.py\u001b[0m in \u001b[0;36msync\u001b[0;34m(loop, func, timeout, *args, **kwargs)\u001b[0m\n\u001b[1;32m     64\u001b[0m         \u001b[0;32mraise\u001b[0m \u001b[0mFSTimeoutError\u001b[0m \u001b[0;32mfrom\u001b[0m \u001b[0mreturn_result\u001b[0m\u001b[0;34m\u001b[0m\u001b[0;34m\u001b[0m\u001b[0m\n\u001b[1;32m     65\u001b[0m     \u001b[0;32melif\u001b[0m \u001b[0misinstance\u001b[0m\u001b[0;34m(\u001b[0m\u001b[0mreturn_result\u001b[0m\u001b[0;34m,\u001b[0m \u001b[0mBaseException\u001b[0m\u001b[0;34m)\u001b[0m\u001b[0;34m:\u001b[0m\u001b[0;34m\u001b[0m\u001b[0;34m\u001b[0m\u001b[0m\n\u001b[0;32m---> 66\u001b[0;31m         \u001b[0;32mraise\u001b[0m \u001b[0mreturn_result\u001b[0m\u001b[0;34m\u001b[0m\u001b[0;34m\u001b[0m\u001b[0m\n\u001b[0m\u001b[1;32m     67\u001b[0m     \u001b[0;32melse\u001b[0m\u001b[0;34m:\u001b[0m\u001b[0;34m\u001b[0m\u001b[0;34m\u001b[0m\u001b[0m\n\u001b[1;32m     68\u001b[0m         \u001b[0;32mreturn\u001b[0m \u001b[0mreturn_result\u001b[0m\u001b[0;34m\u001b[0m\u001b[0;34m\u001b[0m\u001b[0m\n",
            "\u001b[0;32m/usr/local/lib/python3.7/dist-packages/fsspec/asyn.py\u001b[0m in \u001b[0;36m_runner\u001b[0;34m(event, coro, result, timeout)\u001b[0m\n\u001b[1;32m     24\u001b[0m         \u001b[0mcoro\u001b[0m \u001b[0;34m=\u001b[0m \u001b[0masyncio\u001b[0m\u001b[0;34m.\u001b[0m\u001b[0mwait_for\u001b[0m\u001b[0;34m(\u001b[0m\u001b[0mcoro\u001b[0m\u001b[0;34m,\u001b[0m \u001b[0mtimeout\u001b[0m\u001b[0;34m=\u001b[0m\u001b[0mtimeout\u001b[0m\u001b[0;34m)\u001b[0m\u001b[0;34m\u001b[0m\u001b[0;34m\u001b[0m\u001b[0m\n\u001b[1;32m     25\u001b[0m     \u001b[0;32mtry\u001b[0m\u001b[0;34m:\u001b[0m\u001b[0;34m\u001b[0m\u001b[0;34m\u001b[0m\u001b[0m\n\u001b[0;32m---> 26\u001b[0;31m         \u001b[0mresult\u001b[0m\u001b[0;34m[\u001b[0m\u001b[0;36m0\u001b[0m\u001b[0;34m]\u001b[0m \u001b[0;34m=\u001b[0m \u001b[0;32mawait\u001b[0m \u001b[0mcoro\u001b[0m\u001b[0;34m\u001b[0m\u001b[0;34m\u001b[0m\u001b[0m\n\u001b[0m\u001b[1;32m     27\u001b[0m     \u001b[0;32mexcept\u001b[0m \u001b[0mException\u001b[0m \u001b[0;32mas\u001b[0m \u001b[0mex\u001b[0m\u001b[0;34m:\u001b[0m\u001b[0;34m\u001b[0m\u001b[0;34m\u001b[0m\u001b[0m\n\u001b[1;32m     28\u001b[0m         \u001b[0mresult\u001b[0m\u001b[0;34m[\u001b[0m\u001b[0;36m0\u001b[0m\u001b[0;34m]\u001b[0m \u001b[0;34m=\u001b[0m \u001b[0mex\u001b[0m\u001b[0;34m\u001b[0m\u001b[0;34m\u001b[0m\u001b[0m\n",
            "\u001b[0;32m/usr/local/lib/python3.7/dist-packages/s3fs/core.py\u001b[0m in \u001b[0;36m_info\u001b[0;34m(self, path, bucket, key, refresh, version_id)\u001b[0m\n\u001b[1;32m   1144\u001b[0m                     \u001b[0mKey\u001b[0m\u001b[0;34m=\u001b[0m\u001b[0mkey\u001b[0m\u001b[0;34m,\u001b[0m\u001b[0;34m\u001b[0m\u001b[0;34m\u001b[0m\u001b[0m\n\u001b[1;32m   1145\u001b[0m                     \u001b[0;34m**\u001b[0m\u001b[0mversion_id_kw\u001b[0m\u001b[0;34m(\u001b[0m\u001b[0mversion_id\u001b[0m\u001b[0;34m)\u001b[0m\u001b[0;34m,\u001b[0m\u001b[0;34m\u001b[0m\u001b[0;34m\u001b[0m\u001b[0m\n\u001b[0;32m-> 1146\u001b[0;31m                     \u001b[0;34m**\u001b[0m\u001b[0mself\u001b[0m\u001b[0;34m.\u001b[0m\u001b[0mreq_kw\u001b[0m\u001b[0;34m,\u001b[0m\u001b[0;34m\u001b[0m\u001b[0;34m\u001b[0m\u001b[0m\n\u001b[0m\u001b[1;32m   1147\u001b[0m                 )\n\u001b[1;32m   1148\u001b[0m                 return {\n",
            "\u001b[0;32m/usr/local/lib/python3.7/dist-packages/s3fs/core.py\u001b[0m in \u001b[0;36m_call_s3\u001b[0;34m(self, method, *akwarglist, **kwargs)\u001b[0m\n\u001b[1;32m    331\u001b[0m         \u001b[0madditional_kwargs\u001b[0m \u001b[0;34m=\u001b[0m \u001b[0mself\u001b[0m\u001b[0;34m.\u001b[0m\u001b[0m_get_s3_method_kwargs\u001b[0m\u001b[0;34m(\u001b[0m\u001b[0mmethod\u001b[0m\u001b[0;34m,\u001b[0m \u001b[0;34m*\u001b[0m\u001b[0makwarglist\u001b[0m\u001b[0;34m,\u001b[0m \u001b[0;34m**\u001b[0m\u001b[0mkwargs\u001b[0m\u001b[0;34m)\u001b[0m\u001b[0;34m\u001b[0m\u001b[0;34m\u001b[0m\u001b[0m\n\u001b[1;32m    332\u001b[0m         return await _error_wrapper(\n\u001b[0;32m--> 333\u001b[0;31m             \u001b[0mmethod\u001b[0m\u001b[0;34m,\u001b[0m \u001b[0mkwargs\u001b[0m\u001b[0;34m=\u001b[0m\u001b[0madditional_kwargs\u001b[0m\u001b[0;34m,\u001b[0m \u001b[0mretries\u001b[0m\u001b[0;34m=\u001b[0m\u001b[0mself\u001b[0m\u001b[0;34m.\u001b[0m\u001b[0mretries\u001b[0m\u001b[0;34m\u001b[0m\u001b[0;34m\u001b[0m\u001b[0m\n\u001b[0m\u001b[1;32m    334\u001b[0m         )\n\u001b[1;32m    335\u001b[0m \u001b[0;34m\u001b[0m\u001b[0m\n",
            "\u001b[0;32m/usr/local/lib/python3.7/dist-packages/s3fs/core.py\u001b[0m in \u001b[0;36m_error_wrapper\u001b[0;34m(func, args, kwargs, retries)\u001b[0m\n\u001b[1;32m    135\u001b[0m             \u001b[0merr\u001b[0m \u001b[0;34m=\u001b[0m \u001b[0me\u001b[0m\u001b[0;34m\u001b[0m\u001b[0;34m\u001b[0m\u001b[0m\n\u001b[1;32m    136\u001b[0m     \u001b[0merr\u001b[0m \u001b[0;34m=\u001b[0m \u001b[0mtranslate_boto_error\u001b[0m\u001b[0;34m(\u001b[0m\u001b[0merr\u001b[0m\u001b[0;34m)\u001b[0m\u001b[0;34m\u001b[0m\u001b[0;34m\u001b[0m\u001b[0m\n\u001b[0;32m--> 137\u001b[0;31m     \u001b[0;32mraise\u001b[0m \u001b[0merr\u001b[0m\u001b[0;34m\u001b[0m\u001b[0;34m\u001b[0m\u001b[0m\n\u001b[0m\u001b[1;32m    138\u001b[0m \u001b[0;34m\u001b[0m\u001b[0m\n\u001b[1;32m    139\u001b[0m \u001b[0;34m\u001b[0m\u001b[0m\n",
            "\u001b[0;32m/usr/local/lib/python3.7/dist-packages/s3fs/core.py\u001b[0m in \u001b[0;36m_error_wrapper\u001b[0;34m(func, args, kwargs, retries)\u001b[0m\n\u001b[1;32m    108\u001b[0m     \u001b[0;32mfor\u001b[0m \u001b[0mi\u001b[0m \u001b[0;32min\u001b[0m \u001b[0mrange\u001b[0m\u001b[0;34m(\u001b[0m\u001b[0mretries\u001b[0m\u001b[0;34m)\u001b[0m\u001b[0;34m:\u001b[0m\u001b[0;34m\u001b[0m\u001b[0;34m\u001b[0m\u001b[0m\n\u001b[1;32m    109\u001b[0m         \u001b[0;32mtry\u001b[0m\u001b[0;34m:\u001b[0m\u001b[0;34m\u001b[0m\u001b[0;34m\u001b[0m\u001b[0m\n\u001b[0;32m--> 110\u001b[0;31m             \u001b[0;32mreturn\u001b[0m \u001b[0;32mawait\u001b[0m \u001b[0mfunc\u001b[0m\u001b[0;34m(\u001b[0m\u001b[0;34m*\u001b[0m\u001b[0margs\u001b[0m\u001b[0;34m,\u001b[0m \u001b[0;34m**\u001b[0m\u001b[0mkwargs\u001b[0m\u001b[0;34m)\u001b[0m\u001b[0;34m\u001b[0m\u001b[0;34m\u001b[0m\u001b[0m\n\u001b[0m\u001b[1;32m    111\u001b[0m         \u001b[0;32mexcept\u001b[0m \u001b[0mS3_RETRYABLE_ERRORS\u001b[0m \u001b[0;32mas\u001b[0m \u001b[0me\u001b[0m\u001b[0;34m:\u001b[0m\u001b[0;34m\u001b[0m\u001b[0;34m\u001b[0m\u001b[0m\n\u001b[1;32m    112\u001b[0m             \u001b[0merr\u001b[0m \u001b[0;34m=\u001b[0m \u001b[0me\u001b[0m\u001b[0;34m\u001b[0m\u001b[0;34m\u001b[0m\u001b[0m\n",
            "\u001b[0;32m/usr/local/lib/python3.7/dist-packages/aiobotocore/client.py\u001b[0m in \u001b[0;36m_make_api_call\u001b[0;34m(self, operation_name, api_params)\u001b[0m\n\u001b[1;32m    234\u001b[0m         }\n\u001b[1;32m    235\u001b[0m         request_dict = await self._convert_to_request_dict(\n\u001b[0;32m--> 236\u001b[0;31m             api_params, operation_model, context=request_context)\n\u001b[0m\u001b[1;32m    237\u001b[0m         \u001b[0mresolve_checksum_context\u001b[0m\u001b[0;34m(\u001b[0m\u001b[0mrequest_dict\u001b[0m\u001b[0;34m,\u001b[0m \u001b[0moperation_model\u001b[0m\u001b[0;34m,\u001b[0m \u001b[0mapi_params\u001b[0m\u001b[0;34m)\u001b[0m\u001b[0;34m\u001b[0m\u001b[0;34m\u001b[0m\u001b[0m\n\u001b[1;32m    238\u001b[0m \u001b[0;34m\u001b[0m\u001b[0m\n",
            "\u001b[0;32m/usr/local/lib/python3.7/dist-packages/aiobotocore/client.py\u001b[0m in \u001b[0;36m_convert_to_request_dict\u001b[0;34m(self, api_params, operation_model, context)\u001b[0m\n\u001b[1;32m    282\u001b[0m                                        context=None):\n\u001b[1;32m    283\u001b[0m         api_params = await self._emit_api_params(\n\u001b[0;32m--> 284\u001b[0;31m             api_params, operation_model, context)\n\u001b[0m\u001b[1;32m    285\u001b[0m         request_dict = self._serializer.serialize_to_request(\n\u001b[1;32m    286\u001b[0m             api_params, operation_model)\n",
            "\u001b[0;32m/usr/local/lib/python3.7/dist-packages/aiobotocore/client.py\u001b[0m in \u001b[0;36m_emit_api_params\u001b[0;34m(self, api_params, operation_model, context)\u001b[0m\n\u001b[1;32m    314\u001b[0m                 \u001b[0mservice_id\u001b[0m\u001b[0;34m=\u001b[0m\u001b[0mservice_id\u001b[0m\u001b[0;34m,\u001b[0m\u001b[0;34m\u001b[0m\u001b[0;34m\u001b[0m\u001b[0m\n\u001b[1;32m    315\u001b[0m                 operation_name=operation_name),\n\u001b[0;32m--> 316\u001b[0;31m             params=api_params, model=operation_model, context=context)\n\u001b[0m\u001b[1;32m    317\u001b[0m         \u001b[0;32mreturn\u001b[0m \u001b[0mapi_params\u001b[0m\u001b[0;34m\u001b[0m\u001b[0;34m\u001b[0m\u001b[0m\n\u001b[1;32m    318\u001b[0m \u001b[0;34m\u001b[0m\u001b[0m\n",
            "\u001b[0;32m/usr/local/lib/python3.7/dist-packages/aiobotocore/hooks.py\u001b[0m in \u001b[0;36m_emit\u001b[0;34m(self, event_name, kwargs, stop_on_response)\u001b[0m\n\u001b[1;32m     48\u001b[0m \u001b[0;34m\u001b[0m\u001b[0m\n\u001b[1;32m     49\u001b[0m             \u001b[0;31m# Await the handler if its a coroutine.\u001b[0m\u001b[0;34m\u001b[0m\u001b[0;34m\u001b[0m\u001b[0;34m\u001b[0m\u001b[0m\n\u001b[0;32m---> 50\u001b[0;31m             \u001b[0mresponse\u001b[0m \u001b[0;34m=\u001b[0m \u001b[0;32mawait\u001b[0m \u001b[0mresolve_awaitable\u001b[0m\u001b[0;34m(\u001b[0m\u001b[0mhandler\u001b[0m\u001b[0;34m(\u001b[0m\u001b[0;34m**\u001b[0m\u001b[0mkwargs\u001b[0m\u001b[0;34m)\u001b[0m\u001b[0;34m)\u001b[0m\u001b[0;34m\u001b[0m\u001b[0;34m\u001b[0m\u001b[0m\n\u001b[0m\u001b[1;32m     51\u001b[0m             \u001b[0mresponses\u001b[0m\u001b[0;34m.\u001b[0m\u001b[0mappend\u001b[0m\u001b[0;34m(\u001b[0m\u001b[0;34m(\u001b[0m\u001b[0mhandler\u001b[0m\u001b[0;34m,\u001b[0m \u001b[0mresponse\u001b[0m\u001b[0;34m)\u001b[0m\u001b[0;34m)\u001b[0m\u001b[0;34m\u001b[0m\u001b[0;34m\u001b[0m\u001b[0m\n\u001b[1;32m     52\u001b[0m             \u001b[0;32mif\u001b[0m \u001b[0mstop_on_response\u001b[0m \u001b[0;32mand\u001b[0m \u001b[0mresponse\u001b[0m \u001b[0;32mis\u001b[0m \u001b[0;32mnot\u001b[0m \u001b[0;32mNone\u001b[0m\u001b[0;34m:\u001b[0m\u001b[0;34m\u001b[0m\u001b[0;34m\u001b[0m\u001b[0m\n",
            "\u001b[0;32m/usr/local/lib/python3.7/dist-packages/botocore/handlers.py\u001b[0m in \u001b[0;36mvalidate_bucket_name\u001b[0;34m(params, **kwargs)\u001b[0m\n\u001b[1;32m    241\u001b[0m             'the regex \"%s\" or be an ARN matching the regex \"%s\"' % (\n\u001b[1;32m    242\u001b[0m                 bucket, VALID_BUCKET.pattern, VALID_S3_ARN.pattern))\n\u001b[0;32m--> 243\u001b[0;31m         \u001b[0;32mraise\u001b[0m \u001b[0mParamValidationError\u001b[0m\u001b[0;34m(\u001b[0m\u001b[0mreport\u001b[0m\u001b[0;34m=\u001b[0m\u001b[0merror_msg\u001b[0m\u001b[0;34m)\u001b[0m\u001b[0;34m\u001b[0m\u001b[0;34m\u001b[0m\u001b[0m\n\u001b[0m\u001b[1;32m    244\u001b[0m \u001b[0;34m\u001b[0m\u001b[0m\n\u001b[1;32m    245\u001b[0m \u001b[0;34m\u001b[0m\u001b[0m\n",
            "\u001b[0;31mParamValidationError\u001b[0m: Parameter validation failed:\nInvalid bucket name \"https:\": Bucket name must match the regex \"^[a-zA-Z0-9.\\-_]{1,255}$\" or be an ARN matching the regex \"^arn:(aws).*:(s3|s3-object-lambda):[a-z\\-0-9]*:[0-9]{12}:accesspoint[/:][a-zA-Z0-9\\-.]{1,63}$|^arn:(aws).*:s3-outposts:[a-z\\-0-9]+:[0-9]{12}:outpost[/:][a-zA-Z0-9\\-]{1,63}[/:]accesspoint[/:][a-zA-Z0-9\\-]{1,63}$\""
          ]
        }
      ]
    },
    {
      "cell_type": "code",
      "source": [
        "!pip install rasterio"
      ],
      "metadata": {
        "colab": {
          "base_uri": "https://localhost:8080/"
        },
        "id": "pAydDgOAcXN7",
        "outputId": "90eba3ab-6235-4c18-c960-c4854250e251"
      },
      "execution_count": null,
      "outputs": [
        {
          "output_type": "stream",
          "name": "stdout",
          "text": [
            "Looking in indexes: https://pypi.org/simple, https://us-python.pkg.dev/colab-wheels/public/simple/\n",
            "Collecting rasterio\n",
            "  Downloading rasterio-1.2.10-cp37-cp37m-manylinux1_x86_64.whl (19.3 MB)\n",
            "\u001b[K     |████████████████████████████████| 19.3 MB 4.6 MB/s \n",
            "\u001b[?25hCollecting snuggs>=1.4.1\n",
            "  Downloading snuggs-1.4.7-py3-none-any.whl (5.4 kB)\n",
            "Requirement already satisfied: certifi in /usr/local/lib/python3.7/dist-packages (from rasterio) (2022.6.15)\n",
            "Requirement already satisfied: attrs in /usr/local/lib/python3.7/dist-packages (from rasterio) (21.4.0)\n",
            "Requirement already satisfied: numpy in /usr/local/lib/python3.7/dist-packages (from rasterio) (1.21.6)\n",
            "Requirement already satisfied: setuptools in /usr/local/lib/python3.7/dist-packages (from rasterio) (57.4.0)\n",
            "Collecting affine\n",
            "  Downloading affine-2.3.1-py2.py3-none-any.whl (16 kB)\n",
            "Collecting cligj>=0.5\n",
            "  Downloading cligj-0.7.2-py3-none-any.whl (7.1 kB)\n",
            "Requirement already satisfied: click>=4.0 in /usr/local/lib/python3.7/dist-packages (from rasterio) (7.1.2)\n",
            "Collecting click-plugins\n",
            "  Downloading click_plugins-1.1.1-py2.py3-none-any.whl (7.5 kB)\n",
            "Requirement already satisfied: pyparsing>=2.1.6 in /usr/local/lib/python3.7/dist-packages (from snuggs>=1.4.1->rasterio) (3.0.9)\n",
            "Installing collected packages: snuggs, cligj, click-plugins, affine, rasterio\n",
            "Successfully installed affine-2.3.1 click-plugins-1.1.1 cligj-0.7.2 rasterio-1.2.10 snuggs-1.4.7\n"
          ]
        }
      ]
    },
    {
      "cell_type": "code",
      "source": [
        "import rasterio"
      ],
      "metadata": {
        "id": "m9uXGd1mg-IG"
      },
      "execution_count": null,
      "outputs": []
    },
    {
      "cell_type": "code",
      "source": [
        "!pip install requests\n",
        "!pip install wget\n",
        "!pip install pydap"
      ],
      "metadata": {
        "id": "2eYoCLN3DK8g",
        "colab": {
          "base_uri": "https://localhost:8080/"
        },
        "outputId": "338c8391-3470-48df-9a8d-bf3fe30d90b2"
      },
      "execution_count": null,
      "outputs": [
        {
          "output_type": "stream",
          "name": "stdout",
          "text": [
            "Looking in indexes: https://pypi.org/simple, https://us-python.pkg.dev/colab-wheels/public/simple/\n",
            "Requirement already satisfied: requests in /usr/local/lib/python3.7/dist-packages (2.23.0)\n",
            "Requirement already satisfied: idna<3,>=2.5 in /usr/local/lib/python3.7/dist-packages (from requests) (2.10)\n",
            "Requirement already satisfied: chardet<4,>=3.0.2 in /usr/local/lib/python3.7/dist-packages (from requests) (3.0.4)\n",
            "Requirement already satisfied: certifi>=2017.4.17 in /usr/local/lib/python3.7/dist-packages (from requests) (2022.6.15)\n",
            "Requirement already satisfied: urllib3!=1.25.0,!=1.25.1,<1.26,>=1.21.1 in /usr/local/lib/python3.7/dist-packages (from requests) (1.25.11)\n",
            "Looking in indexes: https://pypi.org/simple, https://us-python.pkg.dev/colab-wheels/public/simple/\n",
            "Requirement already satisfied: wget in /usr/local/lib/python3.7/dist-packages (3.2)\n",
            "Looking in indexes: https://pypi.org/simple, https://us-python.pkg.dev/colab-wheels/public/simple/\n",
            "Collecting pydap\n",
            "  Downloading Pydap-3.2.2-py3-none-any.whl (2.3 MB)\n",
            "\u001b[K     |████████████████████████████████| 2.3 MB 5.2 MB/s \n",
            "\u001b[?25hRequirement already satisfied: six>=1.4.0 in /usr/local/lib/python3.7/dist-packages (from pydap) (1.15.0)\n",
            "Requirement already satisfied: beautifulsoup4 in /usr/local/lib/python3.7/dist-packages (from pydap) (4.6.3)\n",
            "Requirement already satisfied: docopt in /usr/local/lib/python3.7/dist-packages (from pydap) (0.6.2)\n",
            "Requirement already satisfied: numpy in /usr/local/lib/python3.7/dist-packages (from pydap) (1.21.6)\n",
            "Collecting Webob\n",
            "  Downloading WebOb-1.8.7-py2.py3-none-any.whl (114 kB)\n",
            "\u001b[K     |████████████████████████████████| 114 kB 18.6 MB/s \n",
            "\u001b[?25hRequirement already satisfied: Jinja2 in /usr/local/lib/python3.7/dist-packages (from pydap) (2.11.3)\n",
            "Requirement already satisfied: MarkupSafe>=0.23 in /usr/local/lib/python3.7/dist-packages (from Jinja2->pydap) (2.0.1)\n",
            "Installing collected packages: Webob, pydap\n",
            "Successfully installed Webob-1.8.7 pydap-3.2.2\n"
          ]
        }
      ]
    },
    {
      "cell_type": "code",
      "source": [
        "from pydap.client import open_url"
      ],
      "metadata": {
        "id": "JNJs_OJ62Xf5"
      },
      "execution_count": null,
      "outputs": []
    },
    {
      "cell_type": "code",
      "source": [
        "import pydap as pyd"
      ],
      "metadata": {
        "id": "Tqufgaiq9TkO"
      },
      "execution_count": null,
      "outputs": []
    },
    {
      "cell_type": "code",
      "source": [
        "import os  # importing all we need, it's not much\n",
        "import wget\n",
        "\n",
        "urls_to_load = list()  # a list to store the urls\n",
        "path = 'download_folder'  # the path where we will download those files\n"
      ],
      "metadata": {
        "id": "wInBkp8XMXp4"
      },
      "execution_count": null,
      "outputs": []
    },
    {
      "cell_type": "code",
      "source": [
        "import os"
      ],
      "metadata": {
        "id": "1qn25lVGhtyZ"
      },
      "execution_count": null,
      "outputs": []
    },
    {
      "cell_type": "code",
      "source": [
        "os.mkdir('download_files')"
      ],
      "metadata": {
        "id": "HfJMky3lhu46"
      },
      "execution_count": null,
      "outputs": []
    },
    {
      "cell_type": "code",
      "source": [
        "dap_url=\"https://podaac-opendap.jpl.nasa.gov/opendap/allData/ghrsst/data/GDS2/L4/GLOB/JPL/MUR/v4.1/2002/152/20020601090000-JPL-L4_GHRSST-SSTfnd-MUR-GLOB-v02.0-fv04.1.nc\"\n",
        "data = xr.open_dataset('https://podaac-opendap.jpl.nasa.gov/opendap/allData/ghrsst/data/GDS2/L4/GLOB/JPL/MUR/v4.1/2002/152/20020601090000-JPL-L4_GHRSST-SSTfnd-MUR-GLOB-v02.0-fv04.1.nc')"
      ],
      "metadata": {
        "colab": {
          "base_uri": "https://localhost:8080/",
          "height": 624
        },
        "id": "LTVvhkNkh5mO",
        "outputId": "b54179b7-890c-4909-9849-16625dec0256"
      },
      "execution_count": null,
      "outputs": [
        {
          "output_type": "error",
          "ename": "OSError",
          "evalue": "ignored",
          "traceback": [
            "\u001b[0;31m---------------------------------------------------------------------------\u001b[0m",
            "\u001b[0;31mKeyError\u001b[0m                                  Traceback (most recent call last)",
            "\u001b[0;32m/usr/local/lib/python3.7/dist-packages/xarray/backends/file_manager.py\u001b[0m in \u001b[0;36m_acquire_with_cache_info\u001b[0;34m(self, needs_lock)\u001b[0m\n\u001b[1;32m    198\u001b[0m             \u001b[0;32mtry\u001b[0m\u001b[0;34m:\u001b[0m\u001b[0;34m\u001b[0m\u001b[0;34m\u001b[0m\u001b[0m\n\u001b[0;32m--> 199\u001b[0;31m                 \u001b[0mfile\u001b[0m \u001b[0;34m=\u001b[0m \u001b[0mself\u001b[0m\u001b[0;34m.\u001b[0m\u001b[0m_cache\u001b[0m\u001b[0;34m[\u001b[0m\u001b[0mself\u001b[0m\u001b[0;34m.\u001b[0m\u001b[0m_key\u001b[0m\u001b[0;34m]\u001b[0m\u001b[0;34m\u001b[0m\u001b[0;34m\u001b[0m\u001b[0m\n\u001b[0m\u001b[1;32m    200\u001b[0m             \u001b[0;32mexcept\u001b[0m \u001b[0mKeyError\u001b[0m\u001b[0;34m:\u001b[0m\u001b[0;34m\u001b[0m\u001b[0;34m\u001b[0m\u001b[0m\n",
            "\u001b[0;32m/usr/local/lib/python3.7/dist-packages/xarray/backends/lru_cache.py\u001b[0m in \u001b[0;36m__getitem__\u001b[0;34m(self, key)\u001b[0m\n\u001b[1;32m     52\u001b[0m         \u001b[0;32mwith\u001b[0m \u001b[0mself\u001b[0m\u001b[0;34m.\u001b[0m\u001b[0m_lock\u001b[0m\u001b[0;34m:\u001b[0m\u001b[0;34m\u001b[0m\u001b[0;34m\u001b[0m\u001b[0m\n\u001b[0;32m---> 53\u001b[0;31m             \u001b[0mvalue\u001b[0m \u001b[0;34m=\u001b[0m \u001b[0mself\u001b[0m\u001b[0;34m.\u001b[0m\u001b[0m_cache\u001b[0m\u001b[0;34m[\u001b[0m\u001b[0mkey\u001b[0m\u001b[0;34m]\u001b[0m\u001b[0;34m\u001b[0m\u001b[0;34m\u001b[0m\u001b[0m\n\u001b[0m\u001b[1;32m     54\u001b[0m             \u001b[0mself\u001b[0m\u001b[0;34m.\u001b[0m\u001b[0m_cache\u001b[0m\u001b[0;34m.\u001b[0m\u001b[0mmove_to_end\u001b[0m\u001b[0;34m(\u001b[0m\u001b[0mkey\u001b[0m\u001b[0;34m)\u001b[0m\u001b[0;34m\u001b[0m\u001b[0;34m\u001b[0m\u001b[0m\n",
            "\u001b[0;31mKeyError\u001b[0m: [<class 'netCDF4._netCDF4.Dataset'>, ('https://podaac-opendap.jpl.nasa.gov/opendap/allData/ghrsst/data/GDS2/L4/GLOB/JPL/MUR/v4.1/2002/152/20020601090000-JPL-L4_GHRSST-SSTfnd-MUR-GLOB-v02.0-fv04.1.nc',), 'r', (('clobber', True), ('diskless', False), ('format', 'NETCDF4'), ('persist', False))]",
            "\nDuring handling of the above exception, another exception occurred:\n",
            "\u001b[0;31mOSError\u001b[0m                                   Traceback (most recent call last)",
            "\u001b[0;32m<ipython-input-158-d2ba8a82b92e>\u001b[0m in \u001b[0;36m<module>\u001b[0;34m()\u001b[0m\n\u001b[1;32m      1\u001b[0m \u001b[0mdap_url\u001b[0m\u001b[0;34m=\u001b[0m\u001b[0;34m\"https://podaac-opendap.jpl.nasa.gov/opendap/allData/ghrsst/data/GDS2/L4/GLOB/JPL/MUR/v4.1/2002/152/20020601090000-JPL-L4_GHRSST-SSTfnd-MUR-GLOB-v02.0-fv04.1.nc\"\u001b[0m\u001b[0;34m\u001b[0m\u001b[0;34m\u001b[0m\u001b[0m\n\u001b[0;32m----> 2\u001b[0;31m \u001b[0mdata\u001b[0m \u001b[0;34m=\u001b[0m \u001b[0mxr\u001b[0m\u001b[0;34m.\u001b[0m\u001b[0mopen_dataset\u001b[0m\u001b[0;34m(\u001b[0m\u001b[0;34m'https://podaac-opendap.jpl.nasa.gov/opendap/allData/ghrsst/data/GDS2/L4/GLOB/JPL/MUR/v4.1/2002/152/20020601090000-JPL-L4_GHRSST-SSTfnd-MUR-GLOB-v02.0-fv04.1.nc'\u001b[0m\u001b[0;34m)\u001b[0m\u001b[0;34m\u001b[0m\u001b[0;34m\u001b[0m\u001b[0m\n\u001b[0m",
            "\u001b[0;32m/usr/local/lib/python3.7/dist-packages/xarray/backends/api.py\u001b[0m in \u001b[0;36mopen_dataset\u001b[0;34m(filename_or_obj, engine, chunks, cache, decode_cf, mask_and_scale, decode_times, decode_timedelta, use_cftime, concat_characters, decode_coords, drop_variables, backend_kwargs, *args, **kwargs)\u001b[0m\n\u001b[1;32m    497\u001b[0m         \u001b[0mdrop_variables\u001b[0m\u001b[0;34m=\u001b[0m\u001b[0mdrop_variables\u001b[0m\u001b[0;34m,\u001b[0m\u001b[0;34m\u001b[0m\u001b[0;34m\u001b[0m\u001b[0m\n\u001b[1;32m    498\u001b[0m         \u001b[0;34m**\u001b[0m\u001b[0mdecoders\u001b[0m\u001b[0;34m,\u001b[0m\u001b[0;34m\u001b[0m\u001b[0;34m\u001b[0m\u001b[0m\n\u001b[0;32m--> 499\u001b[0;31m         \u001b[0;34m**\u001b[0m\u001b[0mkwargs\u001b[0m\u001b[0;34m,\u001b[0m\u001b[0;34m\u001b[0m\u001b[0;34m\u001b[0m\u001b[0m\n\u001b[0m\u001b[1;32m    500\u001b[0m     )\n\u001b[1;32m    501\u001b[0m     ds = _dataset_from_backend_dataset(\n",
            "\u001b[0;32m/usr/local/lib/python3.7/dist-packages/xarray/backends/netCDF4_.py\u001b[0m in \u001b[0;36mopen_dataset\u001b[0;34m(self, filename_or_obj, mask_and_scale, decode_times, concat_characters, decode_coords, drop_variables, use_cftime, decode_timedelta, group, mode, format, clobber, diskless, persist, lock, autoclose)\u001b[0m\n\u001b[1;32m    557\u001b[0m             \u001b[0mpersist\u001b[0m\u001b[0;34m=\u001b[0m\u001b[0mpersist\u001b[0m\u001b[0;34m,\u001b[0m\u001b[0;34m\u001b[0m\u001b[0;34m\u001b[0m\u001b[0m\n\u001b[1;32m    558\u001b[0m             \u001b[0mlock\u001b[0m\u001b[0;34m=\u001b[0m\u001b[0mlock\u001b[0m\u001b[0;34m,\u001b[0m\u001b[0;34m\u001b[0m\u001b[0;34m\u001b[0m\u001b[0m\n\u001b[0;32m--> 559\u001b[0;31m             \u001b[0mautoclose\u001b[0m\u001b[0;34m=\u001b[0m\u001b[0mautoclose\u001b[0m\u001b[0;34m,\u001b[0m\u001b[0;34m\u001b[0m\u001b[0;34m\u001b[0m\u001b[0m\n\u001b[0m\u001b[1;32m    560\u001b[0m         )\n\u001b[1;32m    561\u001b[0m \u001b[0;34m\u001b[0m\u001b[0m\n",
            "\u001b[0;32m/usr/local/lib/python3.7/dist-packages/xarray/backends/netCDF4_.py\u001b[0m in \u001b[0;36mopen\u001b[0;34m(cls, filename, mode, format, group, clobber, diskless, persist, lock, lock_maker, autoclose)\u001b[0m\n\u001b[1;32m    377\u001b[0m             \u001b[0mnetCDF4\u001b[0m\u001b[0;34m.\u001b[0m\u001b[0mDataset\u001b[0m\u001b[0;34m,\u001b[0m \u001b[0mfilename\u001b[0m\u001b[0;34m,\u001b[0m \u001b[0mmode\u001b[0m\u001b[0;34m=\u001b[0m\u001b[0mmode\u001b[0m\u001b[0;34m,\u001b[0m \u001b[0mkwargs\u001b[0m\u001b[0;34m=\u001b[0m\u001b[0mkwargs\u001b[0m\u001b[0;34m\u001b[0m\u001b[0;34m\u001b[0m\u001b[0m\n\u001b[1;32m    378\u001b[0m         )\n\u001b[0;32m--> 379\u001b[0;31m         \u001b[0;32mreturn\u001b[0m \u001b[0mcls\u001b[0m\u001b[0;34m(\u001b[0m\u001b[0mmanager\u001b[0m\u001b[0;34m,\u001b[0m \u001b[0mgroup\u001b[0m\u001b[0;34m=\u001b[0m\u001b[0mgroup\u001b[0m\u001b[0;34m,\u001b[0m \u001b[0mmode\u001b[0m\u001b[0;34m=\u001b[0m\u001b[0mmode\u001b[0m\u001b[0;34m,\u001b[0m \u001b[0mlock\u001b[0m\u001b[0;34m=\u001b[0m\u001b[0mlock\u001b[0m\u001b[0;34m,\u001b[0m \u001b[0mautoclose\u001b[0m\u001b[0;34m=\u001b[0m\u001b[0mautoclose\u001b[0m\u001b[0;34m)\u001b[0m\u001b[0;34m\u001b[0m\u001b[0;34m\u001b[0m\u001b[0m\n\u001b[0m\u001b[1;32m    380\u001b[0m \u001b[0;34m\u001b[0m\u001b[0m\n\u001b[1;32m    381\u001b[0m     \u001b[0;32mdef\u001b[0m \u001b[0m_acquire\u001b[0m\u001b[0;34m(\u001b[0m\u001b[0mself\u001b[0m\u001b[0;34m,\u001b[0m \u001b[0mneeds_lock\u001b[0m\u001b[0;34m=\u001b[0m\u001b[0;32mTrue\u001b[0m\u001b[0;34m)\u001b[0m\u001b[0;34m:\u001b[0m\u001b[0;34m\u001b[0m\u001b[0;34m\u001b[0m\u001b[0m\n",
            "\u001b[0;32m/usr/local/lib/python3.7/dist-packages/xarray/backends/netCDF4_.py\u001b[0m in \u001b[0;36m__init__\u001b[0;34m(self, manager, group, mode, lock, autoclose)\u001b[0m\n\u001b[1;32m    325\u001b[0m         \u001b[0mself\u001b[0m\u001b[0;34m.\u001b[0m\u001b[0m_group\u001b[0m \u001b[0;34m=\u001b[0m \u001b[0mgroup\u001b[0m\u001b[0;34m\u001b[0m\u001b[0;34m\u001b[0m\u001b[0m\n\u001b[1;32m    326\u001b[0m         \u001b[0mself\u001b[0m\u001b[0;34m.\u001b[0m\u001b[0m_mode\u001b[0m \u001b[0;34m=\u001b[0m \u001b[0mmode\u001b[0m\u001b[0;34m\u001b[0m\u001b[0;34m\u001b[0m\u001b[0m\n\u001b[0;32m--> 327\u001b[0;31m         \u001b[0mself\u001b[0m\u001b[0;34m.\u001b[0m\u001b[0mformat\u001b[0m \u001b[0;34m=\u001b[0m \u001b[0mself\u001b[0m\u001b[0;34m.\u001b[0m\u001b[0mds\u001b[0m\u001b[0;34m.\u001b[0m\u001b[0mdata_model\u001b[0m\u001b[0;34m\u001b[0m\u001b[0;34m\u001b[0m\u001b[0m\n\u001b[0m\u001b[1;32m    328\u001b[0m         \u001b[0mself\u001b[0m\u001b[0;34m.\u001b[0m\u001b[0m_filename\u001b[0m \u001b[0;34m=\u001b[0m \u001b[0mself\u001b[0m\u001b[0;34m.\u001b[0m\u001b[0mds\u001b[0m\u001b[0;34m.\u001b[0m\u001b[0mfilepath\u001b[0m\u001b[0;34m(\u001b[0m\u001b[0;34m)\u001b[0m\u001b[0;34m\u001b[0m\u001b[0;34m\u001b[0m\u001b[0m\n\u001b[1;32m    329\u001b[0m         \u001b[0mself\u001b[0m\u001b[0;34m.\u001b[0m\u001b[0mis_remote\u001b[0m \u001b[0;34m=\u001b[0m \u001b[0mis_remote_uri\u001b[0m\u001b[0;34m(\u001b[0m\u001b[0mself\u001b[0m\u001b[0;34m.\u001b[0m\u001b[0m_filename\u001b[0m\u001b[0;34m)\u001b[0m\u001b[0;34m\u001b[0m\u001b[0;34m\u001b[0m\u001b[0m\n",
            "\u001b[0;32m/usr/local/lib/python3.7/dist-packages/xarray/backends/netCDF4_.py\u001b[0m in \u001b[0;36mds\u001b[0;34m(self)\u001b[0m\n\u001b[1;32m    386\u001b[0m     \u001b[0;34m@\u001b[0m\u001b[0mproperty\u001b[0m\u001b[0;34m\u001b[0m\u001b[0;34m\u001b[0m\u001b[0m\n\u001b[1;32m    387\u001b[0m     \u001b[0;32mdef\u001b[0m \u001b[0mds\u001b[0m\u001b[0;34m(\u001b[0m\u001b[0mself\u001b[0m\u001b[0;34m)\u001b[0m\u001b[0;34m:\u001b[0m\u001b[0;34m\u001b[0m\u001b[0;34m\u001b[0m\u001b[0m\n\u001b[0;32m--> 388\u001b[0;31m         \u001b[0;32mreturn\u001b[0m \u001b[0mself\u001b[0m\u001b[0;34m.\u001b[0m\u001b[0m_acquire\u001b[0m\u001b[0;34m(\u001b[0m\u001b[0;34m)\u001b[0m\u001b[0;34m\u001b[0m\u001b[0;34m\u001b[0m\u001b[0m\n\u001b[0m\u001b[1;32m    389\u001b[0m \u001b[0;34m\u001b[0m\u001b[0m\n\u001b[1;32m    390\u001b[0m     \u001b[0;32mdef\u001b[0m \u001b[0mopen_store_variable\u001b[0m\u001b[0;34m(\u001b[0m\u001b[0mself\u001b[0m\u001b[0;34m,\u001b[0m \u001b[0mname\u001b[0m\u001b[0;34m,\u001b[0m \u001b[0mvar\u001b[0m\u001b[0;34m)\u001b[0m\u001b[0;34m:\u001b[0m\u001b[0;34m\u001b[0m\u001b[0;34m\u001b[0m\u001b[0m\n",
            "\u001b[0;32m/usr/local/lib/python3.7/dist-packages/xarray/backends/netCDF4_.py\u001b[0m in \u001b[0;36m_acquire\u001b[0;34m(self, needs_lock)\u001b[0m\n\u001b[1;32m    380\u001b[0m \u001b[0;34m\u001b[0m\u001b[0m\n\u001b[1;32m    381\u001b[0m     \u001b[0;32mdef\u001b[0m \u001b[0m_acquire\u001b[0m\u001b[0;34m(\u001b[0m\u001b[0mself\u001b[0m\u001b[0;34m,\u001b[0m \u001b[0mneeds_lock\u001b[0m\u001b[0;34m=\u001b[0m\u001b[0;32mTrue\u001b[0m\u001b[0;34m)\u001b[0m\u001b[0;34m:\u001b[0m\u001b[0;34m\u001b[0m\u001b[0;34m\u001b[0m\u001b[0m\n\u001b[0;32m--> 382\u001b[0;31m         \u001b[0;32mwith\u001b[0m \u001b[0mself\u001b[0m\u001b[0;34m.\u001b[0m\u001b[0m_manager\u001b[0m\u001b[0;34m.\u001b[0m\u001b[0macquire_context\u001b[0m\u001b[0;34m(\u001b[0m\u001b[0mneeds_lock\u001b[0m\u001b[0;34m)\u001b[0m \u001b[0;32mas\u001b[0m \u001b[0mroot\u001b[0m\u001b[0;34m:\u001b[0m\u001b[0;34m\u001b[0m\u001b[0;34m\u001b[0m\u001b[0m\n\u001b[0m\u001b[1;32m    383\u001b[0m             \u001b[0mds\u001b[0m \u001b[0;34m=\u001b[0m \u001b[0m_nc4_require_group\u001b[0m\u001b[0;34m(\u001b[0m\u001b[0mroot\u001b[0m\u001b[0;34m,\u001b[0m \u001b[0mself\u001b[0m\u001b[0;34m.\u001b[0m\u001b[0m_group\u001b[0m\u001b[0;34m,\u001b[0m \u001b[0mself\u001b[0m\u001b[0;34m.\u001b[0m\u001b[0m_mode\u001b[0m\u001b[0;34m)\u001b[0m\u001b[0;34m\u001b[0m\u001b[0;34m\u001b[0m\u001b[0m\n\u001b[1;32m    384\u001b[0m         \u001b[0;32mreturn\u001b[0m \u001b[0mds\u001b[0m\u001b[0;34m\u001b[0m\u001b[0;34m\u001b[0m\u001b[0m\n",
            "\u001b[0;32m/usr/lib/python3.7/contextlib.py\u001b[0m in \u001b[0;36m__enter__\u001b[0;34m(self)\u001b[0m\n\u001b[1;32m    110\u001b[0m         \u001b[0;32mdel\u001b[0m \u001b[0mself\u001b[0m\u001b[0;34m.\u001b[0m\u001b[0margs\u001b[0m\u001b[0;34m,\u001b[0m \u001b[0mself\u001b[0m\u001b[0;34m.\u001b[0m\u001b[0mkwds\u001b[0m\u001b[0;34m,\u001b[0m \u001b[0mself\u001b[0m\u001b[0;34m.\u001b[0m\u001b[0mfunc\u001b[0m\u001b[0;34m\u001b[0m\u001b[0;34m\u001b[0m\u001b[0m\n\u001b[1;32m    111\u001b[0m         \u001b[0;32mtry\u001b[0m\u001b[0;34m:\u001b[0m\u001b[0;34m\u001b[0m\u001b[0;34m\u001b[0m\u001b[0m\n\u001b[0;32m--> 112\u001b[0;31m             \u001b[0;32mreturn\u001b[0m \u001b[0mnext\u001b[0m\u001b[0;34m(\u001b[0m\u001b[0mself\u001b[0m\u001b[0;34m.\u001b[0m\u001b[0mgen\u001b[0m\u001b[0;34m)\u001b[0m\u001b[0;34m\u001b[0m\u001b[0;34m\u001b[0m\u001b[0m\n\u001b[0m\u001b[1;32m    113\u001b[0m         \u001b[0;32mexcept\u001b[0m \u001b[0mStopIteration\u001b[0m\u001b[0;34m:\u001b[0m\u001b[0;34m\u001b[0m\u001b[0;34m\u001b[0m\u001b[0m\n\u001b[1;32m    114\u001b[0m             \u001b[0;32mraise\u001b[0m \u001b[0mRuntimeError\u001b[0m\u001b[0;34m(\u001b[0m\u001b[0;34m\"generator didn't yield\"\u001b[0m\u001b[0;34m)\u001b[0m \u001b[0;32mfrom\u001b[0m \u001b[0;32mNone\u001b[0m\u001b[0;34m\u001b[0m\u001b[0;34m\u001b[0m\u001b[0m\n",
            "\u001b[0;32m/usr/local/lib/python3.7/dist-packages/xarray/backends/file_manager.py\u001b[0m in \u001b[0;36macquire_context\u001b[0;34m(self, needs_lock)\u001b[0m\n\u001b[1;32m    185\u001b[0m     \u001b[0;32mdef\u001b[0m \u001b[0macquire_context\u001b[0m\u001b[0;34m(\u001b[0m\u001b[0mself\u001b[0m\u001b[0;34m,\u001b[0m \u001b[0mneeds_lock\u001b[0m\u001b[0;34m=\u001b[0m\u001b[0;32mTrue\u001b[0m\u001b[0;34m)\u001b[0m\u001b[0;34m:\u001b[0m\u001b[0;34m\u001b[0m\u001b[0;34m\u001b[0m\u001b[0m\n\u001b[1;32m    186\u001b[0m         \u001b[0;34m\"\"\"Context manager for acquiring a file.\"\"\"\u001b[0m\u001b[0;34m\u001b[0m\u001b[0;34m\u001b[0m\u001b[0m\n\u001b[0;32m--> 187\u001b[0;31m         \u001b[0mfile\u001b[0m\u001b[0;34m,\u001b[0m \u001b[0mcached\u001b[0m \u001b[0;34m=\u001b[0m \u001b[0mself\u001b[0m\u001b[0;34m.\u001b[0m\u001b[0m_acquire_with_cache_info\u001b[0m\u001b[0;34m(\u001b[0m\u001b[0mneeds_lock\u001b[0m\u001b[0;34m)\u001b[0m\u001b[0;34m\u001b[0m\u001b[0;34m\u001b[0m\u001b[0m\n\u001b[0m\u001b[1;32m    188\u001b[0m         \u001b[0;32mtry\u001b[0m\u001b[0;34m:\u001b[0m\u001b[0;34m\u001b[0m\u001b[0;34m\u001b[0m\u001b[0m\n\u001b[1;32m    189\u001b[0m             \u001b[0;32myield\u001b[0m \u001b[0mfile\u001b[0m\u001b[0;34m\u001b[0m\u001b[0;34m\u001b[0m\u001b[0m\n",
            "\u001b[0;32m/usr/local/lib/python3.7/dist-packages/xarray/backends/file_manager.py\u001b[0m in \u001b[0;36m_acquire_with_cache_info\u001b[0;34m(self, needs_lock)\u001b[0m\n\u001b[1;32m    203\u001b[0m                     \u001b[0mkwargs\u001b[0m \u001b[0;34m=\u001b[0m \u001b[0mkwargs\u001b[0m\u001b[0;34m.\u001b[0m\u001b[0mcopy\u001b[0m\u001b[0;34m(\u001b[0m\u001b[0;34m)\u001b[0m\u001b[0;34m\u001b[0m\u001b[0;34m\u001b[0m\u001b[0m\n\u001b[1;32m    204\u001b[0m                     \u001b[0mkwargs\u001b[0m\u001b[0;34m[\u001b[0m\u001b[0;34m\"mode\"\u001b[0m\u001b[0;34m]\u001b[0m \u001b[0;34m=\u001b[0m \u001b[0mself\u001b[0m\u001b[0;34m.\u001b[0m\u001b[0m_mode\u001b[0m\u001b[0;34m\u001b[0m\u001b[0;34m\u001b[0m\u001b[0m\n\u001b[0;32m--> 205\u001b[0;31m                 \u001b[0mfile\u001b[0m \u001b[0;34m=\u001b[0m \u001b[0mself\u001b[0m\u001b[0;34m.\u001b[0m\u001b[0m_opener\u001b[0m\u001b[0;34m(\u001b[0m\u001b[0;34m*\u001b[0m\u001b[0mself\u001b[0m\u001b[0;34m.\u001b[0m\u001b[0m_args\u001b[0m\u001b[0;34m,\u001b[0m \u001b[0;34m**\u001b[0m\u001b[0mkwargs\u001b[0m\u001b[0;34m)\u001b[0m\u001b[0;34m\u001b[0m\u001b[0;34m\u001b[0m\u001b[0m\n\u001b[0m\u001b[1;32m    206\u001b[0m                 \u001b[0;32mif\u001b[0m \u001b[0mself\u001b[0m\u001b[0;34m.\u001b[0m\u001b[0m_mode\u001b[0m \u001b[0;34m==\u001b[0m \u001b[0;34m\"w\"\u001b[0m\u001b[0;34m:\u001b[0m\u001b[0;34m\u001b[0m\u001b[0;34m\u001b[0m\u001b[0m\n\u001b[1;32m    207\u001b[0m                     \u001b[0;31m# ensure file doesn't get overriden when opened again\u001b[0m\u001b[0;34m\u001b[0m\u001b[0;34m\u001b[0m\u001b[0;34m\u001b[0m\u001b[0m\n",
            "\u001b[0;32msrc/netCDF4/_netCDF4.pyx\u001b[0m in \u001b[0;36mnetCDF4._netCDF4.Dataset.__init__\u001b[0;34m()\u001b[0m\n",
            "\u001b[0;32msrc/netCDF4/_netCDF4.pyx\u001b[0m in \u001b[0;36mnetCDF4._netCDF4._ensure_nc_success\u001b[0;34m()\u001b[0m\n",
            "\u001b[0;31mOSError\u001b[0m: [Errno -68] NetCDF: I/O failure: b'https://podaac-opendap.jpl.nasa.gov/opendap/allData/ghrsst/data/GDS2/L4/GLOB/JPL/MUR/v4.1/2002/152/20020601090000-JPL-L4_GHRSST-SSTfnd-MUR-GLOB-v02.0-fv04.1.nc'"
          ]
        }
      ]
    },
    {
      "cell_type": "code",
      "source": [
        "!pip install zarr-eosdis-store"
      ],
      "metadata": {
        "id": "XDHofXXNh9Kn",
        "colab": {
          "base_uri": "https://localhost:8080/"
        },
        "outputId": "c132eaf0-ed6e-444a-905a-d48635c76cf9"
      },
      "execution_count": 204,
      "outputs": [
        {
          "output_type": "stream",
          "name": "stdout",
          "text": [
            "Looking in indexes: https://pypi.org/simple, https://us-python.pkg.dev/colab-wheels/public/simple/\n",
            "\u001b[31mERROR: Could not find a version that satisfies the requirement zarr-eosdis-store (from versions: none)\u001b[0m\n",
            "\u001b[31mERROR: No matching distribution found for zarr-eosdis-store\u001b[0m\n"
          ]
        }
      ]
    },
    {
      "cell_type": "code",
      "source": [
        "pip install zarr-eosdis-store"
      ],
      "metadata": {
        "colab": {
          "base_uri": "https://localhost:8080/"
        },
        "id": "aZOIwekaHJ9G",
        "outputId": "b4bf9534-c33b-4343-aceb-2e4d9a6c98ba"
      },
      "execution_count": 206,
      "outputs": [
        {
          "output_type": "stream",
          "name": "stdout",
          "text": [
            "Looking in indexes: https://pypi.org/simple, https://us-python.pkg.dev/colab-wheels/public/simple/\n",
            "\u001b[31mERROR: Could not find a version that satisfies the requirement zarr-eosdis-store (from versions: none)\u001b[0m\n",
            "\u001b[31mERROR: No matching distribution found for zarr-eosdis-store\u001b[0m\n"
          ]
        }
      ]
    },
    {
      "cell_type": "code",
      "source": [
        "!pip install zarr-eosdis-store-main.zip"
      ],
      "metadata": {
        "colab": {
          "base_uri": "https://localhost:8080/"
        },
        "id": "-f3KFL8THQFK",
        "outputId": "e074699d-9197-4909-8f28-46dc02d847f4"
      },
      "execution_count": 207,
      "outputs": [
        {
          "output_type": "stream",
          "name": "stdout",
          "text": [
            "Looking in indexes: https://pypi.org/simple, https://us-python.pkg.dev/colab-wheels/public/simple/\n",
            "Processing ./zarr-eosdis-store-main.zip\n",
            "Requirement already satisfied: CacheControl>=0.12.6 in /usr/local/lib/python3.7/dist-packages (from zarr-eosdis-store==0.1.3) (0.12.11)\n",
            "Requirement already satisfied: requests>=2.23.0 in /usr/local/lib/python3.7/dist-packages (from zarr-eosdis-store==0.1.3) (2.28.1)\n",
            "Collecting requests-futures>=1.0.0\n",
            "  Downloading requests_futures-1.0.0-py2.py3-none-any.whl (7.4 kB)\n",
            "Collecting zarr>=2.7.1\n",
            "  Downloading zarr-2.12.0-py3-none-any.whl (185 kB)\n",
            "\u001b[K     |████████████████████████████████| 185 kB 5.4 MB/s \n",
            "\u001b[?25hCollecting ipypb~=0.5\n",
            "  Downloading ipypb-0.5.2-py3-none-any.whl (8.6 kB)\n",
            "Requirement already satisfied: xarray~=0.16 in /usr/local/lib/python3.7/dist-packages (from zarr-eosdis-store==0.1.3) (0.20.2)\n",
            "Collecting numcodecs>=0.8.1\n",
            "  Downloading numcodecs-0.10.0-cp37-cp37m-manylinux_2_17_x86_64.manylinux2014_x86_64.whl (6.6 MB)\n",
            "\u001b[K     |████████████████████████████████| 6.6 MB 2.2 MB/s \n",
            "\u001b[31mERROR: Package 'zarr-eosdis-store' requires a different Python: 3.7.13 not in '>=3.8'\u001b[0m\n",
            "\u001b[?25h"
          ]
        }
      ]
    },
    {
      "cell_type": "code",
      "source": [
        "!pip install git+https://github.com/nasa/zarr-eosdis-store.git@main#egg=zarr-eosdis-store"
      ],
      "metadata": {
        "colab": {
          "base_uri": "https://localhost:8080/"
        },
        "id": "SDg371jVHWl3",
        "outputId": "5c5798e0-f2fc-4eca-b02e-cb03a70cba5d"
      },
      "execution_count": 209,
      "outputs": [
        {
          "output_type": "stream",
          "name": "stdout",
          "text": [
            "Looking in indexes: https://pypi.org/simple, https://us-python.pkg.dev/colab-wheels/public/simple/\n",
            "Collecting zarr-eosdis-store\n",
            "  Cloning https://github.com/nasa/zarr-eosdis-store.git (to revision main) to /tmp/pip-install-no10f_el/zarr-eosdis-store_2b03a61d1fc7489d90c0b8ace462167b\n",
            "  Running command git clone -q https://github.com/nasa/zarr-eosdis-store.git /tmp/pip-install-no10f_el/zarr-eosdis-store_2b03a61d1fc7489d90c0b8ace462167b\n",
            "Requirement already satisfied: CacheControl>=0.12.6 in /usr/local/lib/python3.7/dist-packages (from zarr-eosdis-store) (0.12.11)\n",
            "Requirement already satisfied: requests>=2.23.0 in /usr/local/lib/python3.7/dist-packages (from zarr-eosdis-store) (2.28.1)\n",
            "Collecting requests-futures>=1.0.0\n",
            "  Using cached requests_futures-1.0.0-py2.py3-none-any.whl (7.4 kB)\n",
            "Collecting zarr>=2.7.1\n",
            "  Using cached zarr-2.12.0-py3-none-any.whl (185 kB)\n",
            "Collecting ipypb~=0.5\n",
            "  Using cached ipypb-0.5.2-py3-none-any.whl (8.6 kB)\n",
            "Requirement already satisfied: xarray~=0.16 in /usr/local/lib/python3.7/dist-packages (from zarr-eosdis-store) (0.20.2)\n",
            "Collecting numcodecs>=0.8.1\n",
            "  Using cached numcodecs-0.10.0-cp37-cp37m-manylinux_2_17_x86_64.manylinux2014_x86_64.whl (6.6 MB)\n",
            "\u001b[31mERROR: Package 'zarr-eosdis-store' requires a different Python: 3.7.13 not in '>=3.8'\u001b[0m\n"
          ]
        }
      ]
    },
    {
      "cell_type": "code",
      "source": [
        "from eosdis_store import EosdisStore\n",
        "import zarr\n",
        "\n",
        "# Assumes you have set up .netrc with your Earthdata Login information\n",
        "f = zarr.open(EosdisStore('https://example.com/your/data/file.nc4'))\n",
        "\n",
        "# Read metadata and data from f using the Zarr API\n",
        "print(f['parameter_name'][0:0:0])"
      ],
      "metadata": {
        "colab": {
          "base_uri": "https://localhost:8080/",
          "height": 478
        },
        "id": "EddE8p9hHqNJ",
        "outputId": "f1ba107c-9a8f-465e-847c-3f85d6529a53"
      },
      "execution_count": 211,
      "outputs": [
        {
          "output_type": "error",
          "ename": "ModuleNotFoundError",
          "evalue": "ignored",
          "traceback": [
            "\u001b[0;31m---------------------------------------------------------------------------\u001b[0m",
            "\u001b[0;31mModuleNotFoundError\u001b[0m                       Traceback (most recent call last)",
            "\u001b[0;32m<ipython-input-211-6ab2f1568f21>\u001b[0m in \u001b[0;36m<module>\u001b[0;34m()\u001b[0m\n\u001b[0;32m----> 1\u001b[0;31m \u001b[0;32mimport\u001b[0m \u001b[0mEosdisStore\u001b[0m\u001b[0;34m\u001b[0m\u001b[0;34m\u001b[0m\u001b[0m\n\u001b[0m\u001b[1;32m      2\u001b[0m \u001b[0;32mimport\u001b[0m \u001b[0mzarr\u001b[0m\u001b[0;34m\u001b[0m\u001b[0;34m\u001b[0m\u001b[0m\n\u001b[1;32m      3\u001b[0m \u001b[0;34m\u001b[0m\u001b[0m\n\u001b[1;32m      4\u001b[0m \u001b[0;31m# Assumes you have set up .netrc with your Earthdata Login information\u001b[0m\u001b[0;34m\u001b[0m\u001b[0;34m\u001b[0m\u001b[0;34m\u001b[0m\u001b[0m\n\u001b[1;32m      5\u001b[0m \u001b[0mf\u001b[0m \u001b[0;34m=\u001b[0m \u001b[0mzarr\u001b[0m\u001b[0;34m.\u001b[0m\u001b[0mopen\u001b[0m\u001b[0;34m(\u001b[0m\u001b[0mEosdisStore\u001b[0m\u001b[0;34m(\u001b[0m\u001b[0;34m'https://example.com/your/data/file.nc4'\u001b[0m\u001b[0;34m)\u001b[0m\u001b[0;34m)\u001b[0m\u001b[0;34m\u001b[0m\u001b[0;34m\u001b[0m\u001b[0m\n",
            "\u001b[0;31mModuleNotFoundError\u001b[0m: No module named 'EosdisStore'",
            "",
            "\u001b[0;31m---------------------------------------------------------------------------\u001b[0;32m\nNOTE: If your import is failing due to a missing package, you can\nmanually install dependencies using either !pip or !apt.\n\nTo view examples of installing some common dependencies, click the\n\"Open Examples\" button below.\n\u001b[0;31m---------------------------------------------------------------------------\u001b[0m\n"
          ],
          "errorDetails": {
            "actions": [
              {
                "action": "open_url",
                "actionText": "Open Examples",
                "url": "/notebooks/snippets/importing_libraries.ipynb"
              }
            ]
          }
        }
      ]
    },
    {
      "cell_type": "code",
      "source": [
        "!pip install EosdisStore"
      ],
      "metadata": {
        "colab": {
          "base_uri": "https://localhost:8080/"
        },
        "id": "5F92ob56IIZY",
        "outputId": "825ee27f-f8a2-4963-98a3-d31cc16f1e11"
      },
      "execution_count": 212,
      "outputs": [
        {
          "output_type": "stream",
          "name": "stdout",
          "text": [
            "Looking in indexes: https://pypi.org/simple, https://us-python.pkg.dev/colab-wheels/public/simple/\n",
            "\u001b[31mERROR: Could not find a version that satisfies the requirement EosdisStore (from versions: none)\u001b[0m\n",
            "\u001b[31mERROR: No matching distribution found for EosdisStore\u001b[0m\n"
          ]
        }
      ]
    },
    {
      "cell_type": "code",
      "source": [
        "from google.colab import drive\n",
        "drive.mount('/content/gdrive')"
      ],
      "metadata": {
        "colab": {
          "base_uri": "https://localhost:8080/"
        },
        "id": "536MKiPrIVBe",
        "outputId": "79fa27c4-51e0-478f-d7f1-00702848a4cf"
      },
      "execution_count": 217,
      "outputs": [
        {
          "output_type": "stream",
          "name": "stdout",
          "text": [
            "Mounted at /content/gdrive\n"
          ]
        }
      ]
    },
    {
      "cell_type": "code",
      "source": [
        "!unzip /content/zarr-eosdis-store-main.zip"
      ],
      "metadata": {
        "colab": {
          "base_uri": "https://localhost:8080/"
        },
        "id": "pTHBdJETIYnN",
        "outputId": "bacde7be-471c-4876-f473-febcf350d736"
      },
      "execution_count": 218,
      "outputs": [
        {
          "output_type": "stream",
          "name": "stdout",
          "text": [
            "Archive:  /content/zarr-eosdis-store-main.zip\n",
            "15790b875926185846eb3dc4e34596c8050ceda1\n",
            "   creating: zarr-eosdis-store-main/\n",
            " extracting: zarr-eosdis-store-main/.coveragerc  \n",
            " extracting: zarr-eosdis-store-main/.flake8  \n",
            "   creating: zarr-eosdis-store-main/.github/\n",
            "  inflating: zarr-eosdis-store-main/.github/release-drafter.yml  \n",
            "   creating: zarr-eosdis-store-main/.github/workflows/\n",
            "  inflating: zarr-eosdis-store-main/.github/workflows/draft-release.yml  \n",
            "  inflating: zarr-eosdis-store-main/.github/workflows/publish-release.yml  \n",
            "  inflating: zarr-eosdis-store-main/.github/workflows/tests.yml  \n",
            "  inflating: zarr-eosdis-store-main/.gitignore  \n",
            "  inflating: zarr-eosdis-store-main/CHANGELOG.md  \n",
            "  inflating: zarr-eosdis-store-main/LICENSE  \n",
            " extracting: zarr-eosdis-store-main/MANIFEST.in  \n",
            "  inflating: zarr-eosdis-store-main/Makefile  \n",
            "  inflating: zarr-eosdis-store-main/README.rst  \n",
            "   creating: zarr-eosdis-store-main/docs/\n",
            "  inflating: zarr-eosdis-store-main/docs/Makefile  \n",
            "   creating: zarr-eosdis-store-main/docs/_static/\n",
            " extracting: zarr-eosdis-store-main/docs/_static/.gitkeep  \n",
            "  inflating: zarr-eosdis-store-main/docs/api.rst  \n",
            "  inflating: zarr-eosdis-store-main/docs/collections.rst  \n",
            "  inflating: zarr-eosdis-store-main/docs/conf.py  \n",
            "  inflating: zarr-eosdis-store-main/docs/index.rst  \n",
            "   creating: zarr-eosdis-store-main/eosdis_store/\n",
            "  inflating: zarr-eosdis-store-main/eosdis_store/__init__.py  \n",
            "  inflating: zarr-eosdis-store-main/eosdis_store/dmrpp.py  \n",
            "  inflating: zarr-eosdis-store-main/eosdis_store/stores.py  \n",
            " extracting: zarr-eosdis-store-main/eosdis_store/version.py  \n",
            "   creating: zarr-eosdis-store-main/presentation/\n",
            "  inflating: zarr-eosdis-store-main/presentation/background.md  \n",
            "  inflating: zarr-eosdis-store-main/presentation/example.ipynb  \n",
            "   creating: zarr-eosdis-store-main/presentation/images/\n",
            "  inflating: zarr-eosdis-store-main/presentation/images/output_12_2.png  \n",
            "  inflating: zarr-eosdis-store-main/presentation/images/output_15_1.png  \n",
            " extracting: zarr-eosdis-store-main/presentation/images/output_18_2.png  \n",
            "  inflating: zarr-eosdis-store-main/presentation/images/output_3_1.png  \n",
            "  inflating: zarr-eosdis-store-main/presentation/images/output_5_1.png  \n",
            "  inflating: zarr-eosdis-store-main/presentation/images/output_7_1.png  \n",
            "  inflating: zarr-eosdis-store-main/presentation/images/output_9_2.png  \n",
            "  inflating: zarr-eosdis-store-main/presentation/images/request-overhead.png  \n",
            "  inflating: zarr-eosdis-store-main/presentation/images/summary.png  \n",
            "  inflating: zarr-eosdis-store-main/presentation/requirements.txt  \n",
            "  inflating: zarr-eosdis-store-main/presentation/tutorial.ipynb  \n",
            "  inflating: zarr-eosdis-store-main/requirements-dev.txt  \n",
            "  inflating: zarr-eosdis-store-main/requirements.txt  \n",
            "   creating: zarr-eosdis-store-main/scripts/\n",
            "  inflating: zarr-eosdis-store-main/scripts/mkdmrpp  \n",
            "  inflating: zarr-eosdis-store-main/setup.py  \n",
            "   creating: zarr-eosdis-store-main/tests/\n",
            "   creating: zarr-eosdis-store-main/tests/fixtures/\n",
            "  inflating: zarr-eosdis-store-main/tests/fixtures/20200911000001-JPL-L2P_GHRSST-SSTskin-MODIS_A-N-v02.0-fv01.0.nc.dmrpp  \n",
            "  inflating: zarr-eosdis-store-main/tests/fixtures/20200911000001-JPL-L2P_GHRSST-SSTskin-MODIS_A-N-v02.0-fv01.0.zarr.json  \n",
            "  inflating: zarr-eosdis-store-main/tests/fixtures/20210715090000-JPL-L4_GHRSST-SSTfnd-MUR-GLOB-v02.0-fv04.1.nc.dmrpp  \n",
            "  inflating: zarr-eosdis-store-main/tests/fixtures/3B-HHR.MS.MRG.3IMERG.20051022-S000000-E002959.0000.V06B.HDF5.dmrpp  \n",
            "  inflating: zarr-eosdis-store-main/tests/fixtures/3B-HHR.MS.MRG.3IMERG.20051022-S000000-E002959.0000.V06B.zarr.json  \n",
            "  inflating: zarr-eosdis-store-main/tests/fixtures/f16_ssmis_20051022v7.nc.dmrpp  \n",
            "  inflating: zarr-eosdis-store-main/tests/fixtures/f16_ssmis_20051022v7.zarr.json  \n",
            "  inflating: zarr-eosdis-store-main/tests/test_dmrpp.py  \n",
            "  inflating: zarr-eosdis-store-main/tests/test_stores.py  \n"
          ]
        }
      ]
    },
    {
      "cell_type": "code",
      "source": [
        "#cd /content/zarr-eosdis-store-main/setup.py\n",
        "import setup.py"
      ],
      "metadata": {
        "colab": {
          "base_uri": "https://localhost:8080/",
          "height": 392
        },
        "id": "MRdrpMqxI_QD",
        "outputId": "6de6990f-7bdb-490e-89e5-2bd5d6321354"
      },
      "execution_count": 222,
      "outputs": [
        {
          "output_type": "error",
          "ename": "ModuleNotFoundError",
          "evalue": "ignored",
          "traceback": [
            "\u001b[0;31m---------------------------------------------------------------------------\u001b[0m",
            "\u001b[0;31mModuleNotFoundError\u001b[0m                       Traceback (most recent call last)",
            "\u001b[0;32m<ipython-input-222-8ed84fcec122>\u001b[0m in \u001b[0;36m<module>\u001b[0;34m()\u001b[0m\n\u001b[1;32m      1\u001b[0m \u001b[0;31m#cd /content/zarr-eosdis-store-main/setup.py\u001b[0m\u001b[0;34m\u001b[0m\u001b[0;34m\u001b[0m\u001b[0;34m\u001b[0m\u001b[0m\n\u001b[0;32m----> 2\u001b[0;31m \u001b[0;32mimport\u001b[0m \u001b[0msetup\u001b[0m\u001b[0;34m.\u001b[0m\u001b[0mpy\u001b[0m\u001b[0;34m\u001b[0m\u001b[0;34m\u001b[0m\u001b[0m\n\u001b[0m",
            "\u001b[0;31mModuleNotFoundError\u001b[0m: No module named 'setup'",
            "",
            "\u001b[0;31m---------------------------------------------------------------------------\u001b[0;32m\nNOTE: If your import is failing due to a missing package, you can\nmanually install dependencies using either !pip or !apt.\n\nTo view examples of installing some common dependencies, click the\n\"Open Examples\" button below.\n\u001b[0;31m---------------------------------------------------------------------------\u001b[0m\n"
          ],
          "errorDetails": {
            "actions": [
              {
                "action": "open_url",
                "actionText": "Open Examples",
                "url": "/notebooks/snippets/importing_libraries.ipynb"
              }
            ]
          }
        }
      ]
    },
    {
      "cell_type": "code",
      "source": [
        "! python setup.py"
      ],
      "metadata": {
        "colab": {
          "base_uri": "https://localhost:8080/"
        },
        "id": "Yp_64U-xJQev",
        "outputId": "18feb3d2-72ca-4a52-db15-55b07e96ca52"
      },
      "execution_count": 223,
      "outputs": [
        {
          "output_type": "stream",
          "name": "stdout",
          "text": [
            "python3: can't open file 'setup.py': [Errno 2] No such file or directory\n"
          ]
        }
      ]
    },
    {
      "cell_type": "code",
      "source": [
        ""
      ],
      "metadata": {
        "id": "-v9Jw4bgJZCi"
      },
      "execution_count": null,
      "outputs": []
    }
  ]
}
